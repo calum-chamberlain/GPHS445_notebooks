{
 "cells": [
  {
   "cell_type": "markdown",
   "metadata": {},
   "source": [
    "# Fourier Analysis\n",
    "\n",
    "Any time-series can be equally well-represented in the frequency-domain. In this notebook we will look at what seismic data look like in the frequency-domain, and think about the effect of different recording instrumentation on seismic data.\n",
    "\n",
    "The main topics that we will cover are:\n",
    "1. Fourier transforms of seismic data;\n",
    "2. Comparison of teleseismic signals and local signals in the frequency-domain;\n",
    "3. The effect of filters in the frequency domain."
   ]
  },
  {
   "cell_type": "markdown",
   "metadata": {},
   "source": [
    "# 1.0 Fourier Transforms\n",
    "\n",
    "Fourier transforms convert from periodic functions (in our case, periodic in time or space, defined as $a(t)$ below) to a Fourier series of orthogonal sine and cosine functions:\n",
    "\n",
    "\\begin{equation*}\n",
    "    a(t) = \\frac{1}{2}a_0 + \\sum_{n=1}^{\\infty}(c_n cos(n{\\omega}t) + s_n sin(n{\\omega}t))\n",
    "\\end{equation*}\n",
    "\n",
    "When $s_n$ and $c_n$ are Fourier coefficients, $t$ is time, $a$ is amplitude and $\\omega$ is angular frequency.\n",
    "\n",
    "In seismology we use the Fourier transform to convert from the time domain to the frequency domain. Because we are dealing with digital data (discretely sampled) we make use of the discrete Fourier transform (DFT). We will often refer to the Fast Fourier transform (FFT) as well, which is an efficient computational\n",
    "implementation of the DFT. The Fourier transform allows us to study the frequencies that make up our seismogram - you will use this in future when computing moment magnitudes and thinking about earthquake source processes.  Over longer time-series we can also look at the the frequencies of various normal modes of the earth.\n",
    "\n",
    "One of the most common uses for the Fourier transform in seismology is when filtering seismograms.  Filters work as convolutions in the time domain, or multiplications in the frequency domain.  Because multiplication is more computationally efficient than convolution, filtering is commonly (*but not exclusively! - ObsPy filters in the time domain*) done in the frequency domain.  Of key importance here is that we can convert back from the frequency domain to the time domain using the inverse Fourier transform (IFT).\n",
    "\n",
    "In this notebook we will look at the Fourier spectrums of a few different signals - we will also play with decimating our data and see what effect this has on the frequency content.\n",
    "\n",
    "Note: Discrete Fourier transforms assume that the data can be **represented by periodic functions**, thus the data that you are transforming is assumed to be periodic and should start and end at the same value to allow wraparound.  One way that we cope with this in seismology is to detrend our data (so that the start and end are zero).\n",
    "\n",
    "**You should always detrend your data before doing any time-frequency conversion.** It can also be helpful to [taper](https://docs.obspy.org/master/packages/autogen/obspy.core.trace.Trace.taper.html) your data to suppress large amplitudes close to the end of traces."
   ]
  },
  {
   "cell_type": "code",
   "execution_count": null,
   "metadata": {
    "tags": []
   },
   "outputs": [],
   "source": [
    "# Set up notebook\n",
    "%matplotlib widget\n",
    "import numpy as np\n",
    "import matplotlib.pyplot as plt\n",
    "from obspy import read\n",
    "plt.style.use('ggplot')"
   ]
  },
  {
   "cell_type": "markdown",
   "metadata": {},
   "source": [
    "We will use a function in the \"tools\" module (open the `gphs445_utilities/tools.py` file to have a look at the contents)\n",
    "to make some plots of the Fourier transform of out data."
   ]
  },
  {
   "cell_type": "code",
   "execution_count": null,
   "metadata": {
    "tags": [
     "nbval-ignore-output"
    ]
   },
   "outputs": [],
   "source": [
    "from gphs445_utilities.tools import plot_fft\n",
    "\n",
    "plot_fft?"
   ]
  },
  {
   "cell_type": "code",
   "execution_count": null,
   "metadata": {
    "tags": [
     "nbval-ignore-output"
    ]
   },
   "outputs": [],
   "source": [
    "sample_frequency = 50\n",
    "dt = 1 / sample_frequency\n",
    "sine_freq = 5\n",
    "x = np.arange(0.0, 50 * (1 / sine_freq), dt)\n",
    "y = np.sin(x * sine_freq * 2 * np.pi)\n",
    "\n",
    "fig = plot_fft(x, y)"
   ]
  },
  {
   "cell_type": "markdown",
   "metadata": {},
   "source": [
    "With this simple sine curve we get a nice clear peak in the frequency spectra at the frequency of the input sine curve.\n",
    "\n",
    "Lets try adding in a second, higher frequency since curve and see what that looks like.\n",
    "\n",
    "**Exercise**: In the code below, try adding another different sine wave of a similar frequency and see if you can resolve it in the frequency domain.  Change the `second_sine_freq` variable and re-run a few times to get a feel for this.\n",
    "\n",
    "After you have played around with adding sine waves, try multiplying - you should see an effect similar to the constructive and destructive interference we discussed when talking about surface waves."
   ]
  },
  {
   "cell_type": "code",
   "execution_count": null,
   "metadata": {
    "tags": [
     "nbval-ignore-output"
    ]
   },
   "outputs": [],
   "source": [
    "second_sine_freq = 2.5\n",
    "\n",
    "y_2 = y + np.sin(x * second_sine_freq * 2 * np.pi)\n",
    "\n",
    "fig = plot_fft(x, y_2)"
   ]
  },
  {
   "cell_type": "markdown",
   "metadata": {},
   "source": [
    "Now lets try some real data.\n",
    "\n",
    "A call to ObsPy's `read()` function without an argument will load their example data."
   ]
  },
  {
   "cell_type": "code",
   "execution_count": null,
   "metadata": {
    "tags": [
     "nbval-ignore-output"
    ]
   },
   "outputs": [],
   "source": [
    "tr = read()[0]\n",
    "x = np.arange(0, tr.stats.npts * tr.stats.delta, tr.stats.delta)\n",
    "y = tr.data\n",
    "\n",
    "fig = plot_fft(x, y)"
   ]
  },
  {
   "cell_type": "markdown",
   "metadata": {},
   "source": [
    "**Question:** What is the dominant frequency here?\n",
    "\n",
    "You can see it in the raw data - this background low-frequency energy is often related to the \n",
    "Earth's noise microseisms. Also note that the amplitude of the frequency spectra falls off with\n",
    "increasing frequency. We will use this later to estimate moment magnitude.\n",
    "\n",
    "Lets see what our spectra looks like when we decimate our seismic data. Decimation is when we regularly remove samples to reduce the sampling-rate. For example, decimating 100 Hz data by a factor of two will retain every second sample resulting in a sampling-rate of 50 Hz, decimating by a factor of 10 would retain only every tenth sample resulting in a sampling-rate of 10 Hz."
   ]
  },
  {
   "cell_type": "code",
   "execution_count": null,
   "metadata": {
    "tags": [
     "nbval-ignore-output"
    ]
   },
   "outputs": [],
   "source": [
    "tr_decimated = tr.copy().decimate(2)  \n",
    "# Decimation work \"in-place\" on the data, so we work on a copy to retain the original data\n",
    "\n",
    "x = np.arange(0, tr_decimated.stats.npts * tr_decimated.stats.delta, tr_decimated.stats.delta)\n",
    "y = tr_decimated.data\n",
    "\n",
    "fig = plot_fft(x, y)"
   ]
  },
  {
   "cell_type": "markdown",
   "metadata": {},
   "source": [
    "**Exercise:** Play around with other decimation factors.  What do you see happening to the spectra of the decimated seismogram?"
   ]
  },
  {
   "cell_type": "markdown",
   "metadata": {},
   "source": [
    "---\n",
    "\n",
    "## 1.1: Gibb's phenomenon\n",
    "\n",
    "Because we are using a DFT (Discrete Fourier Transform), which uses only a finite number of terms to\n",
    "describe the frequency content, we are susceptible to Gibb's phenomenon. Gibb's phenomemon occurs where\n",
    "there are discontinuities in the time-series (or equally, when there are discontinuities in the\n",
    "spectrum).  A disconinuity (e.g. something like a step) cannot to represented accurately with a \n",
    "finite number of sine waves: a step in the time-domain contains infinite frequencies.  The oscillations\n",
    "associated with the overshoot of sine-waves is known as Gibb's phenomenon.\n",
    "\n",
    "In the below example we artificially introduce a step into the previous time-series. Note that\n",
    "this step offset also introduces a step at the start and end of the time-series because the\n",
    "Fourier transform assumes the signal is periodic.  We see that our frequency spectra \"rings\",\n",
    "constantly returning to an almost flat spectrum up to the Nyquist."
   ]
  },
  {
   "cell_type": "code",
   "execution_count": null,
   "metadata": {
    "tags": [
     "nbval-ignore-output"
    ]
   },
   "outputs": [],
   "source": [
    "step_position = int(tr.stats.npts / 2)\n",
    "x = np.arange(0, tr.stats.npts * tr.stats.delta, tr.stats.delta)\n",
    "tr_stepped = tr.copy()\n",
    "tr_stepped.data[step_position:] -= 1e4\n",
    "y = tr_stepped.data\n",
    "\n",
    "fig = plot_fft(x, y)"
   ]
  },
  {
   "cell_type": "markdown",
   "metadata": {},
   "source": [
    "Similarly, if we generate a frequency spectrum with a step in it, the time-series generated by the\n",
    "inverse Fourier transform will ring:"
   ]
  },
  {
   "cell_type": "code",
   "execution_count": null,
   "metadata": {
    "tags": [
     "nbval-ignore-output"
    ]
   },
   "outputs": [],
   "source": [
    "from scipy import fftpack\n",
    "N = 500\n",
    "dt = 0.05\n",
    "step_position = 2  # Step position in Hz\n",
    "sample_frequency = 1.0 / dt\n",
    "nyquist = sample_frequency / 2.0\n",
    "\n",
    "# Check that the step is within the resolved part of the amplitude spectra\n",
    "if step_position >= nyquist:\n",
    "    raise NotImplementedError(\n",
    "        \"Step should be below nyquist: {0}\".format(nyquist))\n",
    "\n",
    "# Make a flat frequency spectra first, of amplitude 10\n",
    "frequency_amplitudes = np.ones(N) * 10\n",
    "# Work out the frequency sample interval\n",
    "frequency_interval = nyquist / int(N / 2)\n",
    "\n",
    "# Insert a step into the amplitude spectra\n",
    "step_location = int(step_position / frequency_interval)\n",
    "frequency_amplitudes[step_location:] = np.ones_like(\n",
    "    frequency_amplitudes[step_location:])\n",
    "# Make the frequency sample points for plotting\n",
    "frequency_samples = np.linspace(0.0, 1.0 / (2. * dt), int(N / 2))\n",
    "\n",
    "# Do the inverse FFT\n",
    "yr = fftpack.ifft(frequency_amplitudes)\n",
    "x = np.linspace(0.0, N * dt, N)\n",
    "\n",
    "# Plot the stepped amplitude spectra\n",
    "fig, ax = plt.subplots(nrows=2, figsize=(10, 8))\n",
    "ax[0].loglog(frequency_samples, 2./N * np.abs(frequency_amplitudes[:N//2]), \n",
    "             label=\"Frequency spectra\")\n",
    "ax[0].set_xlabel(\"Frequency (Hz)\")\n",
    "ax[0].autoscale(enable=True, axis='x', tight=True)\n",
    "ax[0].legend()\n",
    "\n",
    "# Plot the resulting time-series from the inverse FFT\n",
    "ax[1].plot(x, np.real(yr), label=\"Reconstructed Time-series\")\n",
    "ax[1].set_xlabel(\"Time (s)\")\n",
    "ax[1].autoscale(enable=True, axis='both', tight=True)\n",
    "_ = ax[1].legend()"
   ]
  },
  {
   "cell_type": "markdown",
   "metadata": {},
   "source": [
    "You will note that there are lots of oscillations at the start and end of the time-series.\n",
    "\n",
    "**Exercise:** Try playing with the length of the Fourier transform (N) and see what it does \n",
    "to the ringing - what happens as you increase N and why do you think this happens? What do\n",
    "you think that means for the accuracy of Fourier transforms of short seismic data?  \n",
    "\n",
    "Hint, you need long time-series to accuretely represent long-period waves like the Earth's\n",
    "normal modes."
   ]
  },
  {
   "cell_type": "markdown",
   "metadata": {},
   "source": [
    "# 2.0: Teleseismic vs. local signals\n",
    "\n",
    "You know from class that:\n",
    "1. Body waves attenuate at a rate of $a ~ r^{-2}$ where $a$ is amplitude and $r$ is distance;\n",
    "2. Surface waves attenuate at a rate of $a ~ r^{-1}$;\n",
    "3. Earthquakes start with a broad frequency range (more on source frequency content later: the relative amplitudes of different frequencies are different for different magnitudes; and are diagnostic of moment magnitude!)\n",
    "\n",
    "That means that when we record close to an earthquake source we are likely to see higher frequencies than if we record at teleseismic distances.\n",
    "\n",
    "Lets have a look at that for a recent earthquake in NZ.\n",
    "\n",
    "We will start by getting some data from GeoNet for a relatively nearby station (be careful not to get a station that has clipped!), then we will get some data from IRIS for a teleseismic station for the same earthquake. I'm going to grab a station from the [global seismic network](https://www.fdsn.org/networks/detail/II/). You can use the IRIS [gmap](http://ds.iris.edu/gmap/#network=II&planet=earth) web-app to find stations."
   ]
  },
  {
   "cell_type": "code",
   "execution_count": null,
   "metadata": {
    "tags": []
   },
   "outputs": [],
   "source": [
    "# Get data\n",
    "from obspy import UTCDateTime\n",
    "from obspy.clients.fdsn import Client\n",
    "\n",
    "eventid = \"2016p661332\"\n",
    "geonet_station = {\n",
    "    \"network\": \"NZ\",\n",
    "    \"station\": \"MXZ\", \n",
    "    \"location\": \"10\", \n",
    "    \"channel\": \"HH?\"}\n",
    "iris_station = {\n",
    "    \"network\": \"II\", \n",
    "    \"station\": \"KDAK\", \n",
    "    \"location\": \"10\", \n",
    "    \"channel\": \"BH?\"}\n",
    "data_length = 3600\n",
    "\n",
    "geonet_client = Client(\"GEONET\")\n",
    "iris_client = Client(\"IRIS\")\n",
    "\n",
    "event = geonet_client.get_events(eventid=eventid)[0]\n",
    "origin = event.preferred_origin()\n",
    "\n",
    "local_st = geonet_client.get_waveforms(\n",
    "    starttime=origin.time, endtime=origin.time + data_length,\n",
    "    **geonet_station)\n",
    "print(local_st)\n",
    "\n",
    "tele_st = iris_client.get_waveforms(\n",
    "    starttime=origin.time, endtime=origin.time + data_length,\n",
    "    **iris_station)\n",
    "print(tele_st)"
   ]
  },
  {
   "cell_type": "markdown",
   "metadata": {},
   "source": [
    "Now we can plot the two waveforms in the frequency and time domain using our function from before."
   ]
  },
  {
   "cell_type": "code",
   "execution_count": null,
   "metadata": {
    "tags": [
     "nbval-ignore-output"
    ]
   },
   "outputs": [],
   "source": [
    "# Plot local\n",
    "tr = local_st.select(channel=\"HHZ\")[0]\n",
    "x = np.arange(0, tr.stats.npts * tr.stats.delta, tr.stats.delta)\n",
    "y = tr.data\n",
    "fig = plot_fft(x, y, reconstruct=False)"
   ]
  },
  {
   "cell_type": "code",
   "execution_count": null,
   "metadata": {
    "tags": [
     "nbval-ignore-output"
    ]
   },
   "outputs": [],
   "source": [
    "# Plot teleseismic\n",
    "tr = tele_st.select(channel=\"BHZ\")[0]\n",
    "x = np.arange(0, tr.stats.npts * tr.stats.delta, tr.stats.delta)\n",
    "y = tr.data\n",
    "fig = plot_fft(x, y, reconstruct=False)"
   ]
  },
  {
   "cell_type": "markdown",
   "metadata": {},
   "source": [
    "**Question:** What are the dominant frequencies here? \n",
    "How do the body waves and surface waves differ? *Hint:* use some code like:\n",
    "```python\n",
    "tr = tele_st.select(channel=\"BHZ\").slice(\n",
    "    starttime=origin.time + 2500, endtime=origin.time + 3500)[0]\n",
    "```\n",
    "to \"slice\" a chunk of the waveform you are interested in.\n",
    "\n",
    "Try plotting spectrograms as well to look at how frequency varies with time."
   ]
  },
  {
   "cell_type": "code",
   "execution_count": null,
   "metadata": {
    "tags": []
   },
   "outputs": [],
   "source": [
    "# Your plots here."
   ]
  },
  {
   "cell_type": "markdown",
   "metadata": {},
   "source": [
    "**Exercise:** Try doing this with another event of your choosing - try and pick something around the M 6 range, much bigger and local stations start to clip, much smaller and the signals become less clear teleseismically.\n",
    "\n",
    "Just change the code above to whatever event and stations you want!"
   ]
  },
  {
   "cell_type": "markdown",
   "metadata": {},
   "source": [
    "---\n",
    "# 3.0: Filtering\n",
    "\n",
    "Filtering seismic data alows us to increase the signal-to-noise ratio of specific frequency ranges that we are interested in.  \n",
    "Remember that (from Stein and Wysession Figure 2.4-7) the range of frequencies for different types of seismic waves cover a wide\n",
    "spectrum, with:\n",
    "- reflection seismology often interested in signals in the 10Hz-1kHz range,\n",
    "- earthquake seismology usually concerned with data in the 0.01-50Hz range and\n",
    "- studies of normal modes thinking about frequencies in the 0.00001-0.01Hz range.\n",
    "\n",
    "Surface waves also have different frequency content to body waves.  Because of this, we can filter the same data in different *pass-bands* to look at different features of the seismogram. A nice example of this is the seismogram of the Kaikoura 2016 M7.8 earthquake, recorded on White Island. While the Kaikoura earthquake was happening, the aftershock sequence of the Te Araroa M7.2 earthquake was going on (see [Warren-Smith et al., 2018](https://www.sciencedirect.com/science/article/pii/S0012821X17306568)\n",
    "for more details). By filtering in different pass-bands we can see the surface waves from Kaikoura as well as the more local seismicity, which has a higher frequency content."
   ]
  },
  {
   "cell_type": "markdown",
   "metadata": {},
   "source": [
    "Lets download some data from GeoNet for the [WIZ station](https://www.geonet.org.nz/data/network/sensor/WIZ), which is a \n",
    "broadband sensor on the White Island volcano.\n",
    "We will get data from the Kaikoura origin-time to quarter of an hour later."
   ]
  },
  {
   "cell_type": "code",
   "execution_count": null,
   "metadata": {
    "tags": [
     "nbval-ignore-output"
    ]
   },
   "outputs": [],
   "source": [
    "client = Client(\"GEONET\")\n",
    "kaikoura_origin_time = UTCDateTime(2016, 11, 13, 11, 2, 56)\n",
    "st = client.get_waveforms(\n",
    "    network=\"NZ\", station=\"WIZ\", channel=\"HHZ\", location=\"10\", \n",
    "    starttime=kaikoura_origin_time, endtime=kaikoura_origin_time + (15 * 60))\n",
    "fig = st.plot(fig=plt.figure())"
   ]
  },
  {
   "cell_type": "markdown",
   "metadata": {},
   "source": [
    "We can see the initial high-frequency body waves followed by strong low-frequency energy of the surface waves. \n",
    "You will also note that it takes a reasonable time for the first arriving seismic energy to reach this far from the earthquake.\n",
    "\n",
    "We can visualise the frequencies nicely by looking at a spectrogram.  The spectrogram computes the frequency content\n",
    "in moving windows along the trace and plots the normalised power of those frequencies as different colours. In the spectrogram\n",
    "below you can clearly see the dominant low-frequency energy."
   ]
  },
  {
   "cell_type": "code",
   "execution_count": null,
   "metadata": {
    "tags": [
     "nbval-ignore-output"
    ]
   },
   "outputs": [],
   "source": [
    "fig = st[0].spectrogram(dbscale=True, cmap=\"plasma\")"
   ]
  },
  {
   "cell_type": "markdown",
   "metadata": {},
   "source": [
    "Lets try and looks at just the high-frequencies.  Obspy has a convenient [`filter`](https://docs.obspy.org/master/packages/autogen/obspy.core.trace.Trace.filter.html#obspy.core.trace.Trace.filter) method on Stream and Trace objects.  We will use that before digging in to how\n",
    "filtering works."
   ]
  },
  {
   "cell_type": "code",
   "execution_count": null,
   "metadata": {
    "tags": [
     "nbval-ignore-output"
    ]
   },
   "outputs": [],
   "source": [
    "st_highpass = st.copy().filter(\"highpass\", freq=2.)\n",
    "st_highpass.plot(fig=plt.figure())\n",
    "plt.show()\n",
    "st_highpass.spectrogram(dbscale=True, cmap=\"plasma\")"
   ]
  },
  {
   "cell_type": "markdown",
   "metadata": {},
   "source": [
    "We can see a lot of emergent energy in the 1-15 Hz range associated with body waves from the Kaikoura earthquake itself in the beginning of this wave-train. However, the later bursts of energy are likely a more local source. We couldn't see those in the original, broadband waveform. Lets have a look at one of those more local events."
   ]
  },
  {
   "cell_type": "code",
   "execution_count": null,
   "metadata": {
    "tags": [
     "nbval-ignore-output"
    ]
   },
   "outputs": [],
   "source": [
    "fig = st_highpass.plot(\n",
    "    starttime=UTCDateTime(2016, 11, 13, 11, 13, 5),\n",
    "    endtime=UTCDateTime(2016, 11, 13, 11, 13, 10), fig=plt.figure())"
   ]
  },
  {
   "cell_type": "markdown",
   "metadata": {},
   "source": [
    "This is likely to be an aftershock of the Te Araroa sequence - there is dominant high-frequency energy. \n",
    "Unfortunately, stations closer to the Te Araroa epicenter have clipped waveforms - the signal from Kaikoura\n",
    "exceeded the dynamic range of the sensor, which makes filter operations unstable.\n",
    "\n",
    "Now lets try and just look at the low-frequency energy."
   ]
  },
  {
   "cell_type": "code",
   "execution_count": null,
   "metadata": {
    "tags": [
     "nbval-ignore-output"
    ]
   },
   "outputs": [],
   "source": [
    "st_lowpass = st.copy().filter(\"lowpass\", freq=.25)\n",
    "fig = st_lowpass.plot(fig=plt.figure())"
   ]
  },
  {
   "cell_type": "markdown",
   "metadata": {},
   "source": [
    "Now that we know that filters can be useful for various things, including separating energy from different sources, lets think about how filters work.\n",
    "\n",
    "## How filters work\n",
    "\n",
    "Filters work to remove energy at certain frequencies. This involves convolving some filter series with your data. In the time domain, convolution can be\n",
    "a slow process, however, in the frequency domain, convolutions are simple multiplications. Because multiplication is a less computationally\n",
    "expensive operation than convolution, filtering is often undertaken in the frequency domain.\n",
    "\n",
    "In the next section we will think about some basic linear filters and look at different bandpass types, different filter window types, and\n",
    "play with the order of the filters and the frequency ranges used.\n",
    "\n",
    "First we will import a few functions from the `gphs445_utilities.tools` package that:\n",
    "1. Design a filter in the frequency domain using scipy's \n",
    "   [iirfilter](https://docs.scipy.org/doc/scipy/reference/generated/scipy.signal.iirfilter.html#scipy.signal.iirfilter) function.\n",
    "2. Apply the filter and plot the results in the time and frequency domains.\n",
    "\n",
    "It is a good idea to have a quick look at the code for these functions (open the gphs445_utilities/tools.py file to see the code) and try and understand the basic idea in the `filter_and_plot` function.\n",
    "\n",
    "It is worth noting that these filters only work for fairly simple filters, and in more general cases the use of\n",
    "[second-order sections](https://docs.scipy.org/doc/scipy/reference/generated/scipy.signal.sosfilt.html#scipy.signal.sosfilt)\n",
    "is recommended.  Obspy uses *second-order sections* internally when you use the *filter* method."
   ]
  },
  {
   "cell_type": "code",
   "execution_count": null,
   "metadata": {
    "tags": []
   },
   "outputs": [],
   "source": [
    "from gphs445_utilities.tools import design_filter, filter_and_plot"
   ]
  },
  {
   "cell_type": "markdown",
   "metadata": {},
   "source": [
    "### Lowpass filtering\n",
    "\n",
    "We will first set up a simple low-pass filter.  Low-pass filters **remove** high frequencies, and allow low frequencies\n",
    "to *pass-through*.\n",
    "\n",
    "**Exercise:** Play with different window types, low passes and filter orders."
   ]
  },
  {
   "cell_type": "code",
   "execution_count": null,
   "metadata": {
    "tags": [
     "nbval-ignore-output"
    ]
   },
   "outputs": [],
   "source": [
    "tr = read()[0]\n",
    "tr = tr.detrend()  # Data must be de-trended before filtering\n",
    "\n",
    "filt = design_filter(\n",
    "    sample_rate=tr.stats.sampling_rate, data_length=tr.stats.npts,\n",
    "    corners=[0.75], order=4, window_type=\"butter\",\n",
    "    filter_type=\"lowpass\")\n",
    "fig = filter_and_plot(tr.data, tr.stats.delta, filt=filt)"
   ]
  },
  {
   "cell_type": "markdown",
   "metadata": {},
   "source": [
    "### Highpass filtering\n",
    "\n",
    "High-pass filters **remove** low frequencies, and allow high frequencies to *pass-through*.\n",
    "\n",
    "**Exercise:** Play with different window types, high passes and filter orders."
   ]
  },
  {
   "cell_type": "code",
   "execution_count": null,
   "metadata": {
    "tags": [
     "nbval-ignore-output"
    ]
   },
   "outputs": [],
   "source": [
    "tr = read()[0]\n",
    "tr = tr.detrend()  # Data must be de-trended before filtering\n",
    "\n",
    "filt = design_filter(\n",
    "    sample_rate=tr.stats.sampling_rate, data_length=tr.stats.npts,\n",
    "    corners=[2.], order=4, window_type=\"butter\",\n",
    "    filter_type=\"highpass\")\n",
    "fig = filter_and_plot(tr.data, tr.stats.delta, filt=filt)"
   ]
  },
  {
   "cell_type": "markdown",
   "metadata": {},
   "source": [
    "### Bandpass filtering\n",
    "\n",
    "Bandpass filters allow a range of frequencies to pass through.  We commonly refer to the frequencies that are retained as\n",
    "the *pass-band*.\n",
    "\n",
    "**Exercise:** Play with different window types and low and high cuts. You can add more than two corners to make a more complex filter."
   ]
  },
  {
   "cell_type": "code",
   "execution_count": null,
   "metadata": {
    "tags": [
     "nbval-ignore-output"
    ]
   },
   "outputs": [],
   "source": [
    "tr = read()[0]\n",
    "tr = tr.detrend()  # Data must be de-trended before filtering\n",
    "\n",
    "filt = design_filter(\n",
    "    sample_rate=tr.stats.sampling_rate, data_length=tr.stats.npts,\n",
    "    corners=[5., 20.], order=4, window_type=\"butterworth\",\n",
    "    filter_type=\"bandpass\", attenuation=10)\n",
    "fig = filter_and_plot(tr.data, tr.stats.delta, filt=filt)"
   ]
  },
  {
   "cell_type": "markdown",
   "metadata": {},
   "source": [
    "## Causality\n",
    "\n",
    "*The theory of filters is not covered extensively in these notebooks and students are referred to the **Time-Series Analysis and Inverse Theory** textbook by Gubbins for more details*\n",
    "\n",
    "So far we have just looked at single-pass filters.  These output a causal waveform: there is no signal before the real signal arrived, however peaks in the waveform might be shifted. We can change this by thinking about the *phase* of our filter. \n",
    "\n",
    "When we compute Fourier transforms we obtain a real part and a complex part. The real part is the amplitude spectrum that we have looked at so far, but the complex part describes the phase spectrum. We have not been picky about the phase of our filters thus far, and there are an infinite number of possible causal filters for a single amplitude spectrum. Usually the minimum phase filter is used, which concentrates energy at the front of the time series. The above filters were mixed phase - energy was distributed throughout the time-series.\n",
    "\n",
    "To avoid shifting peaks in the waveform we can use a **zero-phase** filter.  This zero-phase filter is *acausal*: it is symmertical about the origin time and shifts some energy to occur *before* the original signal. Note that this can result in apparently earlier arrivals, you must be careful when applying filters prior to estimating seismic phase arrivals! Zerophase filters can be acheived by running the same filter forwards then backwards.  This has the effect of increasing the order of the final filter (e.g. a 2nd order filter becomes a 4th order filter). \n",
    "\n",
    "Below we demonstrate this using obspy filter method:"
   ]
  },
  {
   "cell_type": "code",
   "execution_count": null,
   "metadata": {
    "tags": [
     "nbval-ignore-output"
    ]
   },
   "outputs": [],
   "source": [
    "tr_highpass = tr.copy().filter(\"highpass\", freq=1)  \n",
    "# Remove background noise to simplify comparison\n",
    "tr_acausal = tr_highpass.copy().filter(\n",
    "    \"lowpass\", freq=10, corners=2, zerophase=True)\n",
    "tr_causal = tr_highpass.copy().filter(\n",
    "    \"lowpass\", freq=10, corners=4, zerophase=False)\n",
    "plot_start, plot_end = (4.0, 6.0)\n",
    "\n",
    "fig, ax = plt.subplots()\n",
    "x_time = np.arange(0, tr.stats.npts * tr.stats.delta, tr.stats.delta)\n",
    "plot_start_ind = int(plot_start * tr.stats.sampling_rate)\n",
    "plot_end_ind = int(plot_end * tr.stats.sampling_rate)\n",
    "trace_dict = {\n",
    "    \"original\": tr_highpass,\n",
    "    \"causal\": tr_causal,\n",
    "    \"acausal\": tr_acausal}\n",
    "for label, _tr in trace_dict.items():\n",
    "    ax.plot(x_time[plot_start_ind: plot_end_ind], \n",
    "            _tr.data[plot_start_ind: plot_end_ind],\n",
    "            label=label)\n",
    "ax.legend()\n",
    "_ = ax.set_xlabel(\"Time(s)\")  # do not check returned value"
   ]
  },
  {
   "cell_type": "markdown",
   "metadata": {},
   "source": [
    "If you focus on the first arrival you will note that the causal waveform only has energy after the original\n",
    "waveform has energy, but the peaks are shifted.  In contrast, the acausal waveform has energy before\n",
    "the original, but the peaks generally align with the original.\n",
    "\n",
    "**Exercise:** Try changing the order of the above filters and see what happens.  The order of the filter affects the slope of the filter.  If the slope is too steep you may see ringing effects due to\n",
    "Gibb's phenomenon."
   ]
  },
  {
   "cell_type": "markdown",
   "metadata": {},
   "source": [
    "## Poles and Zeros\n",
    "\n",
    "Filters are often represented as *poles and zeros*. These are the roots of the denominator and\n",
    "numerator of the transfer function resepectively. For example, if we have a filter defined by:\n",
    "\\begin{equation*}\n",
    "    H(s) = \\frac{s + 2}{s^2 + 0.25}\n",
    "\\end{equation*}\n",
    "the zeros of this filter would be a single zero at $s=-2$, and the poles would be at \n",
    "$s=i\\sqrt{0.25}, -i\\sqrt{0.25}$.\n",
    "\n",
    "Transfer functions for butterworth filters, one of the more commonly used filters in seismology\n",
    "because it has no ripple (unlike the Chebychev filters, however Butterworth filters have the disadvantage that they can introduce time and phase shifts)\n",
    "take the form:\n",
    "\\begin{equation*}\n",
    "    G^2(\\omega) = |H(i\\omega)|^2 = \\frac{G_0^2}{1 + \\frac{i\\omega}{i\\omega_c}^{2n}}\n",
    "\\end{equation*}\n",
    "where $\\omega$ is the angular frequency, $\\omega_c$ is the cut-off frequency (the frequency that should result in a reduction in amplitude gain of 50%), $G$ is\n",
    "gain, $G_0$ is the gain at DC ($\\omega=0$ and $n$ is the order of the filter.  Note that the number\n",
    "of poles is equal to $2n$.\n",
    "\n",
    "Below is a demontration of increasing the order of a butterworth lowpass filter.  Note that the\n",
    "slope increases with the order approaching a discontinuity.  The ideal filter would remove all\n",
    "unwanted frequencies and retain all wanted frequencies without attenuation.  This would look\n",
    "like a step in the frequency domain, however, such a discontinuity is unstable and results\n",
    "in *ringing* also know as Gibb's phenomenon."
   ]
  },
  {
   "cell_type": "code",
   "execution_count": null,
   "metadata": {
    "tags": [
     "nbval-ignore-output"
    ]
   },
   "outputs": [],
   "source": [
    "fig, ax = plt.subplots()\n",
    "N = 86400\n",
    "sample_rate = 50\n",
    "dt = 1 / sample_rate\n",
    "for order in [2, 4, 8, 16]:\n",
    "    filt = design_filter(\n",
    "        sample_rate=sample_rate, data_length=N,\n",
    "        corners=[0.5], order=order, window_type=\"butter\",\n",
    "        filter_type=\"lowpass\")\n",
    "    x_freq = np.linspace(0.0, 1.0 / (2. * dt), int(N / 2))\n",
    "    ax.semilogx(x_freq, 2./N * np.abs(filt[:N//2]),\n",
    "                label=\"order: {0}\".format(order))\n",
    "_ = ax.legend()  # Do not check returned value"
   ]
  },
  {
   "cell_type": "markdown",
   "metadata": {},
   "source": [
    "## Resampling\n",
    "\n",
    "Earlier we made use of naive decimation of data (taking every $n^{th}$ sample), however, there are\n",
    "better/different ways to change the sampling rate of data.  We will explore two methods, the first\n",
    "is frequency domain resampling, employed by obspy in the `.resample` method.  This effectively\n",
    "re-maps the frequency spectra of your data onto a differently sampled frequency range.  One advantage of this method is that you can resample to any frequency, instead of just integer division of the original sampling-rate. Frequency-domain resampling can also\n",
    "be used for either downsampling or upsampling data.  However, because it uses the FFT it is\n",
    "susceptible to all the usual things associated with FFTs, most notable, Gibb's phenomenon.\n",
    "The cell below contains a function to do this frequency domain resampling, the basic outline\n",
    "of this function is:\n",
    "1. Compute the (real) FFT of the data\n",
    "2. Convolve the spectra with a [hanning window](https://numpy.org/devdocs/reference/generated/numpy.hanning.html) (other windows are available)\n",
    "    - This has the effect of stabalising discontinuities at the edge of the spectra\n",
    "3. Re-map the spectra onto a new frequency range\n",
    "    - Here we use the numpy `interp` function (if we were just decimating by an\n",
    "      integer factor, we could just remove the spectra above the new Nyquist)\n",
    "4. Compute the inverse (real) FFT to get the newly resampled data.\n",
    "\n",
    "The code for this is a little complicated, but you should have a quick look at it. It is in the\n",
    "`gphs445_utilities/tools.py` file."
   ]
  },
  {
   "cell_type": "code",
   "execution_count": null,
   "metadata": {
    "tags": [
     "nbval-ignore-output"
    ]
   },
   "outputs": [],
   "source": [
    "from gphs445_utilities.tools import resample_and_plot\n",
    "\n",
    "tr_resampled, fig = resample_and_plot(tr, 20)\n",
    "\n",
    "fig.show()"
   ]
  },
  {
   "cell_type": "markdown",
   "metadata": {},
   "source": [
    "The plots generated show the original data overlain with the resampled data.  You will note that the low frequencies are mostly maintained in the time-series, but we lose high-frequency energy.  In the spectra plots the resampled spectra looks very similar to the original spectra up to the newly\n",
    "selected Nyquist, where the resampled spectra stops.  There is a slight shift between the spectra,\n",
    "which shows up as misallignment at low frequencies (note this shift is throughout the spectra, but\n",
    "the log scale makes it more obvious at low frequencies).  This shift is not real and arrises\n",
    "due to the original spectra being padded with an adidtional zero at the start.\n",
    "\n",
    "**Exercise:** Try different sampling frequencies. \n",
    "What do the data look like when you over-sample them?\n",
    "What about when you drop down to 1.5 Hz?"
   ]
  },
  {
   "cell_type": "markdown",
   "metadata": {},
   "source": [
    "### Upsampling - sinc resampling\n",
    "\n",
    "Often in earthquake seismology we want to reduce the sampling rate after recording (remembering that\n",
    "even if we later increase the sampling rate we will not be able to capture additional energy above\n",
    "the Nyquist frequency).  However, sometimes we need data at high sampling rates.  Resampling in\n",
    "the frequency domain allows us to do this, but often does not accurately capture the peak amplitudes\n",
    "of the data.  \n",
    "\n",
    "One of the better methods of doing this kind of upsampling is to use sinc interpolation.  The sinc\n",
    "function:\n",
    "\\begin{equation*}\n",
    "    \\operatorname{sinc}(x) = \\frac{\\sin(x)}{x}\n",
    "\\end{equation*}\n",
    "is the theoretical optimum reconstruction filter for band-limited signals - it is the closest\n",
    "periodic function to a delta (spike):"
   ]
  },
  {
   "cell_type": "code",
   "execution_count": null,
   "metadata": {
    "tags": [
     "nbval-ignore-output"
    ]
   },
   "outputs": [],
   "source": [
    "x = np.arange(-100, 100, 0.01)\n",
    "y = np.sin(x) / x\n",
    "fig, ax = plt.subplots()\n",
    "ax.plot(x, y)\n",
    "plt.show()"
   ]
  },
  {
   "cell_type": "markdown",
   "metadata": {},
   "source": [
    "If we add multiple sinc functions together we can start to construct box-car functions (functions that are zero-valued everywhere except in a range where the function is equal to some \n",
    "non-zero value).  This happens because we can align the functions such that deconstuctive \n",
    "interferance happens everywhere apart from at the peak of the function:"
   ]
  },
  {
   "cell_type": "code",
   "execution_count": null,
   "metadata": {
    "tags": [
     "nbval-ignore-output"
    ]
   },
   "outputs": [],
   "source": [
    "x = np.arange(-100, 600, 0.01)\n",
    "y = np.zeros_like(x)\n",
    "sinc = np.sin(x) / x\n",
    "y += sinc\n",
    "for shift_no in range(1, 50000):\n",
    "    y[shift_no:] += sinc[0:-shift_no]\n",
    "fig, ax = plt.subplots()\n",
    "ax.plot(x, y)\n",
    "plt.show()"
   ]
  },
  {
   "cell_type": "markdown",
   "metadata": {},
   "source": [
    "We can make use of the sinc function to interpolate seismic data.  For finite data we cannot use a\n",
    "true sinc function, but we can use Lanczos resampling which is a finite version of sinc interpolation, and is supported by obspy.  Below is a\n",
    "demonstration of how frequency domain resampling reduces the amplitude of peaks in data, but\n",
    "Lanczos does a good job of matching the original data."
   ]
  },
  {
   "cell_type": "code",
   "execution_count": null,
   "metadata": {
    "tags": [
     "nbval-ignore-output"
    ]
   },
   "outputs": [],
   "source": [
    "new_rate = 500\n",
    "\n",
    "tr_trimmed = tr.copy().trim(\n",
    "    tr.stats.starttime + 4.5, tr.stats.starttime + 5.5).detrend()\n",
    "tr_resampled = tr_trimmed.copy().resample(new_rate)\n",
    "tr_lanczos = tr_trimmed.copy().interpolate(\n",
    "    new_rate, method=\"lanczos\", a=20)\n",
    "\n",
    "fig, ax = plt.subplots(1)\n",
    "ax.scatter(\n",
    "    np.arange(0, tr_trimmed.stats.npts * tr_trimmed.stats.delta,\n",
    "              tr_trimmed.stats.delta),\n",
    "    tr_trimmed.data, label=\"original\")\n",
    "ax.plot(\n",
    "    np.arange(0, tr_resampled.stats.npts * tr_resampled.stats.delta,\n",
    "              tr_resampled.stats.delta),\n",
    "    tr_resampled.data, label=\"f-domain resampled\")\n",
    "ax.plot(\n",
    "    np.arange(0, tr_lanczos.stats.npts * tr_lanczos.stats.delta,\n",
    "              tr_lanczos.stats.delta),\n",
    "    tr_lanczos.data, label=\"lanczos resampled\")\n",
    "ax.legend()\n",
    "plt.show()"
   ]
  },
  {
   "cell_type": "markdown",
   "metadata": {},
   "source": [
    "## Conclusion\n",
    "\n",
    "That concludes our look into Fourier transforms, filtering and resampling.  The ideas behind frequency domain operations\n",
    "are often hidden in seismic software, so it is important to understand what you are doing to your\n",
    "data: the filtering that you perform can increase signal-to-noise ratio, but you have to be careful\n",
    "that you are not destroying or altering something that you care about (e.g. time or amplitude)."
   ]
  }
 ],
 "metadata": {
  "kernelspec": {
   "display_name": "Python 3 (ipykernel)",
   "language": "python",
   "name": "python3"
  },
  "language_info": {
   "codemirror_mode": {
    "name": "ipython",
    "version": 3
   },
   "file_extension": ".py",
   "mimetype": "text/x-python",
   "name": "python",
   "nbconvert_exporter": "python",
   "pygments_lexer": "ipython3",
   "version": "3.10.8"
  }
 },
 "nbformat": 4,
 "nbformat_minor": 4
}
