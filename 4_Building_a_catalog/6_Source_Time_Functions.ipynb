{
 "cells": [
  {
   "cell_type": "markdown",
   "metadata": {},
   "source": [
    "# Extended Sources\n",
    "\n",
    "So far we have considered earthquakes as point source of seismic energy.  This is clearly incorrect, and for moderate to\n",
    "large magnitude earthquakes, the difference between point sources and the true earthquake source can be resolvable with\n",
    "seismic data.  When we considered earthquake location, we were thinking about the earthquakes hypocentre: where the\n",
    "earthquake started.  Another commonly used \"point on a map\" type location is the centroid location: the centre of an\n",
    "earthquakes energy release.\n",
    "\n",
    "In this notebook we will consider the effects of an extended source on the observed seismograms.  We will briefly cover\n",
    "the ideas behind:\n",
    "- Moment-rate functions\n",
    "- Centroid moment tensors\n",
    "- Source models (Brune etc.)\n",
    "- Directivity"
   ]
  },
  {
   "cell_type": "markdown",
   "metadata": {},
   "source": [
    "# Get them to read one or more Kaikoura paper on the source model. Maybe compare the geodetic results to the teleseismic - think about resolution."
   ]
  },
  {
   "cell_type": "code",
   "execution_count": null,
   "metadata": {},
   "outputs": [],
   "source": []
  }
 ],
 "metadata": {
  "kernelspec": {
   "display_name": "Python 3",
   "language": "python",
   "name": "python3"
  },
  "language_info": {
   "codemirror_mode": {
    "name": "ipython",
    "version": 3
   },
   "file_extension": ".py",
   "mimetype": "text/x-python",
   "name": "python",
   "nbconvert_exporter": "python",
   "pygments_lexer": "ipython3",
   "version": "3.7.1"
  }
 },
 "nbformat": 4,
 "nbformat_minor": 2
}
