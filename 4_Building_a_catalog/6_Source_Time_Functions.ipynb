{
 "cells": [
  {
   "cell_type": "markdown",
   "metadata": {},
   "source": [
    "# Extended Sources\n",
    "\n",
    "So far we have considered earthquakes as point source of seismic energy.  This is clearly incorrect, and for moderate to\n",
    "large magnitude earthquakes, the difference between point sources and the true earthquake source can be resolvable with\n",
    "seismic data.  When we considered earthquake location, we were thinking about the earthquakes hypocentre: where the\n",
    "earthquake started.  Another commonly used \"point on a map\" type location is the centroid location: the centre of an\n",
    "earthquakes energy release.\n",
    "\n",
    "This topic is mostly covered by the reading highlighted in the text below."
   ]
  },
  {
   "cell_type": "markdown",
   "metadata": {},
   "source": [
    "## Source-time functions\n",
    "\n",
    "Earthquakes occur over some finite time. So far we have calculated the origin-time when locating earthquakes. The origin time is the time\n",
    "the earthquake rupture began. Earthquakes (in the crust) generally involve slip on faults and the time it takes for the fault to rupture\n",
    "is known as the rupture duration. The rupture duration is controlled by the length of the fault and the rupture velocity. In general the\n",
    "rupture velocity is 70-80% of the shear wave velocity, but in some cases (so-called supershear ruptures) the rupture velocity is higher\n",
    "than the shear wave velocity.  In these cases mach waves are created, as shown in the figure below from \n",
    "[Xia et al., 2004](https://science.sciencemag.org/content/303/5665/1859).\n",
    "\n",
    "<img alt=\"Supershear (Xia et al)\" align=\"center\" style=\"width:60%\" src=\"https://science.sciencemag.org/content/sci/303/5665/1859/F2.large.jpg\">\n",
    "\n",
    "Alongside finite rupture velocities (and therefore rupture durations), faults do not instantly switch from static to slipping at their maximum\n",
    "slip speed. The time associated with this is known as the rise time. In a simple Haskell source model the rise time is characterised as a simple\n",
    "ramp function. The convolution of the resulting boxcars characterised by rupture time and rise time result in a trapezoidal source-time or moment-rate\n",
    "function.\n",
    "\n",
    "<img alt=\"Stein and Wysession Fig 4.3-3\" align=\"centre\" style=\"width:40%\" src=\"http://levee.wustl.edu/seismology/book/chapter4/chap4_sr/4_3_03_s.jpg\">\n",
    "\n",
    "Note that this provides a simple explanation of rupture directivity effects. If the rupture is towards a recording site, the displacement pulses\n",
    "are shortened by amplified, whereas the reverse happens if the rupture direction is away from the recording site. This is similar to a Doppler\n",
    "effect. You can see this effect in the [simulation of shaking due to Kaikoura](https://www.youtube.com/watch?v=z1HWet9j070) by Yoshi Kaneko\n",
    "at GNS Science.\n",
    "\n",
    "You should read section 4.3.2 of Stein and Wysession for more information on source-time functions.\n",
    "\n",
    "The result of this on the seismic spectra can be modeled using sinc functions. Section 4.6.2 of Stein and Wysession provides a \n",
    "good description of this. The resulting spectra have two corners, as seen in the spectra in [the magnitudes notebook](4_magnitudes.ipynb).\n",
    "The code below makes a simple model of the resulting spectra, you can play around with the different parameters to see what effect it would\n",
    "have on the spectra."
   ]
  },
  {
   "cell_type": "code",
   "execution_count": 1,
   "metadata": {},
   "outputs": [],
   "source": [
    "%matplotlib inline\n",
    "import matplotlib.pyplot as plt\n",
    "plt.style.use('ggplot')\n",
    "import numpy as np\n",
    "\n",
    "def haskell(M0, Tr, Td, freqs, plot=True):\n",
    "    \"\"\"\n",
    "    Compute the Haskell source spectrum for given parameters\n",
    "    \n",
    "    :type M0: float\n",
    "    :param M0: Seismic moment\n",
    "    :type Tr: float\n",
    "    :param Tr: Rupture time in seconds\n",
    "    :type Td: float\n",
    "    :param Td: Rise time in seconds\n",
    "    :type freqs: `numpy.ndarray`\n",
    "    :param freqs: Frequencies to calculate for\n",
    "    \n",
    "    :returns: freqs, amplitudes\n",
    "    \"\"\"\n",
    "    amplitudes = np.zeros_like(freqs)\n",
    "    # Below first corner\n",
    "    amplitudes[np.where(freqs < 2 / Tr)] = np.log10(M0)\n",
    "    # Between first and second coreners\n",
    "    amplitudes[(2 / Tr <= freqs) & (freqs < 2 / Td)] = (\n",
    "        np.log10(M0) - np.log10(Tr / 2) -\n",
    "        np.log10(freqs[(2 / Tr <= freqs) & (freqs < 2 / Td)]))\n",
    "    # Above second corner\n",
    "    amplitudes[(2 / Td <= freqs)] = (\n",
    "        np.log10(M0) - np.log10(Tr * Td / 4) -\n",
    "        2 * np.log10(freqs[(2 / Td <= freqs)]))    \n",
    "    # Above is for log amplitudes, convert to amplitudes\n",
    "    amplitudes = 10 ** amplitudes\n",
    "    if plot:\n",
    "        fig, ax = plt.subplots(nrows=1, ncols=1, figsize=(12, 6))\n",
    "        ax.loglog(freqs, amplitudes)\n",
    "        ax.axvline(2 / Tr, color=\"b\", linestyle=\"--\", label=\"$2 / T_r$\")\n",
    "        ax.axvline(2 / Td, color=\"k\", linestyle=\"--\", label=\"$2 / T_d$\")\n",
    "        ax.legend()\n",
    "        return fig, freqs, amplitudes\n",
    "    return freqs, amplitudes"
   ]
  },
  {
   "cell_type": "code",
   "execution_count": 2,
   "metadata": {},
   "outputs": [
    {
     "data": {
      "image/png": "[encoded data removed]",
      "text/plain": [
       "<Figure size 864x432 with 1 Axes>"
      ]
     },
     "metadata": {},
     "output_type": "display_data"
    }
   ],
   "source": [
    "freqs = np.arange(0, 100, 0.001)\n",
    "fig, freqs, amplitudes = haskell(2.4e30, 120, 5, freqs, plot=True)"
   ]
  },
  {
   "cell_type": "markdown",
   "metadata": {},
   "source": [
    "## Stress drop and source properties\n",
    "\n",
    "Stress drop is the term used to describe the stress released in an earthquake. Section 4.6.3 of Stein and Wysession discusses this and you should\n",
    "read this section. Accurate estimation of stress drop, rupture direction and rupture velocity remains difficult, particularly in separating the\n",
    "source and path effects. One method is to use small earthquakes located nearby the earthquake of interest as an *empirical Green's function* and\n",
    "deconvolve this from the earthquake of interest (e.g. [Hough 1997](https://agupubs.onlinelibrary.wiley.com/doi/pdf/10.1029/96JB03488))."
   ]
  },
  {
   "cell_type": "markdown",
   "metadata": {},
   "source": [
    "## A real example: Kaikoura\n",
    "\n",
    "The 2016 M7.8 Kaikoura earthquake is a good example of an earthquake that obviously isn't a point source. More than 14 (possibly more than 20) faults were\n",
    "ruptured during the earthquake, and the influence of the subduction interface is still being debated in the scientific literature. Modelling such a complex\n",
    "source with disparate data has proven to be an interesting problem. You should read the following papers, focusing on the data used, methods and final models:\n",
    "- [Hamling et al., 2017](https://science.sciencemag.org/content/356/6334/eaam7194.abstract);\n",
    "- [Bai et al., 2017](https://agupubs.onlinelibrary.wiley.com/doi/full/10.1002/2017GL073717);\n",
    "- [Holden et al., 2017](https://agupubs.onlinelibrary.wiley.com/doi/full/10.1002/2017GL075301)\n",
    "\n",
    "and consider the how the different methods used to model the earthquake source have provided different models."
   ]
  },
  {
   "cell_type": "code",
   "execution_count": null,
   "metadata": {},
   "outputs": [],
   "source": []
  }
 ],
 "metadata": {
  "kernelspec": {
   "display_name": "Python 3",
   "language": "python",
   "name": "python3"
  },
  "language_info": {
   "codemirror_mode": {
    "name": "ipython",
    "version": 3
   },
   "file_extension": ".py",
   "mimetype": "text/x-python",
   "name": "python",
   "nbconvert_exporter": "python",
   "pygments_lexer": "ipython3",
   "version": "3.7.6"
  }
 },
 "nbformat": 4,
 "nbformat_minor": 2
}
