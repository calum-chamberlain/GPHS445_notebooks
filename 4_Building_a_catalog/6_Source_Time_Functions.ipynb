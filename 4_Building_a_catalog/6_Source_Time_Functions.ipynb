{
 "cells": [
  {
   "cell_type": "markdown",
   "metadata": {},
   "source": [
    "# Extended Sources\n",
    "\n",
    "So far we have considered earthquakes as point source of seismic energy.  This is clearly incorrect, and for moderate to\n",
    "large magnitude earthquakes, the difference between point sources and the true earthquake source can be resolvable with\n",
    "seismic data.  When we considered earthquake location, we were thinking about the earthquakes hypocentre: where the\n",
    "earthquake started.  Another commonly used \"point on a map\" type location is the centroid location: the centre of an\n",
    "earthquakes energy release.\n",
    "\n",
    "In this notebook we will consider the effects of an extended source on the observed seismograms.  We will briefly cover\n",
    "the ideas behind:\n",
    "- Moment-rate functions\n",
    "- Stress drop\n",
    "- Source models (Brune etc.)\n",
    "- Directivity and efficiency"
   ]
  },
  {
   "cell_type": "markdown",
   "metadata": {},
   "source": [
    "# Get them to read one or more Kaikoura paper on the source model. Maybe compare the geodetic results to the teleseismic - think about resolution."
   ]
  },
  {
   "cell_type": "code",
   "execution_count": null,
   "metadata": {},
   "outputs": [],
   "source": [
    "%matplotlib inline\n",
    "import matplotlib.pyplot as plt\n",
    "plt.style.use('ggplot')\n",
    "import numpy as np\n",
    "\n",
    "def haskell(M0, Tr, Td, freqs):\n",
    "    \"\"\"\n",
    "    Compute the Haskell source spectrum for given parameters\n",
    "    \n",
    "    :type M0: float\n",
    "    :param M0: Seismic moment\n",
    "    :type Tr: float\n",
    "    :param Tr: Rupture time in seconds\n",
    "    :type Td: float\n",
    "    :param Td: Rise time in seconds\n",
    "    :type freqs: `numpy.ndarray`\n",
    "    :param freqs: Frequencies to calculate for\n",
    "    \n",
    "    :returns: freqs, amplitudes\n",
    "    \"\"\"\n",
    "    amplitudes = np.zeros_like(freqs)\n",
    "    return freqs, amplitudes    \n",
    "    \n",
    "    \n",
    "\n",
    "def brune(M0, blah, freqs):\n",
    "    \"\"\"\n",
    "    \n",
    "    \"\"\"\n",
    "    amplitudes = np.zeros_like(freqs)\n",
    "    return freqs, amplitudes"
   ]
  }
 ],
 "metadata": {
  "kernelspec": {
   "display_name": "Python 3",
   "language": "python",
   "name": "python3"
  },
  "language_info": {
   "codemirror_mode": {
    "name": "ipython",
    "version": 3
   },
   "file_extension": ".py",
   "mimetype": "text/x-python",
   "name": "python",
   "nbconvert_exporter": "python",
   "pygments_lexer": "ipython3",
   "version": "3.7.1"
  }
 },
 "nbformat": 4,
 "nbformat_minor": 2
}
