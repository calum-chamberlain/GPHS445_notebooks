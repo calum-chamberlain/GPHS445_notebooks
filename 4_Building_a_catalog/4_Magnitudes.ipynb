{
 "cells": [
  {
   "cell_type": "markdown",
   "metadata": {},
   "source": [
    "# Magnitudes\n",
    "\n",
    "We commonly describe an earthquakes size based on it's magnitude. There are various magnitude scales in use, but all\n",
    "vary logarithmicly. In a general sense, the energy released by a magnitude 2 earthquake is ten times greater than a \n",
    "magnitude 1. However, most magnitude scales are not perfectly related to energy, only the moment magnitude ($M_W$) scale\n",
    "is tied directly to energy release.\n",
    "\n",
    "In this notebook we will look at how the following magnitudes are calculated:\n",
    "- Local Magnitude ($M_L$;\n",
    "- Coda-duration Magnitude ($M_D$);\n",
    "- Moment Magnitude ($M_W$);\n",
    "- W-phase derived Moment Magnitude ($M_{WW}$).\n",
    "\n",
    "The theory behind most of this can be found in Section 4.6 of Stein and Wysession. For more information on the W-phase\n",
    "moment magnitude method (which is now routinely in use by USGS for fast determination of large earthquake magnitudes),\n",
    "see [Duputel et al., 2012](https://academic.oup.com/gji/article/189/2/1125/621962).\n",
    "\n",
    "For a list of other commonly used scales, see the [USGS table of magnitude.](https://earthquake.usgs.gov/learn/topics/mag-intensity/magnitude-types.php)"
   ]
  },
  {
   "cell_type": "markdown",
   "metadata": {},
   "source": [
    "## Local Magnitude\n",
    "\n",
    "$M_L$ began life as the *Richter magnitude*, however, this is a magnitude scale with specific scaling parameters for Southern\n",
    "California. The same equation form used in the initial Richter scale is used elsewhere, but with appropriate attenuation\n",
    "parameters: thus, if anyone is caught discussing how large earthquakes are in New Zealand *on the Richter scale* they will\n",
    "be removed from the class!\n",
    "\n",
    "$M_L$ is based on the measurement of the peak amplitude in a waveform recorded by a *Wood-Anderson* seismometer. There are\n",
    "very few Wood-Anderson seismometers still in operation today, but we know what the instrument response of a Wood-Anderson\n",
    "instrument is, and can therefore simulate Wood-Anderson waveforms from other instruments.  The original Richter local magnitude\n",
    "scale is:\n",
    "\n",
    "\\begin{equation*}\n",
    "    M_L = \\log{A} + 2.76\\log{\\Delta} - 2.48\n",
    "\\end{equation*}\n",
    "where $A$ is the peak amplitude on a Wood-Anderson seismometer, $\\Delta$ is the epicentral distance. This only works\n",
    "well for shallow earthquakes. The second term effectively corrects for geometrical spreading, while the final factor\n",
    "is included to scale the magnitude.\n",
    "\n",
    "Recent work by [Michailos et al., 2019](https://agupubs.onlinelibrary.wiley.com/doi/pdf/10.1029/2018GC007743) derived\n",
    "a robust local magnitude scale for the Southern Alps tied to moment magnitude:\n",
    "\n",
    "\\begin{equation*}\n",
    "    M_L = \\log{A} + \\log{r} + \\eta r - S - 3.644\n",
    "\\end{equation*}\n",
    "where $r$ is the hypocentral distance, $\\eta$ is an attenutaion parameter, which, for $r\\le 60km$ is $1.2\\times 10^{-2}km^{-1}$\n",
    "and for $r>60km$ is $0.01\\times 10^{-2}km{-1}$. $S$ is a site dependent correction which incorporate local site effects. Geometrical\n",
    "spreading is assumed to be logarthimically related to $r$, with a gradient of 1.\n",
    "\n",
    "Lets look at how we would pick an amplitude for local magnitude for a nearby earthquake:"
   ]
  },
  {
   "cell_type": "code",
   "execution_count": null,
   "metadata": {},
   "outputs": [],
   "source": []
  },
  {
   "cell_type": "markdown",
   "metadata": {},
   "source": [
    "## Coda-duration Magnitude"
   ]
  },
  {
   "cell_type": "markdown",
   "metadata": {},
   "source": [
    "## Moment Magnitude"
   ]
  },
  {
   "cell_type": "markdown",
   "metadata": {},
   "source": [
    "## W-phase Moment Magnitude"
   ]
  }
 ],
 "metadata": {
  "kernelspec": {
   "display_name": "Python 3",
   "language": "python",
   "name": "python3"
  },
  "language_info": {
   "codemirror_mode": {
    "name": "ipython",
    "version": 3
   },
   "file_extension": ".py",
   "mimetype": "text/x-python",
   "name": "python",
   "nbconvert_exporter": "python",
   "pygments_lexer": "ipython3",
   "version": "3.7.1"
  }
 },
 "nbformat": 4,
 "nbformat_minor": 2
}
