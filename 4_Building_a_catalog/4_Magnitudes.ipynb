{
 "cells": [
  {
   "cell_type": "markdown",
   "metadata": {},
   "source": [
    "# Magnitudes\n",
    "\n",
    "We commonly describe an earthquakes size based on it's magnitude. There are various magnitude scales in use, but all\n",
    "vary logarithmically. In a general sense, the energy released by a magnitude 2 earthquake is ten times greater than a \n",
    "magnitude 1. However, most magnitude scales are not perfectly related to energy, only the moment magnitude ($M_W$) scale\n",
    "is tied directly to energy release.\n",
    "\n",
    "In this notebook we will look at how the following magnitudes are calculated:\n",
    "- Local Magnitude ($M_L$;\n",
    "- Coda-duration Magnitude ($M_D$);\n",
    "- Moment Magnitude ($M_W$);\n",
    "- W-phase derived Moment Magnitude ($M_{WW}$).\n",
    "\n",
    "The theory behind most of this can be found in Section 4.6 of Stein and Wysession. For more information on the W-phase\n",
    "moment magnitude method (which is now routinely in use by USGS for fast determination of large earthquake magnitudes),\n",
    "see [Duputel et al., 2012](https://academic.oup.com/gji/article/189/2/1125/621962).\n",
    "\n",
    "For a list of other commonly used scales, see the [USGS table of magnitude.](https://earthquake.usgs.gov/learn/topics/mag-intensity/magnitude-types.php)"
   ]
  },
  {
   "cell_type": "markdown",
   "metadata": {},
   "source": [
    "## Local Magnitude\n",
    "\n",
    "$M_L$ began life as the *Richter magnitude*, however, this is a magnitude scale with specific scaling parameters for Southern\n",
    "California. The same equation form used in the initial Richter scale is used elsewhere, but with appropriate attenuation\n",
    "parameters: if the Richter scale is used in New Zealand it doesn't give the correct result (as well will see when we try to use it!).\n",
    "\n",
    "$M_L$ is based on the measurement of the peak amplitude in a waveform recorded by a *Wood-Anderson* seismometer. There are\n",
    "very few Wood-Anderson seismometers still in operation today, but we know what the instrument response of a Wood-Anderson\n",
    "instrument is, and can therefore simulate Wood-Anderson waveforms from other instruments.  The original Richter local magnitude\n",
    "scale is:\n",
    "\n",
    "\\begin{equation*}\n",
    "    M_L = \\log{A} + 2.76\\log{\\Delta} - 2.48\n",
    "\\end{equation*}\n",
    "where $A$ is the peak amplitude (in micro-meters) on a Wood-Anderson seismometer, $\\Delta$ is the epicentral distance. This only works\n",
    "well for shallow earthquakes. The second term effectively corrects for geometrical spreading, while the final factor\n",
    "is included to scale the magnitude.\n",
    "\n",
    "The adapted local magnitude scale for New Zealand is:\n",
    "\\begin{equation*}\n",
    "    M_L = \\log{A} + \\log{\\Delta} + 0.0029\\Delta + S\n",
    "\\end{equation*}\n",
    "where S is a station correction term. See [Ristau, 2009](https://pubs.geoscienceworld.org/ssa/bssa/article/99/3/1841/342119/comparison-of-magnitude-estimates-for-new-zealand)\n",
    "for a discussion of some of the magnitudes in use in New Zealand.\n",
    "\n",
    "Recent work by [Michailos et al., 2019](https://agupubs.onlinelibrary.wiley.com/doi/pdf/10.1029/2018GC007743) derived\n",
    "a robust local magnitude scale for the Southern Alps tied to moment magnitude:\n",
    "\n",
    "\\begin{equation*}\n",
    "    M_L = \\log{A} + \\log{r} + \\eta r - S - 3.644\n",
    "\\end{equation*}\n",
    "where $r$ is the hypocentral distance, $\\eta$ is an attenuation parameter, which, for $r\\le 60km$ is $1.2\\times 10^{-2}km^{-1}$\n",
    "and for $r>60km$ is $0.01\\times 10^{-2}km{-1}$. $S$ is a site dependent correction which incorporate local site effects. Geometrical\n",
    "spreading is assumed to be logarithmically related to $r$, with a gradient of 1.\n",
    "\n",
    "Lets look at how we would pick an amplitude for local magnitude for a nearby earthquake. We will use the `seismic_picker.py` applet again\n",
    "which has been extended to allow amplitude and duration picks to be made:"
   ]
  },
  {
   "cell_type": "code",
   "execution_count": 1,
   "metadata": {},
   "outputs": [
    {
     "name": "stdout",
     "output_type": "stream",
     "text": [
      "Using matplotlib backend: Qt5Agg\n",
      "Downloading for NZ.DVHZ.10.EH?\n",
      "Downloading for NZ.POWZ.10.EH?\n",
      "Downloading for NZ.PRWZ.10.EH?\n",
      "Downloading for NZ.TSZ.10.HH?\n",
      "Downloading for NZ.PNHZ.10.EH?\n"
     ]
    },
    {
     "name": "stderr",
     "output_type": "stream",
     "text": [
      "C:\\Users\\Calum\\Anaconda3\\envs\\gphs445\\lib\\site-packages\\obspy\\io\\stationxml\\core.py:98: UserWarning: The StationXML file has version 1, ObsPy can read versions (1.0, 1.1). Proceed with caution.\n",
      "  version, \", \".join(READABLE_VERSIONS)))\n"
     ]
    }
   ],
   "source": [
    "%matplotlib\n",
    "from obspy.clients.fdsn import Client\n",
    "from utilities.plot_event import get_geonet_waveforms\n",
    "\n",
    "client = Client(\"GEONET\")\n",
    "event = client.get_events(eventid=\"2019p304574\")[0]\n",
    "# Lets just use the five closest weak motion stations\n",
    "clean_event = event.copy()\n",
    "clean_event.picks = [\n",
    "    p for p in sorted(event.picks, key=lambda p: p.time) \n",
    "    if p.waveform_id.channel_code[0] != \"B\"][0:5]\n",
    "\n",
    "# We want to remove the amplitudes already picked, and magnitudes so that we can overwrite them with our own.\n",
    "clean_event.amplitudes = []\n",
    "clean_event.station_magnitudes = []\n",
    "\n",
    "st = get_geonet_waveforms(clean_event, all_components=True)\n",
    "st.plot()  # For some reason on Windows I need to plot in this first cell to get later plots to work.\n",
    "# We need to response information for the stations so that we can correct\n",
    "# the repsonse and simulate a wood anderson instrument.\n",
    "bulk = [\n",
    "    (p.waveform_id.network_code, p.waveform_id.station_code, \n",
    "     p.waveform_id.location_code, p.waveform_id.channel_code[0:-1] + \"?\", \n",
    "     p.time - 60, p.time + 200) for p in clean_event.picks]\n",
    "inv = client.get_stations_bulk(bulk, level=\"response\")"
   ]
  },
  {
   "cell_type": "markdown",
   "metadata": {},
   "source": [
    "To pick local magnitudes we want to simulate a Wood-Anderson instrument.  To do this we can use obspy's \n",
    "[remove_response](https://docs.obspy.org/packages/autogen/obspy.core.stream.Stream.remove_response.html#obspy.core.stream.Stream.remove_response)\n",
    "and [simulate](https://docs.obspy.org/packages/autogen/obspy.core.stream.Stream.simulate.html#obspy.core.stream.Stream.simulate) \n",
    "methods to remove the instrument response then apply the Wood-Anderson response."
   ]
  },
  {
   "cell_type": "code",
   "execution_count": 2,
   "metadata": {},
   "outputs": [],
   "source": [
    "paz_WA = {'poles': [-6.283 + 4.7124j, -6.283 - 4.7124j],\n",
    "          'zeros': [0 + 0j], 'gain': 1.0, 'sensitivity': 2080}\n",
    "st_wa = st.copy()\n",
    "st_wa = st_wa.remove_response(inv, \"DISP\")\n",
    "st_wa = st_wa.simulate(paz_remove=None, paz_simulate=paz_WA)"
   ]
  },
  {
   "cell_type": "markdown",
   "metadata": {},
   "source": [
    "Run the picker. Amplitude picks for local magnitudes were originally defined as being picked on the\n",
    "horizontals, however vertical channels are sometimes used because they are less succeptible to shallow amplification effects. Picks should be made at the maximum amplitude.  The picker will record your mouse position and add an `Amplitude` and a `Pick` for that position."
   ]
  },
  {
   "cell_type": "code",
   "execution_count": 3,
   "metadata": {},
   "outputs": [
    {
     "name": "stdout",
     "output_type": "stream",
     "text": [
      "Make your picks using:\n",
      "\tleft mouse button: P\n",
      "\tright mouse button: S\n",
      "\t'a': amplitude at mouse location\n",
      "\t'e': end duration at mouse location - needs a P-pick to calculate duration\n",
      "\tP-wave polarity can be picked using the up and down arrows while hovering over a P-pick.\n",
      "\n",
      "Picks can be deleted by hovering over them and pressing the middle mouse button\n",
      "Pick made at 2019-04-23T16:37:21.061100Z\n",
      "Finished picking.\n",
      "Finished processing event. Returning\n",
      "Returning event\n",
      "Event:\t2019-04-23T16:37:10.033368Z | -40.260, +175.967 | 4.790120006 M  | manual\n",
      "\n",
      "\t            resource_id: ResourceIdentifier(id=\"smi:nz.org.geonet/2019p304574\")\n",
      "\t             event_type: 'earthquake'\n",
      "\t          creation_info: CreationInfo(agency_id='WEL(GNS_Primary)', author='scevent@kseqp02.geonet.org.nz', creation_time=UTCDateTime(2019, 4, 23, 16, 37, 31, 211115))\n",
      "\t    preferred_origin_id: ResourceIdentifier(id=\"smi:nz.org.geonet/Origin/20190423173919.723583.55047\")\n",
      "\t preferred_magnitude_id: ResourceIdentifier(id=\"smi:nz.org.geonet/Origin/20190423173919.723583.55047/netMag/M\")\n",
      "\t                   ---------\n",
      "\t     event_descriptions: 1 Elements\n",
      "\t                  picks: 6 Elements\n",
      "\t                origins: 1 Elements\n",
      "\t             magnitudes: 3 Elements\n"
     ]
    }
   ],
   "source": [
    "from utilities.seismic_picker import SeismicPicker\n",
    "\n",
    "event_out = SeismicPicker(st_wa, event_in=clean_event).pick()\n",
    "print(event_out)"
   ]
  },
  {
   "cell_type": "markdown",
   "metadata": {},
   "source": [
    "The file `magnitude_picked.xml` contains the picks I made. Lets use those to calculate a magnitude. You can replace this with\n",
    "the picks you made (write then out by running `event_out.write(\"my_picked_event.xml\", format=\"QUAKEML\")`."
   ]
  },
  {
   "cell_type": "code",
   "execution_count": 4,
   "metadata": {},
   "outputs": [
    {
     "name": "stdout",
     "output_type": "stream",
     "text": [
      "Make your picks using:\n",
      "\tleft mouse button: P\n",
      "\tright mouse button: S\n",
      "\t'a': amplitude at mouse location\n",
      "\t'e': end duration at mouse location - needs a P-pick to calculate duration\n",
      "\tP-wave polarity can be picked using the up and down arrows while hovering over a P-pick.\n",
      "\n",
      "Picks can be deleted by hovering over them and pressing the middle mouse button\n",
      "Enetering non-interactive state.\n"
     ]
    }
   ],
   "source": [
    "from obspy import read_events\n",
    "\n",
    "event_picked = read_events(\"magnitude_picked.xml\")[0]\n",
    "# Quick plot to check that the picks are recorded in the right place\n",
    "SeismicPicker(st_wa, event_picked).show()"
   ]
  },
  {
   "cell_type": "code",
   "execution_count": 5,
   "metadata": {},
   "outputs": [
    {
     "name": "stdout",
     "output_type": "stream",
     "text": [
      "Amplitude: 0.0018 m\n",
      "Amplitude: 0.00085 m\n",
      "Amplitude: 0.015 m\n",
      "Amplitude: 0.0097 m\n",
      "Amplitude: 0.023 m\n"
     ]
    }
   ],
   "source": [
    "for amplitude in event_picked.amplitudes:\n",
    "    if amplitude.type != \"END\":\n",
    "        print(\"Amplitude: {0:.2g} m\".format(amplitude.generic_amplitude))"
   ]
  },
  {
   "cell_type": "markdown",
   "metadata": {},
   "source": [
    "We need to know where the earthquake was to calculate the hypocentral distance. We will use the `coordinates.py` classes to\n",
    "estimate distance (using a flat earth approximation, so only good for local earthquakes)."
   ]
  },
  {
   "cell_type": "code",
   "execution_count": 6,
   "metadata": {},
   "outputs": [
    {
     "name": "stdout",
     "output_type": "stream",
     "text": [
      "Amplitude 0.0018 m at 30.59 km\n",
      "Using the Richter scale gives: 4.66\n",
      "Amplitude 0.00085 m at 50.14 km\n",
      "Using the Richter scale gives: 4.48\n",
      "Amplitude 0.015 m at 33.45 km\n",
      "Using the Richter scale gives: 5.61\n",
      "Amplitude 0.0097 m at 41.18 km\n",
      "Using the Richter scale gives: 5.48\n",
      "Amplitude 0.023 m at 33.67 km\n",
      "Using the Richter scale gives: 5.79\n",
      "Average magnitude: 5.21\n",
      "GeoNet magnitude: 4.79\n"
     ]
    }
   ],
   "source": [
    "from utilities.coordinates import Geographic\n",
    "from math import log10\n",
    "\n",
    "def _distance(point_1, point_2):\n",
    "    \"\"\"\n",
    "    Calcuate hypocentral distance from Geographic points\n",
    "    \n",
    "    :type point_1: `coordinates.Geographic`\n",
    "    :type point_2: `coordinates.Geographic`\n",
    "    \n",
    "    :returns: float\n",
    "    \"\"\"\n",
    "    point_2_xyz = point_2.to_xyz(origin=point_1, strike=0, dip=90)\n",
    "    return (point_2_xyz.x ** 2 + point_2_xyz.y ** 2 + point_2_xyz.z ** 2) ** 0.5\n",
    "\n",
    "origin = clean_event.preferred_origin()\n",
    "origin = Geographic(\n",
    "    latitude=origin.latitude, longitude=origin.longitude, \n",
    "    depth=origin.depth / 1000.)\n",
    "magnitude = 0\n",
    "used_station_count = 0\n",
    "for amplitude in event_picked.amplitudes:\n",
    "    if amplitude.type == 'END':\n",
    "        continue\n",
    "    pick = amplitude.pick_id.get_referred_object()\n",
    "    station_loc = inv.get_coordinates(pick.waveform_id.get_seed_string(),\n",
    "                                      pick.time)\n",
    "    station_loc = Geographic(\n",
    "        latitude=station_loc[\"latitude\"], longitude=station_loc[\"longitude\"],\n",
    "        depth=(station_loc[\"local_depth\"] - station_loc[\"elevation\"]) / 1000.)\n",
    "    distance = _distance(origin, station_loc)\n",
    "    print(\"Amplitude {0:.2g} m at {1:.2f} km\".format(\n",
    "        amplitude.generic_amplitude, distance))\n",
    "    station_magnitude = (\n",
    "        log10(amplitude.generic_amplitude * 1e6) + log10(distance) - \n",
    "        0.0029 * distance + 0)\n",
    "    print(\"Using the Richter scale gives: {0:.2f}\".format(station_magnitude))\n",
    "    magnitude += station_magnitude\n",
    "    used_station_count += 1\n",
    "    \n",
    "magnitude /= used_station_count\n",
    "print(\"Average magnitude: {0:.2f}\".format(magnitude))\n",
    "print(\"GeoNet magnitude: {0:.2f}\".format(clean_event.preferred_magnitude().mag))"
   ]
  },
  {
   "cell_type": "markdown",
   "metadata": {},
   "source": [
    "The magnitude I calculated is a little high, this is likely because we used attenuation parameters that are\n",
    "not appropriate for the region of the Earthquake, and we have not included any station correction terms.\n",
    "Another factor may be incorrect amplitude picks: it is common to pick amplitudes as half the peak-to-trough \n",
    "amplitudes, but I haven't incorporated that into the picker yet.\n",
    "\n",
    "Note that GeoNet report an *average* magnitude, based on multiple different magnitude estimates.  The local\n",
    "magnitudes currently calcualted by GeoNet are also slightly different in that they calcualte $M_{Lv}$ magnitudes,\n",
    "which do not correct to displacement waveforms, so the current magnitude calcualte is somewhat different to\n",
    "the equation used above.  This is done to avoid possible instabilities in the integration from velocity\n",
    "seismograms to displacement."
   ]
  },
  {
   "cell_type": "markdown",
   "metadata": {},
   "source": [
    "## Coda-duration Magnitude\n",
    "\n",
    "Coda-duration magnitude is a simple and fast way of estimating local event magnitude, however this is not in use in New Zealand.\n",
    "Japan, California, Mexico, Italy and other places all have coda magnitude calculations, so we will select one of these to\n",
    "compute coda-duration magnitudes.  The principle is to measure the time between the initial P-wave and the time that the\n",
    "seismogram drops below some noise threshold. How this is defined is different from place-to-place, and coda magnitudes\n",
    "are usually scaled to some other magnitude. See Page 70 of the [NMSOP, Chapter 3](http://gfzpublic.gfz-potsdam.de/pubman/item/escidoc:108170:12/component/escidoc:364681/Chapter_3.pdf).\n",
    "\n",
    "We will use the Mexican scale:\n",
    "\\begin{equation*}\n",
    "    M_d = 2.40\\log{d} + 0.00046\\Delta - 1.59\n",
    "\\end{equation*}\n",
    "where d is the duration in seconds.\n",
    "\n",
    "You can add duration picks to channels with P-phase picks in the picker using the \"e\" key. I have already made some on\n",
    "the sample event."
   ]
  },
  {
   "cell_type": "code",
   "execution_count": 7,
   "metadata": {},
   "outputs": [
    {
     "name": "stdout",
     "output_type": "stream",
     "text": [
      "Duration 94 s at 30.59 km\n",
      "Using the Mexican Md scale gives: 3.158687418963625\n",
      "Duration 1.5e+02 s at 33.45 km\n",
      "Using the Mexican Md scale gives: 3.6550753122771056\n",
      "Duration 1.4e+02 s at 41.18 km\n",
      "Using the Mexican Md scale gives: 3.5815060884474352\n",
      "Duration 1.3e+02 s at 33.67 km\n",
      "Using the Mexican Md scale gives: 3.5261744920576152\n",
      "Average magnitude: 3.4803608279364453\n",
      "GeoNet magnitude: 4.790120006\n"
     ]
    }
   ],
   "source": [
    "magnitude = 0\n",
    "used_station_count = 0\n",
    "for amplitude in event_picked.amplitudes:\n",
    "    if amplitude.type != 'END':\n",
    "        continue\n",
    "    pick = amplitude.pick_id.get_referred_object()\n",
    "    station_loc = inv.get_coordinates(pick.waveform_id.get_seed_string(),\n",
    "                                      pick.time)\n",
    "    station_loc = Geographic(\n",
    "        latitude=station_loc[\"latitude\"], longitude=station_loc[\"longitude\"],\n",
    "        depth=(station_loc[\"local_depth\"] - station_loc[\"elevation\"]) / 1000.)\n",
    "    distance = _distance(origin, station_loc)\n",
    "    print(\"Duration {0:.2g} s at {1:.2f} km\".format(\n",
    "        amplitude.generic_amplitude, distance))\n",
    "    station_magnitude = (\n",
    "        2.4 * log10(amplitude.generic_amplitude) + 0.00046 * distance - 1.59)\n",
    "    print(\"Using the Mexican Md scale gives: {0}\".format(station_magnitude))\n",
    "    magnitude += station_magnitude\n",
    "    used_station_count += 1\n",
    "    \n",
    "magnitude /= used_station_count\n",
    "print(\"Average magnitude: {0}\".format(magnitude))\n",
    "print(\"GeoNet magnitude: {0}\".format(clean_event.preferred_magnitude().mag))"
   ]
  },
  {
   "cell_type": "markdown",
   "metadata": {},
   "source": [
    "This is clearly too low, which suggests that the coda duration is poorly picked, or that the Mexican magnitude scale is\n",
    "not appropriate for New Zealand. \n",
    "\n",
    "Why do you think that might be?"
   ]
  },
  {
   "cell_type": "markdown",
   "metadata": {},
   "source": [
    "## Moment Magnitude\n",
    "\n",
    "Moment magnitudes ($M_W$) are defined based on the seismic moment ($M_0$) according to:\n",
    "\\begin{equation*}\n",
    "    M_W = \\frac{\\log{M_0}}{1.5} - 10.73\n",
    "\\end{equation*}\n",
    "with $M_0$ measured in dyne-cm. Using this scale an earthquakes radiated energy can be estimated\n",
    "provided the stress drop and rigidity are known. Note that seismic moment can not be converted\n",
    "to energy without knowing these parameters, but is closely related.\n",
    "\n",
    "$M_0$ is commonly estimated from seismic data either by simulating a source (done routinely in New Zealand\n",
    "by moment tensor inversion, see Section 4.4.7 of Stein and Wysession), or by spectral analysis of earthquake\n",
    "waveforms and assuming a simple earthquake source model. For now we will consider spectral analysis, but in \n",
    "the [focal mechanism](5_Focal_Mechanisms.ipynb) and the [source-time function](6_Source_Time_Function.ipynb)\n",
    "notebooks we will consider moment tensor inversions and extended sources.\n",
    "\n",
    "Much of the theory behind this spectral analysis is in Section 4.6.2 of Stein and Wysession."
   ]
  },
  {
   "cell_type": "code",
   "execution_count": 8,
   "metadata": {},
   "outputs": [],
   "source": [
    "# Helper adapted from Fourier_Transforms notebook\n",
    "def plot_fft(tr):\n",
    "    \"\"\"\n",
    "    Calculate the FFT of a discretely sampled series and plot the spectra.\n",
    "    \n",
    "    :type y: `numpy.ndarray`\n",
    "    :param y: Series to calculate FFT for.\n",
    "    :type dt: float\n",
    "    :param dt: \n",
    "        Sample interval - assumed to be in seconds, so frequencies in Hz.\n",
    "    \"\"\"\n",
    "    import matplotlib.pyplot as plt\n",
    "    import numpy as np\n",
    "    from scipy import fftpack\n",
    "    import warnings\n",
    "    \n",
    "    x = np.arange(0, tr.stats.npts, dtype=np.float64)\n",
    "    x *= tr.stats.delta\n",
    "    x = [(tr.stats.starttime + _).datetime for _ in x]\n",
    "    y = tr.data\n",
    "    dt = tr.stats.delta\n",
    "    \n",
    "    N = len(y)\n",
    "    fft_len = fftpack.next_fast_len(N)  # Find the next fast length for the FFT\n",
    "    yf = fftpack.fft(y, n=fft_len)\n",
    "    xf = np.linspace(0.0, 1.0 / (2. * dt), int(N / 2))\n",
    "    yr = fftpack.ifft(yf)\n",
    "    \n",
    "    fig, ax = plt.subplots(nrows=2, figsize=(15, 8))\n",
    "    ax[0].plot(x, y, label=\"Time series\")\n",
    "    ax[0].set_xlabel(\"Time (s)\")\n",
    "    ax[0].autoscale(enable=True, axis='both', tight=True)\n",
    "    ax[0].legend()\n",
    "       \n",
    "    ax[1].loglog(xf, 2./N * np.abs(yf[:N//2]), label=\"Frequency spectra\")\n",
    "    ax[1].set_xlabel(\"Frequency (Hz)\")\n",
    "    ax[1].autoscale(enable=True, axis='both', tight=True)\n",
    "    ax[1].legend()"
   ]
  },
  {
   "cell_type": "code",
   "execution_count": 9,
   "metadata": {},
   "outputs": [],
   "source": [
    "st_disp = st.copy().remove_response(inv, \"DISP\")\n",
    "tr = st_disp.select(station=\"TSZ\", component=\"Z\")[0]\n",
    "s_pick = [p for p in event_picked.picks \n",
    "          if p.waveform_id.station_code == tr.stats.station and p.phase_hint == \"S\"][0]\n",
    "plot_fft(tr.slice(s_pick.time - 0.5, s_pick.time + 30))"
   ]
  },
  {
   "cell_type": "markdown",
   "metadata": {},
   "source": [
    "The S-wave displacement spectra (similar for P-wave) has an initially mostly flat portion at low frequencies, \n",
    "before the spectral amplitude decays at high frequencies.  From your reading of Stein and Wysession, you should \n",
    "know that the moment ($M_0$) is related to the flat portion of the spectra (**at the source**), while the point \n",
    "(or points, depending on source model) that the gradient changes are related to source rise and rupture times.  \n",
    "These points are called *corner frequencies*. We will think more about the Haskell and Brune source models in the \n",
    "[source-time function notebook](6_Source_Time_Functions.ipynb). In all models the flat portion of the spectrum is \n",
    "related to the moment. For the Haskell model, with two corner frequencies, the **source spectrum** (not the\n",
    "same as recorded in the far field):\n",
    "\\begin{equation*}\n",
    "    \\log{|A(\\omega)|} = \n",
    "    \\begin{cases}\n",
    "        \\log{M_0} & \\omega < 2/T_R \\\\\n",
    "        \\log{M_0} - \\log{(T_R / 2)} - \\log{\\omega} & 2/T_R < \\omega < 2/T_D \\\\\n",
    "        \\log{M_0} - \\log{(T_R T_D / 4)} - 2\\log{\\omega} & 2/T_D < \\omega\n",
    "    \\end{cases}\n",
    "\\end{equation*}\n",
    "where $\\omega$ is frequency, $T_R$ is the rupture time and $T_D$ is the rise time.\n",
    "\n",
    "Note that the description in Stein and Wysession does not include discussion of estimating seismic moment or\n",
    "corner frequencies from seismic data. To do this we have to take into account the radiation pattern and\n",
    "attenuation. If we incorporate this we end up with equation 9.27 from Shearer's \"Introduction to Seismology\":\n",
    "\\begin{equation*}\n",
    "    M_0 = \\frac{4\\pi \\rho c^3 r \\Omega_0}{U_{\\phi\\theta}}\n",
    "\\end{equation*}\n",
    "where $\\rho$ is density, $c$ is the wave velocity, $r$ is the distance from the source and $U_{\\phi\\theta}$ is\n",
    "a radiation pattern term. This applies for simple spherical wavefronts, but more realistic models can be used\n",
    "(with complex 3D velocity structures).\n",
    "\n",
    "If we apply this with an average radiation term (ignoring effects of focal mechanism and directivity) we get:"
   ]
  },
  {
   "cell_type": "code",
   "execution_count": 10,
   "metadata": {},
   "outputs": [
    {
     "name": "stdout",
     "output_type": "stream",
     "text": [
      "Moment: 4.578e+15 Nm\n",
      "Expected Moment: 1.928e+16 Nm\n"
     ]
    }
   ],
   "source": [
    "from math import pi\n",
    "\n",
    "dist = 34\n",
    "amp = 10 ** -5\n",
    "rad = 0.63\n",
    "density = 2500\n",
    "c = 3000\n",
    "\n",
    "M = (4 * pi * density * (c ** 3) * dist * 1e4 * amp) / rad\n",
    "print(\"Moment: {0:.4g} Nm\".format(M))\n",
    "expected_moment = 10 ** (1.5 * clean_event.preferred_magnitude().mag + 9.1)\n",
    "print(\"Expected Moment: {0:.4g} Nm\".format(expected_moment))"
   ]
  },
  {
   "cell_type": "markdown",
   "metadata": {},
   "source": [
    "Which is a lower than expected. One approach is to take an average of moment estimates at different\n",
    "positions on the focal sphere using this average radiation term (note 0.52 for P and 0.63 for S). However,\n",
    "a more rigorous option is to compute the full moment tensor.  We will discuss this a little in the \n",
    "[next notebook](5_Focal_Mechanisms.ipynb)."
   ]
  },
  {
   "cell_type": "markdown",
   "metadata": {},
   "source": [
    "## W-phase Moment Magnitude\n",
    "\n",
    "The W-phase is termed the \"whispering\" phase.  It occurs as a superposition of body-wave phases. It is now\n",
    "routinely used to rapidly estimate earthquake magnitude, before the full wavetrain has been recorded. This\n",
    "makes it very useful for rapid source characterisation and tsumani hazard assessment.  You should read the paper by \n",
    "[Duputal et al.](https://academic.oup.com/gji/article/189/2/1125/621962) to familiarise yourself with why this\n",
    "is used, and how."
   ]
  },
  {
   "cell_type": "code",
   "execution_count": null,
   "metadata": {},
   "outputs": [],
   "source": []
  }
 ],
 "metadata": {
  "kernelspec": {
   "display_name": "Python 3",
   "language": "python",
   "name": "python3"
  },
  "language_info": {
   "codemirror_mode": {
    "name": "ipython",
    "version": 3
   },
   "file_extension": ".py",
   "mimetype": "text/x-python",
   "name": "python",
   "nbconvert_exporter": "python",
   "pygments_lexer": "ipython3",
   "version": "3.7.6"
  }
 },
 "nbformat": 4,
 "nbformat_minor": 2
}
