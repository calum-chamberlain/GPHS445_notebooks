{
 "cells": [
  {
   "cell_type": "markdown",
   "metadata": {},
   "source": [
    "# Focal Mechanisms and Moment Tensors\n",
    "\n",
    "To do:\n",
    "1. Polarity picking extension to seismic_picker.py\n",
    "2. HASH\n",
    "  - Install instructions\n",
    "  - Python driver\n",
    "  - IO handling\n",
    "3. Discussion of P and S amplitude ratios\n",
    "4. Moment Tensor discussion"
   ]
  },
  {
   "cell_type": "markdown",
   "metadata": {},
   "source": [
    "## HASH setup\n",
    "\n",
    "To invert for focal mechanisms from polarity data we will use the \n",
    "[HASH](https://pubs.geoscienceworld.org/ssa/bssa/article/92/6/2264/103015/a-new-method-for-determining-first-motion-focal)\n",
    "software.  Other methods are available.  HASH is a fortran code that I have written some Python wrapper\n",
    "functions to streamline our workflow. You will need to follow the next steps closely to\n",
    "install HASH.\n",
    "\n",
    "First you need to download and extract HASH from [here](https://earthquake.usgs.gov/static/lfs/software/hash.v1.2.tar.gz). \n",
    "Remember where you extract to! In the following I will assume you have extracted it to `~/Desktop/HASH_v1.2`\n",
    "\n",
    "In a terminal, run (replace `~/Desktop/HASH_v1.2` with where you extracted it to):\n",
    "`cd ~/Desktop/HASH_v1.2`\n"
   ]
  }
 ],
 "metadata": {
  "kernelspec": {
   "display_name": "Python 3",
   "language": "python",
   "name": "python3"
  },
  "language_info": {
   "codemirror_mode": {
    "name": "ipython",
    "version": 3
   },
   "file_extension": ".py",
   "mimetype": "text/x-python",
   "name": "python",
   "nbconvert_exporter": "python",
   "pygments_lexer": "ipython3",
   "version": "3.7.1"
  }
 },
 "nbformat": 4,
 "nbformat_minor": 2
}
