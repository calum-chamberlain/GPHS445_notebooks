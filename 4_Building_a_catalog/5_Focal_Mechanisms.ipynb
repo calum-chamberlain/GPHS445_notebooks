{
 "cells": [
  {
   "cell_type": "markdown",
   "metadata": {},
   "source": [
    "# Focal Mechanisms and Moment Tensors\n",
    "\n",
    "Focal mechanisms describe slip on a fault arising from a purely double couple source. See Stein and Wysession's Section 4.4 for a\n",
    "discussion of force couples and single forces.Focal mechanisms inherently have ambiguity over which of the two resolved planes\n",
    "is the actual fault plane, and in general additional evidence is required to determine which plane if the fault plane. Focal\n",
    "mechanisms are commonly used to describe the faulting styles in a region, and to invert for principle stress axis orientations.\n",
    "Understanding stress orientations (and magnitude, which cannot be derived from focal mechanism inversion) is becoming useful\n",
    "for understanding the likelihood of induced earthquakes (e.g.: \n",
    "[Lund Snee and Zoback 2018](https://pubs.geoscienceworld.org/tle/article/37/2/127/527282/state-of-stress-in-the-permian-basin-texas-and-new))\n",
    "and for understanding how stresses change around slow-slip events (e.g. [Warren-Smith et al., 2019]()) amongst other applications.\n",
    "\n",
    "## First motions\n",
    "\n",
    "The simplest and most widely used method for estimating focal mechanisms is to evaluate first-motion polarities of P-waves.\n",
    "The `seismic_picker.py` applet has been extended to allow you to pick polarities. Note that this needs to be the first motion\n",
    "polarity, not the polarity of the maximum peak. The wavetrain of an individual seismic phase is a superposition of different\n",
    "ray-paths, which may be of opposite polarities.  Polarities are either compressional (up) or dilatational (down). Waves that\n",
    "show compressive first motions arise when the faults first motion is towards the seismometer (along the ray-path, which may\n",
    "take an *interesting* path to the seismometer). Dilatational waves arise when the faults first motion is away from the seismometer.\n",
    "\n",
    "<img alt=\"Stein and Wysession Fig 4.2-4\" align=\"centre\" style=\"width:40%\" src=\"http://levee.wustl.edu/seismology/book/chapter4/chap4_sr/4_2_04_s.jpg\">\n",
    "\n",
    "Once polarities are measured they can be plotted on a stereonet to obtain a scatter of points on the focal sphere. These points can\n",
    "be inverted to obtain a best fitting focal mechanism. Some important things to note are:\n",
    "1. First motion amplitudes tend to zero towards the nodal planes: polarities may be obscured close to nodal planes;\n",
    "2. Polarities are plotted based on take-off angle and azimuth. Both properties require accurate hypocentre locations and\n",
    "   accurate ray-tracing;\n",
    "3. Lower-hemisphere stereonets are commonly used because take-off angles for first arriving rays are often downwards (towards\n",
    "   a faster medium).\n",
    "   \n",
    "To make the stereonet plots below you will need to install mplstereonet:\n",
    "```bash\n",
    "pip install mplstereonet\n",
    "```"
   ]
  },
  {
   "cell_type": "code",
   "execution_count": 1,
   "metadata": {},
   "outputs": [
    {
     "name": "stdout",
     "output_type": "stream",
     "text": [
      "Using matplotlib backend: Qt5Agg\n",
      "Event has 204 picks\n",
      "Downloading for NZ.BHW.10.HH?\n",
      "Downloading for NZ.TKNZ.10.EH?\n",
      "Downloading for NZ.QRZ.10.HH?\n",
      "Downloading for NZ.DUWZ.10.EH?\n",
      "Downloading for NZ.PAWZ.10.EH?\n",
      "Downloading for NZ.TCW.10.EH?\n",
      "Downloading for NZ.WEL.10.HH?\n",
      "Downloading for NZ.NNZ.10.HH?\n",
      "Downloading for NZ.MSWZ.10.EH?\n",
      "Downloading for NZ.THZ.10.HH?\n",
      "Downloading for NZ.MRNZ.10.EH?\n",
      "Downloading for NZ.BSWZ.10.EH?\n",
      "Downloading for NZ.CAW.10.EH?\n",
      "Downloading for NZ.CMWZ.10.EH?\n",
      "Downloading for NZ.KHZ.10.HH?\n",
      "Downloading for NZ.PLWZ.10.EH?\n",
      "Downloading for NZ.OGWZ.10.EH?\n",
      "Downloading for NZ.KIW.10.EH?\n",
      "Downloading for NZ.TUWZ.10.EH?\n",
      "Make your picks using:\n",
      "\tleft mouse button: P\n",
      "\tright mouse button: S\n",
      "\t'a': amplitude at mouse location\n",
      "\t'e': end duration at mouse location - needs a P-pick to calculate duration\n",
      "\tP-wave polarity can be picked using the up and down arrows while hovering over a P-pick.\n",
      "\n",
      "Picks can be deleted by hovering over them and pressing the middle mouse button\n",
      "Finished picking.\n",
      "Finished processing event. Returning\n",
      "Returning event\n"
     ]
    }
   ],
   "source": [
    "%matplotlib\n",
    "import matplotlib.pyplot as plt\n",
    "plt.style.use('ggplot')\n",
    "\n",
    "from utilities.seismic_picker import SeismicPicker\n",
    "from utilities.plot_event import get_geonet_waveforms\n",
    "from obspy.clients.fdsn import Client\n",
    "\n",
    "from obspy import Stream\n",
    "from obspy.core.event import ResourceIdentifier\n",
    "from obspy.clients.fdsn import Client\n",
    "\n",
    "event_id = \"2018p546311\"\n",
    "\n",
    "client = Client(\"GEONET\")\n",
    "cat = client.get_events(eventid=event_id)\n",
    "event = cat[0]\n",
    "print(\"Event has {0} picks\".format(len(event.picks)))\n",
    "# We will remove the picks from strong motion sites, they often have poor timing\n",
    "event.picks = [p for p in event.picks \n",
    "               if p.waveform_id.channel_code[0] != \"B\"]\n",
    "\n",
    "# Lets just look at the first 20\n",
    "event.picks = sorted(event.picks, key=lambda p: p.time)[0:20]\n",
    "\n",
    "st = get_geonet_waveforms(event=event, all_components=True)\n",
    "\n",
    "# We want to remove the arrival info because we are changing the picks\n",
    "for origin in event.origins:\n",
    "    origin.arrivals = []\n",
    "\n",
    "# We will add polarities to this GeoNet event.\n",
    "picked_event = SeismicPicker(st.select(component=\"Z\"), event_in=event).pick()\n",
    "\n",
    "# I wrote my picks out to \"polarity_picked.xml\": \n",
    "# picked_event.write(\"polarity_picked.xml\", format=\"QUAKEML\")"
   ]
  },
  {
   "cell_type": "markdown",
   "metadata": {},
   "source": [
    "We now need to locate the event with the new picks - this will calculate take-off angles and azimuths that\n",
    "we can use for focal mechanism calculation.  Note that `event.origins[n].arrivals` contains this information,\n",
    "and we could have used the GeoNet derived information, but we have changed the picks so the arrivals no longer\n",
    "match the picks. Thus we have to locate again. We will also calculate the focal mechanism at the same time, using\n",
    "the HASH software.\n",
    "\n",
    "If you get an error like:\n",
    "```bash\n",
    "FileNotFoundError(hash was not here: ...)\n",
    "```\n",
    "then you will need to add the `seisan_path=<path to seisan>` to the call to `seisan_hash`, where `<path_to_seisan>` should be where you installed Seisan, for me it is `~/Desktop/Seisan`."
   ]
  },
  {
   "cell_type": "code",
   "execution_count": 2,
   "metadata": {},
   "outputs": [
    {
     "name": "stderr",
     "output_type": "stream",
     "text": [
      "C:\\Users\\Calum\\Anaconda3\\envs\\gphs445\\lib\\site-packages\\obspy\\io\\stationxml\\core.py:98: UserWarning: The StationXML file has version 1, ObsPy can read versions (1.0, 1.1). Proceed with caution.\n",
      "  version, \", \".join(READABLE_VERSIONS)))\n"
     ]
    },
    {
     "name": "stdout",
     "output_type": "stream",
     "text": [
      "  Max number of polarity errors, defualt is 0\n",
      "  Max average error in amp rat, log10, def 0.1\n",
      "  Enter angle for computing mechanisms probability, def is 60\n",
      "  Enter probability threshold for multiples, def is 0.1\n",
      "\n",
      "\n",
      "Number of polarities:           18\n",
      "Amplitude types:   Manual:       0   Automatic:    0   Spectral:     0\n",
      "\n",
      "\n",
      " Q: Local: Qp= 470.0**0.70  Qs= 470.0** 0.7   Global: t*(P)=1.10  t*(S)=4.20\n",
      "\n",
      " STAT  C PH       AMP    PER TRTIME   QCOR ANGINC ANGEMG Fcor   AZ  DIST\n",
      "\n",
      " STAT  Ratio type  T     Amp 1    Amp 2  Fcor LogRat\n",
      "\n",
      " total obs =  18  gap in az =  86.0  gap in ain =  28.0\n",
      "  Number of events           0\n",
      " vpvs ratio is   0.00\n",
      " vpvse set to 1.74\n",
      " Number of polarities is                      :    18\n",
      " *** warning - no s/p amplitude ratios for event\n",
      " Minimum number of polarity misfits overall   :     1\n",
      " New number of pol. misfits inc. extra is     :     2\n",
      " Number of solutions found                       2000\n",
      "\n",
      " Strike,dip,rake                 3.8    64.9   154.1\n",
      " Fault+aux plane uncertainty    40.7    29.0\n",
      "\n",
      "Note: The following floating-point exceptions are signalling: IEEE_INVALID_FLAG\n",
      "\n"
     ]
    }
   ],
   "source": [
    "from obspy import read_events\n",
    "from obspy.clients.fdsn import Client\n",
    "from utilities.geiger_inversion import seisan_hash\n",
    "\n",
    "client = Client(\"GEONET\")\n",
    "\n",
    "event = read_events(\"polarity_picked.xml\")[0]\n",
    "bulk = [\n",
    "    (pick.waveform_id.network_code, pick.waveform_id.station_code,\n",
    "     pick.waveform_id.location_code, pick.waveform_id.channel_code, \n",
    "     pick.time - 300, pick.time + 300) for pick in event.picks]\n",
    "inventory = client.get_stations_bulk(bulk, level=\"channel\")\n",
    "velocities = [\n",
    "    {\"velocity\": 6.2, \"top\": 0.0},\n",
    "    {\"velocity\": 6.6, \"top\": 12.0},\n",
    "    {\"velocity\": 7.1, \"top\": 23.0},\n",
    "    {\"velocity\": 8.05, \"top\": 31.0, \"moho\": True},\n",
    "    {\"velocity\": 8.25, \"top\": 50.0},\n",
    "    {\"velocity\": 8.5, \"top\": 80.0}]\n",
    "\n",
    "event_located = seisan_hash(event, inventory, velocities, vpvs=1.74)\n",
    "event_located.preferred_origin_id = event_located.origins[-1].resource_id"
   ]
  },
  {
   "cell_type": "markdown",
   "metadata": {},
   "source": [
    "We can now try and plot this. Note that this is a deep event, so take-off angles are large (remember\n",
    "that they are measured from radial towards the centre of the Earth)."
   ]
  },
  {
   "cell_type": "code",
   "execution_count": 4,
   "metadata": {},
   "outputs": [],
   "source": [
    "from utilities.plot_event import plot_polarities\n",
    "\n",
    "fig = plot_polarities(event_located)"
   ]
  },
  {
   "cell_type": "markdown",
   "metadata": {},
   "source": [
    "## Amplitude ratios\n",
    "\n",
    "A simple extension of the first motion method is to take advantage of the difference in P and S-wave radiation patterns:\n",
    "\n",
    "<img alt=\"Stein and Wysession Fig 4.2-7\" align=\"centre\" style=\"width:20%\" src=\"http://levee.wustl.edu/seismology/book/chapter4/chap4_sr/4_2_07_s.jpg\">\n",
    "\n",
    "By taking the ratio of P and S wave amplitudes we can estimate where on the focal sphere we are. This provides additional information\n",
    "to better constrain the focal mechanism, and can be especially useful near the nodal planes, where S amplitude is maximized but first\n",
    "motion polarities of P waves can be hard to pick. We won't make use of this in your assignment, but you should read Stein and Wysession 4.2.3.\n",
    "\n",
    "Focal mechanisms can also be estimated by modelling body or/and surface waves, see Stein and Wysession 4.3."
   ]
  },
  {
   "cell_type": "markdown",
   "metadata": {},
   "source": [
    "## Moment tensor inversion\n",
    "\n",
    "So far we have just considered the information relating to simple slip on a single fault, however, natural events are often more complicated. At relatively low sampling\n",
    "frequencies and large station-reciever distances, the high frequencies that show this complexity are lost, however, for larger events the complexity is manifest at\n",
    "lower frequencies, meaning that we can resolve some of these complexities using seismic data. One way to resolve some of the complexity is to compute moment tensors.\n",
    "\n",
    "Read Stein and Wysession 4.4 on moment tensors.  For some information on how moment tensors are routinely computed for earthquakes in New Zealand,\n",
    "read [Ristau 2008](https://pubs.geoscienceworld.org/ssa/srl/article/79/3/400/367690/implementation-of-routine-regional-moment-tensor).  The\n",
    "moment tensors are available via the [GeoNet github page](https://github.com/GeoNet/data/tree/master/moment-tensor). You should select some\n",
    "moment tensors from the GeoNet dataset to answer the \"Slip Parameters\" question in the assignment."
   ]
  }
 ],
 "metadata": {
  "kernelspec": {
   "display_name": "Python 3",
   "language": "python",
   "name": "python3"
  },
  "language_info": {
   "codemirror_mode": {
    "name": "ipython",
    "version": 3
   },
   "file_extension": ".py",
   "mimetype": "text/x-python",
   "name": "python",
   "nbconvert_exporter": "python",
   "pygments_lexer": "ipython3",
   "version": "3.7.6"
  }
 },
 "nbformat": 4,
 "nbformat_minor": 2
}
