{
 "cells": [
  {
   "cell_type": "markdown",
   "metadata": {},
   "source": [
    "# Earthquake location\n",
    "\n",
    "There are multiple ways to locate an earthquake, and multiple types of earthquake location.  We will mostly\n",
    "consider hypocentre locations here, and we will extend that in the [final notebook](6_Source_Time_Functions.ipynb)\n",
    "to think about whether a single location is a useful representation of an earthquake.\n",
    "\n",
    "The hypocentre of an earthquake is the location that the earthquake starts (in contrast to the centroid location,\n",
    "which is generally the centre of energy release of the earthquake). We can use the phase arrival picks we\n",
    "made in the [picking notebook](2_Phase_Picking.ipynb) to constrain the hypocentre. We know from our\n",
    "[ray-tracing](../2_Seismic_waves/2_Transmission.ipynb) that, if we know the velocity model, we can work\n",
    "out how long it takes for a ray to travel from the earthquake source to our receiver.  If we have multiple\n",
    "receivers then we can triangulate the location of the earthquake. However, to do that we also need to know\n",
    "the origin time of the earthquake. When we think about solving for an earthquake location we need to remember\n",
    "that we are finding the source in both space and time.\n",
    "\n",
    "If we know the time of arrival of the P and S phases we can try and work out the distance from our receiver to\n",
    "the source, but this assumes that the P and S waves follow the same ray-path.  Often the difference is small,\n",
    "but real.\n",
    "\n",
    "The way that we locate earthquakes using is to invert for the location. There are multiple schemes for how to\n",
    "invert the data: we will just think about simple linearised inversion here, but those taking GPHS446 will see\n",
    "other inversion methods. Linearised inversion works reasonably well for earthquakes that are not close to\n",
    "the surface, are surrounded by receivers, and are within a smooth velocity structure.\n",
    "\n",
    "## Needs equations!\n",
    "\n",
    "We will use the example of a 2D linear inversion to demonstrate, then use hypocentre to compute more\n",
    "thorough locations."
   ]
  },
  {
   "cell_type": "code",
   "execution_count": null,
   "metadata": {},
   "outputs": [],
   "source": []
  }
 ],
 "metadata": {
  "kernelspec": {
   "display_name": "Python 3",
   "language": "python",
   "name": "python3"
  },
  "language_info": {
   "codemirror_mode": {
    "name": "ipython",
    "version": 3
   },
   "file_extension": ".py",
   "mimetype": "text/x-python",
   "name": "python",
   "nbconvert_exporter": "python",
   "pygments_lexer": "ipython3",
   "version": "3.6.7"
  }
 },
 "nbformat": 4,
 "nbformat_minor": 2
}
