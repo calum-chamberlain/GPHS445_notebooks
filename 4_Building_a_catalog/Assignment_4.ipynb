{
 "cells": [
  {
   "cell_type": "markdown",
   "metadata": {},
   "source": [
    "# Assignment 4: Building a catalog\n",
    "\n",
    "## How to use this notebook:\n",
    "\n",
    "\n",
    "## Outline:\n",
    "\n",
    "\n",
    "## Deadlines:\n",
    "\n",
    "\n",
    "## Grading:\n",
    "\n",
    "\n",
    "## Marks"
   ]
  },
  {
   "cell_type": "markdown",
   "metadata": {},
   "source": [
    "# Earthquake detection\n",
    "\n",
    "Pick region of interest, download a few days of data - STA/LTA - try different parameters."
   ]
  },
  {
   "cell_type": "code",
   "execution_count": null,
   "metadata": {},
   "outputs": [],
   "source": []
  },
  {
   "cell_type": "markdown",
   "metadata": {},
   "source": [
    "# Earthquake phase picking\n",
    "\n",
    "How will they pick? Use seisan? Provide script to write out waveforms and nordic files and instruct\n",
    "on using the software, or just pick manually? Or write something in jupyter for picking?"
   ]
  },
  {
   "cell_type": "code",
   "execution_count": null,
   "metadata": {},
   "outputs": [],
   "source": []
  },
  {
   "cell_type": "markdown",
   "metadata": {},
   "source": [
    "# Earthquake location\n",
    "\n",
    "Use varying numbers of picks - use single V. model Geiger's first, then use hyp with 1D model, discuss\n",
    "differences."
   ]
  },
  {
   "cell_type": "code",
   "execution_count": null,
   "metadata": {},
   "outputs": [],
   "source": []
  },
  {
   "cell_type": "markdown",
   "metadata": {},
   "source": [
    "# Magnitudes\n",
    "\n",
    "Calculate different magnitudes - corner freq (moment), duration, local\n",
    "\n",
    "Magnitude-freq of your catalog?"
   ]
  },
  {
   "cell_type": "code",
   "execution_count": null,
   "metadata": {},
   "outputs": [],
   "source": []
  },
  {
   "cell_type": "markdown",
   "metadata": {},
   "source": [
    "# Focal mechanisms\n",
    "\n",
    "Plot picks - get students to fit focal planes - invert using HASH/focmec?"
   ]
  },
  {
   "cell_type": "code",
   "execution_count": null,
   "metadata": {},
   "outputs": [],
   "source": []
  },
  {
   "cell_type": "markdown",
   "metadata": {},
   "source": [
    "# Slip parameters\n",
    "\n",
    "Use Q 4 from John's 2018 assignment\n",
    "\n",
    "Using Matlab or another language of your choice, write a code that accepts as input\n",
    "the strike, dip, and rake of a double-couple earthquake source and does the\n",
    "following:\n",
    "i. Computes the normal and slip vectors with respect to geographic\n",
    "coordinates;\n",
    "ii. Computes the P, T, and B axes using appropriate addition/subtraction/cross\n",
    "product operations on the normal and slip vectors;\n",
    "iii. Constructs the moment tensor with respect to geographic coordinates;\n",
    "iv. Diagonalises the moment tensor with respect to the principal axes P, B, and\n",
    "T obtained by eigen-analysis.\n",
    "b. Apply your code to three focal mechanisms of your choice, ideally representing\n",
    "normal, strike-slip, and reverse faulting."
   ]
  },
  {
   "cell_type": "code",
   "execution_count": null,
   "metadata": {},
   "outputs": [],
   "source": []
  },
  {
   "cell_type": "markdown",
   "metadata": {},
   "source": [
    "# Earthquake detection part 2\n",
    "\n",
    "matched-filter - does it do better?"
   ]
  },
  {
   "cell_type": "code",
   "execution_count": null,
   "metadata": {},
   "outputs": [],
   "source": []
  },
  {
   "cell_type": "markdown",
   "metadata": {},
   "source": [
    "# Extended sources\n",
    "\n",
    "Problems 8, 9, 14, 17, 19 of Stein and Wysession Chpt. 4\n",
    "\n",
    "Review additional info for extended sources in Kaikoura (Hamling geodetic, geologic, teleseismic\n",
    "waves, aftershock distribution)..."
   ]
  },
  {
   "cell_type": "code",
   "execution_count": null,
   "metadata": {},
   "outputs": [],
   "source": []
  }
 ],
 "metadata": {
  "kernelspec": {
   "display_name": "Python 3",
   "language": "python",
   "name": "python3"
  },
  "language_info": {
   "codemirror_mode": {
    "name": "ipython",
    "version": 3
   },
   "file_extension": ".py",
   "mimetype": "text/x-python",
   "name": "python",
   "nbconvert_exporter": "python",
   "pygments_lexer": "ipython3",
   "version": "3.6.7"
  }
 },
 "nbformat": 4,
 "nbformat_minor": 2
}
