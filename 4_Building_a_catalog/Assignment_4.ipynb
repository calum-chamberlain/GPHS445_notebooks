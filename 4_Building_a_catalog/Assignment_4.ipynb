{
 "cells": [
  {
   "cell_type": "markdown",
   "metadata": {},
   "source": [
    "# Assignment 4: Building a catalog\n",
    "\n",
    "## How to use this notebook:\n",
    "The notebook is broken down into five exercises.  Within each exercise are explanatory\n",
    "sections of text, and code. Sections that require a response will begin with: **Question:** \n",
    "and an empty box will follow.  Sometimes these will require a textual response, sometimes\n",
    "code will be required.\n",
    "\n",
    "## Outline:\n",
    "In this assignment you will apply your knowledge to generate your own catalog of earthquakes\n",
    "in a region you are interested in. You should pick somewhere that has a moderate amount of\n",
    "seismicity (at least 10 earthquakes per day in the GeoNet catalog), and pick a subnetwork\n",
    "of five GeoNet stations to use for your analysis. You should aim to do better than GeoNet, and\n",
    "you should make a comparison of your work to their detections, picks and locations.\n",
    "\n",
    "Finally you will consider extended sources and slip parameters.\n",
    "\n",
    "## Deadlines:\n",
    "Friday 7th June at 5pm by [email](mailto:calum.chamberlain@vuw.ac.nz).\n",
    "\n",
    "## Grading:\n",
    "This assignment is worth double the previous assignments and will require more work. Give yourself\n",
    "some time and work through the sections as we go through the notebooks in class.\n",
    "\n",
    "## Marks\n",
    "\n",
    "| Section | Marks available |\n",
    "|---|---|\n",
    "| Detection | 5 |\n",
    "| Picking | 6 |\n",
    "| Location | 5 |\n",
    "| Magnitudes | 6 |\n",
    "| Slip Parameters | 6 |\n",
    "| Extended Sources | 7 |\n",
    "| **Total** | **35** |"
   ]
  },
  {
   "cell_type": "markdown",
   "metadata": {},
   "source": [
    "# Earthquake detection\n",
    "\n",
    "Pick region of interest as outlined in the outline above.\n",
    "Download two days of data and save this to disk (to avoid having to download it again later).\n",
    "\n",
    "Using an energy detection method of your choosing and a network coincidence trigger, detect\n",
    "earthquakes within these data. You should use the function implemented in [obspy](https://docs.obspy.org/tutorial/code_snippets/trigger_tutorial.html). Experiment with different\n",
    "parameters and justify your final choice.  Make sure that you are detecting the seismicity you are\n",
    "interested in (e.g. local earthquakes).\n",
    "\n",
    "Compare your detections to those made by GeoNet."
   ]
  },
  {
   "cell_type": "code",
   "execution_count": 1,
   "metadata": {},
   "outputs": [],
   "source": [
    "# Answer"
   ]
  },
  {
   "cell_type": "markdown",
   "metadata": {},
   "source": [
    "# Earthquake phase picking\n",
    "\n",
    "Using the seismic_picker function, pick as many P and S phases for your **best 20** events as you can.\n",
    "Remember that accuracy is more important than total number of picks. Note that if you do not have\n",
    "20 detections you should either choose another region, or download more data.  You can use more than\n",
    "20 events, but it will mean more work later on as well.\n",
    "\n",
    "Include plots of your picked events in your answer.\n",
    "\n",
    "Compare your picks to those made by GeoNet when you events that are the same. Justify\n",
    "why yours are different."
   ]
  },
  {
   "cell_type": "code",
   "execution_count": 2,
   "metadata": {},
   "outputs": [],
   "source": [
    "# Answer"
   ]
  },
  {
   "cell_type": "markdown",
   "metadata": {},
   "source": [
    "# Earthquake location\n",
    "\n",
    "Use *Hypocentre* to calculate hypocentre locations for your events - remember that you need to\n",
    "write nordic format files and locate from the command line as demonstrated in the \n",
    "[location notebook](3_Earthquake_Location.ipynb).\n",
    "\n",
    "Read your located events back in to Python and plot the resulting locations.\n",
    "\n",
    "Compare your locations to GeoNet locations and discuss the differences and reasons for the\n",
    "differences."
   ]
  },
  {
   "cell_type": "code",
   "execution_count": 3,
   "metadata": {},
   "outputs": [],
   "source": [
    "# Answer"
   ]
  },
  {
   "cell_type": "markdown",
   "metadata": {},
   "source": [
    "# Magnitudes\n",
    "\n",
    "Using the picking functions in the [magnitude notebook](4_Magnitudes.ipynb), compute local\n",
    "magnitude, moment magnitude and coda magnitudes for your events.\n",
    "\n",
    "Compare your magnitudes to each other and discuss the differences - a plot of ML against \n",
    "MC and ML against MW would be useful.\n",
    "\n",
    "Compare you magnitudes to GeoNet magnitudes and discuss the difference."
   ]
  },
  {
   "cell_type": "code",
   "execution_count": null,
   "metadata": {},
   "outputs": [],
   "source": [
    "# Answer"
   ]
  },
  {
   "cell_type": "markdown",
   "metadata": {},
   "source": [
    "# Slip parameters\n",
    "\n",
    "Write a function that accepts as input the strike, dip, and rake \n",
    "of a double-couple earthquake source and does the following:\n",
    "1. Computes the normal and slip vectors with respect to geographic coordinates;\n",
    "2. Computes the P, T, and B axes using appropriate addition/subtraction/cross\n",
    "   product operations on the normal and slip vectors;\n",
    "3. Constructs the moment tensor with respect to geographic coordinates;\n",
    "4. Diagonalises the moment tensor with respect to the principal axes P, B, and\n",
    "   T obtained by eigen-analysis.\n",
    "\n",
    "Apply your function to three focal mechanisms of your choice, preferably from near your\n",
    "area of interest, and ideally representing normal, strike-slip, and reverse faulting. \n",
    "You can find moment tensor solutions for geonet events [here](https://github.com/GeoNet/data/blob/master/moment-tensor/GeoNet_CMT_solutions.csv) which\n",
    "have best fit double-couple solutions given for them."
   ]
  },
  {
   "cell_type": "code",
   "execution_count": null,
   "metadata": {},
   "outputs": [],
   "source": []
  },
  {
   "cell_type": "markdown",
   "metadata": {},
   "source": [
    "# Extended sources\n",
    "\n",
    "Problems 8, 9, 14, 17, 19 of Stein and Wysession Chpt. 4 - you can submit these separately on\n",
    "paper if you wish."
   ]
  },
  {
   "cell_type": "code",
   "execution_count": null,
   "metadata": {},
   "outputs": [],
   "source": []
  }
 ],
 "metadata": {
  "kernelspec": {
   "display_name": "Python 3",
   "language": "python",
   "name": "python3"
  },
  "language_info": {
   "codemirror_mode": {
    "name": "ipython",
    "version": 3
   },
   "file_extension": ".py",
   "mimetype": "text/x-python",
   "name": "python",
   "nbconvert_exporter": "python",
   "pygments_lexer": "ipython3",
   "version": "3.6.7"
  }
 },
 "nbformat": 4,
 "nbformat_minor": 2
}
