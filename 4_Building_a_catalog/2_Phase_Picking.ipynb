{
 "cells": [
  {
   "cell_type": "markdown",
   "metadata": {},
   "source": [
    "# Phase picking\n",
    "\n",
    "Now we have detected some earthquakes we should do something with them.  We will discuss location of earthquakes in\n",
    "[the next notebook](3_Earthquake_Location.ipynb), but classical earthquake detection and analysis requires the\n",
    "accurate identification of seismic phase arrivals.  In this notebook we will look at some picking stratergies and\n",
    "think about a few automatic pickers implemented in Obspy.\n",
    "\n",
    "First, lets take an example of an earthquake in the GeoNet catalog and plot the waveforms with the picks overlain.\n",
    "\n",
    "**Note:** We need to use a fully interactive plotting backend for the `SeismicPicker` to work, using the line `%matplotlib` sets us up with the default backend.  You won't see plots in the notebook, instead you will get pop-up windows."
   ]
  },
  {
   "cell_type": "code",
   "execution_count": 1,
   "metadata": {},
   "outputs": [
    {
     "name": "stdout",
     "output_type": "stream",
     "text": [
      "Using matplotlib backend: Qt5Agg\n",
      "Event has 204 picks\n",
      "Downloading for NZ.MRNZ.10.EH?\n",
      "Downloading for NZ.TKNZ.10.EH?\n",
      "Downloading for NZ.TCW.10.EH?\n",
      "Downloading for NZ.THZ.10.HH?\n",
      "Downloading for NZ.CMWZ.10.EH?\n",
      "Downloading for NZ.DUWZ.10.EH?\n",
      "Downloading for NZ.QRZ.10.HH?\n",
      "Downloading for NZ.NNZ.10.HH?\n",
      "Downloading for NZ.BSWZ.10.EH?\n",
      "Downloading for NZ.TUWZ.10.EH?\n"
     ]
    }
   ],
   "source": [
    "# Notebook set-up\n",
    "%matplotlib\n",
    "import matplotlib.pyplot as plt\n",
    "plt.style.use('ggplot')\n",
    "\n",
    "import numpy as np\n",
    "\n",
    "from obspy import Stream\n",
    "from obspy.clients.fdsn import Client\n",
    "\n",
    "from utilities.plot_event import get_geonet_waveforms, plot_picked\n",
    "\n",
    "client = Client(\"GEONET\")\n",
    "cat = client.get_events(eventid=\"2018p546311\")\n",
    "event = cat[0]\n",
    "print(\"Event has {0} picks\".format(len(event.picks)))\n",
    "# We will remove the picks from strong motion sites, they often have poor timing\n",
    "# This \"list-comprehension\" overwrite the \"picks\" attibrute of the event\n",
    "# with all the picks that were not made on a channel with code starting with \"B\"\n",
    "event.picks = [p for p in event.picks \n",
    "               if p.waveform_id.channel_code[0] != \"B\"]\n",
    "\n",
    "# Lets just look at the earliest picked ten stations.\n",
    "\n",
    "# Sort the picks by time\n",
    "event.picks.sort(key=lambda p: p.time)\n",
    "# Make a list of the station codes for the first ten stations\n",
    "first_ten_stations = {p.waveform_id.station_code for p in event.picks[0:10]}\n",
    "# Now overwrite the \"picks\" attribute with only picks from one of those ten stations\n",
    "event.picks = [p for p in event.picks if p.waveform_id.station_code in first_ten_stations]\n",
    "\n",
    "# Now we will get the data that we want to plot\n",
    "st = get_geonet_waveforms(\n",
    "    event, delay=10, length=25, all_components=True)\n",
    "\n",
    "fig = plot_picked(event, st)\n",
    "fig.show()"
   ]
  },
  {
   "cell_type": "markdown",
   "metadata": {},
   "source": [
    "Note that GeoNet do not usually pick S-phases.  S-phases are more difficult for automatic pickers to identify correctly,\n",
    "and can be difficult to pick manually. However, the additional information from S arrivals can greatly improve locations,\n",
    "particularly for offshore earthquakes (with poor azimuthal coverage).\n",
    "\n",
    "Lets zoom in on those P-picks."
   ]
  },
  {
   "cell_type": "code",
   "execution_count": 2,
   "metadata": {},
   "outputs": [],
   "source": [
    "short_st = Stream()\n",
    "for pick in event.picks:\n",
    "    if pick.phase_hint[0].upper() != \"P\":\n",
    "        continue\n",
    "    tr = st.select(id=pick.waveform_id.get_seed_string())\n",
    "    tr = tr.slice(pick.time - 0.5, pick.time + 2).copy()\n",
    "    short_st += tr\n",
    "short_st.merge().sort([\"starttime\"])\n",
    "fig = plot_picked(event, short_st)\n",
    "fig.show()"
   ]
  },
  {
   "cell_type": "markdown",
   "metadata": {},
   "source": [
    "From this view we can see that some arrivals are more impulsive than others.  The general rule is to **pick the first break** where\n",
    "a break is a deviation from the background noise to the earthquake waveform. This will give you the arrival of the first arriving P-phase, \n",
    "which can be used to infer the hypocenter; the location that the earthquake started.  Sometimes this first break can be hard to spot\n",
    "the change, either due to emmergent waveforms (common in media that have strong resonance) or low signal to noise ratios. It is normal\n",
    "to estimate your pick uncertainty when making manual picks.  This pick uncertainty can be incorporated into earthquake location inversions\n",
    "to weight the inversion, and to constrain the final location uncertainty.  Remember that earthquake locations are models of where an earthquake\n",
    "happened, and they have some intrinsic uncertainty associated with them."
   ]
  },
  {
   "cell_type": "markdown",
   "metadata": {},
   "source": [
    "## Pick your own\n",
    "\n",
    "I have written a little interactive plot for you to pick your own waveforms with. You will use this for the assignment as well. Bear in mind that this is a simple application for picking P and S phases. Other software are available and would be recommended for research or commercial purposes because they give you more control and options for picking and uncertainty. Some popular software packages are:\n",
    "- [Seisan](http://seis.geus.net/software/seisan/seisan.html)\n",
    "- [SAC](https://ds.iris.edu/files/sac-manual/)\n",
    "- [Seiscomp](https://www.seiscomp3.org/)\n",
    "\n",
    "To start with we will try picking the event we just looked at. You can compare your picks to the GeoNet picks once you are done."
   ]
  },
  {
   "cell_type": "code",
   "execution_count": 3,
   "metadata": {},
   "outputs": [
    {
     "name": "stdout",
     "output_type": "stream",
     "text": [
      "Make your picks using:\n",
      "\tleft mouse button: P\n",
      "\tright mouse button: S\n",
      "\t'a': amplitude at mouse location\n",
      "\t'e': end duration at mouse location - needs a P-pick to calculate duration\n",
      "\tP-wave polarity can be picked using the up and down arrows while hovering over a P-pick.\n",
      "\n",
      "Picks can be deleted by hovering over them and pressing the middle mouse button\n",
      "Pick made at 2018-07-22T03:14:59.711280Z\n",
      "Pick made at 2018-07-22T03:15:02.130940Z\n",
      "Pick made at 2018-07-22T03:15:00.638820Z\n",
      "Pick made at 2018-07-22T03:15:10.035180Z\n",
      "Finished picking.\n",
      "Finished processing event. Returning\n",
      "Returning event\n"
     ]
    }
   ],
   "source": [
    "from utilities.seismic_picker import SeismicPicker\n",
    "from obspy.core.event import ResourceIdentifier\n",
    "\n",
    "event_id = \"2018p546311\"\n",
    "\n",
    "picked_event = SeismicPicker(st).pick()\n",
    "# Because this event already has an ID number, you can add that in to the event\n",
    "# to help you keep track of things:\n",
    "\n",
    "picked_event.resource_id = ResourceIdentifier(id=event_id)\n",
    "\n",
    "# You will want to save your picks after you are done. To do that use something like:\n",
    "picked_event.write(\"{0}_picked.xml\".format(event_id), format=\"QUAKEML\")\n",
    "# Note you should try and keep the event ID in the filename"
   ]
  },
  {
   "cell_type": "markdown",
   "metadata": {},
   "source": [
    "You can change the event_id above and you will get a different event to pick.  Pick at least 10 and compare\n",
    "your picks to the GeoNet picks.\n",
    "\n",
    "You can re-load your picks using:\n",
    "\n",
    "```python\n",
    "from obspy import read_events\n",
    "\n",
    "catalog = read_events(\"your-pickfile-here\") # Replace with the file you want to read in\n",
    "```"
   ]
  }
 ],
 "metadata": {
  "kernelspec": {
   "display_name": "Python 3",
   "language": "python",
   "name": "python3"
  },
  "language_info": {
   "codemirror_mode": {
    "name": "ipython",
    "version": 3
   },
   "file_extension": ".py",
   "mimetype": "text/x-python",
   "name": "python",
   "nbconvert_exporter": "python",
   "pygments_lexer": "ipython3",
   "version": "3.7.6"
  }
 },
 "nbformat": 4,
 "nbformat_minor": 2
}
