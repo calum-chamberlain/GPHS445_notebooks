{
 "cells": [
  {
   "cell_type": "markdown",
   "metadata": {},
   "source": [
    "# Fourier Transforms\n",
    "\n",
    "Fourier transforms convert from periodic functions (in our case, periodic in time or space) to a Fourier series of orthogonal sine and cosine functions:\n",
    "\n",
    "\\begin{equation*}\n",
    "    a(t) = \\frac{1}{2}a_0 + \\sum_{n=1}^{\\infty}(c_n cos(n{\\omega}t) + s_n sin(n{\\omega}t))\n",
    "\\end{equation*}\n",
    "\n",
    "When s<sub>n</sub> and c<sub>n</sub> are Fourier coefficients.\n",
    "\n",
    "In seismology we use the Fourier transform to convert from the time domain to the frequency domain. Because we are dealing with digital data (discretely \n",
    "sampled) we make use of the discrete Fourier transform (DFT). We will often refer to the Fast Fourier transform (FFT) as well, which is an efficient computational\n",
    "implementation of the DFT. The Fourier transform allows us to study the frequencies that make up our seismogram - we will make use of this when computing\n",
    "magnitudes and thinking about earthquake source processes.  Over longer time-series we can also look at the the frequencies of various normal modes of the earth.\n",
    "\n",
    "One of the most common uses for the Fourier transform in seismology is when filtering seismograms.  Filters work as convolutions in the time domain, or\n",
    "multiplications in the frequency domain.  Because multiplication is more computationally efficient than convolution, filtering is commonly done in the\n",
    "frequency domain.  Of key importance here is that we can convert back from the frequency domain to the time domain using the inverse Fourier transform\n",
    "(IFT).\n",
    "\n",
    "In this notebook we will look at the Fourier spectrums of a few different signals - we will also play with decimating our data in the same way that we did in\n",
    "the [digitizers notebook](2_Digitizers.ipynb).\n",
    "\n",
    "Note: Discrete Fourier transforms assume that the data can be represented by periodic functions, thus the data that you are transforming is assumed to be periodic and must start and end at the same value to allow wraparound.  One way that we cope with this in seismology is to detrend our data (so that the start and end are zero)."
   ]
  },
  {
   "cell_type": "code",
   "execution_count": 1,
   "metadata": {},
   "outputs": [],
   "source": [
    "# Set up notebook\n",
    "%matplotlib widget\n",
    "import numpy as np\n",
    "import matplotlib.pyplot as plt\n",
    "from obspy import read\n",
    "plt.style.use('ggplot')\n",
    "\n",
    "\n",
    "def plot_fft(x, y, dt):\n",
    "    \"\"\"\n",
    "    Calculate the FFT of a discretely sampled series and plot the spectra.\n",
    "    \n",
    "    :type y: `numpy.ndarray`\n",
    "    :param y: Series to calculate FFT for.\n",
    "    :type dt: float\n",
    "    :param dt: \n",
    "        Sample interval - assumed to be in seconds, so frequencies in Hz.\n",
    "    \"\"\"\n",
    "    from scipy import fftpack\n",
    "    import warnings\n",
    "    \n",
    "\n",
    "    \n",
    "    N = len(y)\n",
    "    fft_len = fftpack.next_fast_len(N)  # Find the next fast length for the FFT\n",
    "    yf = fftpack.fft(y, n=fft_len)\n",
    "    xf = np.linspace(0.0, 1.0 / (2. * dt), int(N / 2))\n",
    "    yr = fftpack.ifft(yf)\n",
    "    \n",
    "    fig, ax = plt.subplots(nrows=3, figsize=(15, 8))\n",
    "    ax[0].plot(x, y, label=\"Time series\")\n",
    "    ax[0].set_xlabel(\"Time (s)\")\n",
    "    ax[0].autoscale(enable=True, axis='both', tight=True)\n",
    "    ax[0].legend()\n",
    "       \n",
    "    ax[1].loglog(xf, 2./N * np.abs(yf[:N//2]), label=\"Frequency spectra\")\n",
    "    ax[1].set_xlabel(\"Frequency (Hz)\")\n",
    "    ax[1].autoscale(enable=True, axis='both', tight=True)\n",
    "    ax[1].legend()\n",
    "    \n",
    "    ax[2].plot(x, np.real(yr), label=\"Reconstructed Time-series\")\n",
    "    ax[2].set_xlabel(\"Time (s)\")\n",
    "    ax[2].autoscale(enable=True, axis='both', tight=True)\n",
    "    ax[2].legend()\n",
    "    plt.show()"
   ]
  },
  {
   "cell_type": "code",
   "execution_count": 2,
   "metadata": {},
   "outputs": [
    {
     "data": {
      "application/vnd.jupyter.widget-view+json": {
       "model_id": "71b92cf317c7464f9ae6f8a9ee7878c3",
       "version_major": 2,
       "version_minor": 0
      },
      "text/plain": [
       "Canvas(toolbar=Toolbar(toolitems=[('Home', 'Reset original view', 'home', 'home'), ('Back', 'Back to previous …"
      ]
     },
     "metadata": {},
     "output_type": "display_data"
    }
   ],
   "source": [
    "sample_frequency = 50\n",
    "dt = 1 / sample_frequency\n",
    "sine_freq = 5\n",
    "x = np.arange(0.0, 50 * (1 / sine_freq), dt)\n",
    "y = np.sin(x * sine_freq * 2 * np.pi)\n",
    "\n",
    "plot_fft(x, y, dt)"
   ]
  },
  {
   "cell_type": "markdown",
   "metadata": {},
   "source": [
    "With this simple sine curve we get a nice clear peak in the frequency spectra at the frequency of the input sine curve.\n",
    "\n",
    "Lets try adding in a second, higher frequency since curve and see what that looks like.\n",
    "\n",
    "**Exercise:** Try adding another different sine wave of a similar frequency and see if you can resolve it in the\n",
    "frequency domain. Also note what happens when two similar sine-waves are summed - beating modulations."
   ]
  },
  {
   "cell_type": "code",
   "execution_count": 3,
   "metadata": {},
   "outputs": [
    {
     "data": {
      "application/vnd.jupyter.widget-view+json": {
       "model_id": "aacef4397b2244a9be69e8ba5b302dba",
       "version_major": 2,
       "version_minor": 0
      },
      "text/plain": [
       "Canvas(toolbar=Toolbar(toolitems=[('Home', 'Reset original view', 'home', 'home'), ('Back', 'Back to previous …"
      ]
     },
     "metadata": {},
     "output_type": "display_data"
    }
   ],
   "source": [
    "second_sine_freq = 7.5\n",
    "\n",
    "y_2 = y + np.sin(x * second_sine_freq * 2 * np.pi)\n",
    "\n",
    "plot_fft(x, y_2, dt)"
   ]
  },
  {
   "cell_type": "markdown",
   "metadata": {},
   "source": [
    "Now lets try some real data."
   ]
  },
  {
   "cell_type": "code",
   "execution_count": 4,
   "metadata": {},
   "outputs": [
    {
     "data": {
      "application/vnd.jupyter.widget-view+json": {
       "model_id": "4857d780d8cd40d7a69d885b8b8d7bbd",
       "version_major": 2,
       "version_minor": 0
      },
      "text/plain": [
       "Canvas(toolbar=Toolbar(toolitems=[('Home', 'Reset original view', 'home', 'home'), ('Back', 'Back to previous …"
      ]
     },
     "metadata": {},
     "output_type": "display_data"
    }
   ],
   "source": [
    "tr = read()[0]\n",
    "x = np.arange(0, tr.stats.npts * tr.stats.delta, tr.stats.delta)\n",
    "y = tr.data\n",
    "\n",
    "plot_fft(x, y, tr.stats.delta)"
   ]
  },
  {
   "cell_type": "markdown",
   "metadata": {},
   "source": [
    "**Question:** What is the dominant frequency here?\n",
    "\n",
    "You can see it in the raw data - this background low-frequency energy is often related to the \n",
    "Earth's noise microseisms. Also note that the amplitude of the frequency spectra falls off with\n",
    "increasing frequency. We will use this later to estimate moment magnitude.\n",
    "\n",
    "Lets see what our spectra looks like when we decimate our seismic data."
   ]
  },
  {
   "cell_type": "code",
   "execution_count": 5,
   "metadata": {},
   "outputs": [
    {
     "data": {
      "application/vnd.jupyter.widget-view+json": {
       "model_id": "ac75c6acb4474605b90656055503d8fa",
       "version_major": 2,
       "version_minor": 0
      },
      "text/plain": [
       "Canvas(toolbar=Toolbar(toolitems=[('Home', 'Reset original view', 'home', 'home'), ('Back', 'Back to previous …"
      ]
     },
     "metadata": {},
     "output_type": "display_data"
    }
   ],
   "source": [
    "tr.decimate(2)\n",
    "\n",
    "x = np.arange(0, tr.stats.npts * tr.stats.delta, tr.stats.delta)\n",
    "y = tr.data\n",
    "\n",
    "plot_fft(x, y, tr.stats.delta)"
   ]
  },
  {
   "cell_type": "markdown",
   "metadata": {},
   "source": [
    "**Exercise:** Play around with other sine-waves, and decimation factors.  What do you see happening to the spectra of the decimated seismogram?"
   ]
  },
  {
   "cell_type": "markdown",
   "metadata": {},
   "source": [
    "## Gibb's phenomenon\n",
    "\n",
    "Because we are using a DFT (Discrete Fourier Transform), which uses only a finite number of terms to\n",
    "describe the frequency content, we are susceptible to Gibb's phenomenon. Gibb's phenomemon occurs where\n",
    "there are discontinuities in the time-series (or equally, when there are discontinuities in the\n",
    "spectrum).  A disconinuity (e.g. something like a step) cannot to represented accurately with a \n",
    "finite number of sine waves: a step in the time-domain contains infinite frequencies.  The oscillations\n",
    "associated with the overshoot of sine-waves is known as Gibb's phenomenon.\n",
    "\n",
    "In the below example we artificially introduce a step into the previous time-series. Note that\n",
    "this step offset also introduces a step at the start and end of the time-series because the\n",
    "Fourier transform assumes the signal is periodic.  We see that our frequency spectra \"rings\",\n",
    "constantly returning to an almost flat spectrum up to the Nyquist."
   ]
  },
  {
   "cell_type": "code",
   "execution_count": 6,
   "metadata": {},
   "outputs": [
    {
     "data": {
      "application/vnd.jupyter.widget-view+json": {
       "model_id": "1667864236be4fd594e9cd6d551d4b5e",
       "version_major": 2,
       "version_minor": 0
      },
      "text/plain": [
       "Canvas(toolbar=Toolbar(toolitems=[('Home', 'Reset original view', 'home', 'home'), ('Back', 'Back to previous …"
      ]
     },
     "metadata": {},
     "output_type": "display_data"
    }
   ],
   "source": [
    "step_position = int(tr.stats.npts / 2)\n",
    "x = np.arange(0, tr.stats.npts * tr.stats.delta, tr.stats.delta)\n",
    "tr_stepped = tr.copy()\n",
    "tr_stepped.data[step_position:] -= 1e4\n",
    "y = tr_stepped.data\n",
    "\n",
    "plot_fft(x, y, tr.stats.delta)"
   ]
  },
  {
   "cell_type": "markdown",
   "metadata": {},
   "source": [
    "Similarly, if we generate a frequency spectrum with a step in it, the time-series generated by the\n",
    "inverse Fourier transform will ring:"
   ]
  },
  {
   "cell_type": "code",
   "execution_count": 7,
   "metadata": {},
   "outputs": [
    {
     "data": {
      "application/vnd.jupyter.widget-view+json": {
       "model_id": "3f08bb724bd547749192bff5847f00a6",
       "version_major": 2,
       "version_minor": 0
      },
      "text/plain": [
       "Canvas(toolbar=Toolbar(toolitems=[('Home', 'Reset original view', 'home', 'home'), ('Back', 'Back to previous …"
      ]
     },
     "metadata": {},
     "output_type": "display_data"
    }
   ],
   "source": [
    "from scipy import fftpack\n",
    "N = 500\n",
    "dt = 0.05\n",
    "step_position = 2  # Step position in Hz\n",
    "\n",
    "# Make the steped frequency spectra\n",
    "yf = np.ones(N) * 10\n",
    "nyquist = 1 / (2. * dt)\n",
    "if step_position >= nyquist:\n",
    "    raise NotImplementedError(\n",
    "        \"Step should be below nyquist: {0}\".format(nyquist))\n",
    "freq_interval = nyquist / int(N / 2)\n",
    "step_location = int(step_position / freq_interval)\n",
    "yf[step_location:] = np.ones_like(yf[step_location:])\n",
    "xf = np.linspace(0.0, 1.0 / (2. * dt), int(N / 2))\n",
    "\n",
    "# Do the ifft\n",
    "yr = fftpack.ifft(yf)\n",
    "x = np.linspace(0.0, N * dt, N)\n",
    "\n",
    "# Plot\n",
    "fig, ax = plt.subplots(nrows=2, figsize=(10, 8))\n",
    "ax[0].loglog(xf, 2./N * np.abs(yf[:N//2]), label=\"Frequency spectra\")\n",
    "ax[0].set_xlabel(\"Frequency (Hz)\")\n",
    "ax[0].autoscale(enable=True, axis='x', tight=True)\n",
    "ax[0].legend()\n",
    "\n",
    "ax[1].plot(x, np.real(yr), label=\"Reconstructed Time-series\")\n",
    "ax[1].set_xlabel(\"Time (s)\")\n",
    "ax[1].autoscale(enable=True, axis='both', tight=True)\n",
    "_ = ax[1].legend()"
   ]
  },
  {
   "cell_type": "markdown",
   "metadata": {},
   "source": [
    "You will note that there are lots of oscillations at the start and end of the time-series.\n",
    "\n",
    "**Exercise:** Try playing with the length of the Fourier transform (N) and see what it does \n",
    "to the ringing - what happens as you increase N and why do you think this happens? What do\n",
    "you think that means for the accuracy of Fourier transforms of short seismic data?  \n",
    "\n",
    "Hint, you need long time-series to accuretely represent long-period waves like the Earth's\n",
    "normal modes."
   ]
  },
  {
   "cell_type": "markdown",
   "metadata": {},
   "source": [
    "## Conclusion\n",
    "That is it for this notebook - hopefully this has provided you with some tools to examine time-series\n",
    "data in the frequency domain, and shown you that we can transfer to and from the frequency domain\n",
    "using the FFT and iFFT.\n",
    "\n",
    "In the [next notebook](4_Filtering_Resampling.ipynb) we will look at how we filter seismic data and what effect this has on the sepctra."
   ]
  },
  {
   "cell_type": "code",
   "execution_count": null,
   "metadata": {},
   "outputs": [],
   "source": []
  }
 ],
 "metadata": {
  "kernelspec": {
   "display_name": "Python 3",
   "language": "python",
   "name": "python3"
  },
  "language_info": {
   "codemirror_mode": {
    "name": "ipython",
    "version": 3
   },
   "file_extension": ".py",
   "mimetype": "text/x-python",
   "name": "python",
   "nbconvert_exporter": "python",
   "pygments_lexer": "ipython3",
   "version": "3.7.6"
  }
 },
 "nbformat": 4,
 "nbformat_minor": 2
}
