{
 "cells": [
  {
   "cell_type": "markdown",
   "metadata": {},
   "source": [
    "# Introduction to Python (for seismologists)\n",
    "\n",
    "<img alt=\"xkcd Python\" align=\"right\" style=\"width:40%\" src=\"https://imgs.xkcd.com/comics/python.png\">\n",
    "\n",
    "In this course we will be using the Python programming language to help us learn some of the fundamental ideas and methods in\n",
    "observational earthquake seismology. We are using Python because it is a fairly flexible language, with extensive open-source\n",
    "libraries written for it.  In particular, the Python package [obspy](www.obspy.org) makes working with seismic data much\n",
    "simpler and more intuituve than anything else I have tried. We also believe that learning Python (rather than Matlab) will\n",
    "provide a much more useful skillset for students: Python is used outside of the academic world, making learning Python a\n",
    "useful, transferable skill.\n",
    "\n",
    "With that said, what follows is a very brief intro to Python for newcomers.  The focus of this notebook is to introduce you\n",
    "to the simple data types and logic in Python.  There are many other great tutorials out there for more in-depth ideas, e.g.\n",
    "- [The Python tutorial](https://docs.python.org/3/tutorial/)\n",
    "- [LearnPython](https://www.learnpython.org/)\n",
    "- and many more.\n",
    "\n",
    "Most Python libraries have documentation.  If you find yourself stuck, or thinking *I wish I could do this*, it is worth having\n",
    "a search online for what you want, or what you are stuck on.  With Python, installing other packages can be quite simple using\n",
    "either [conda](https://conda.io/en/latest/) or [pip](https://pypi.org/project/pip/).\n",
    "\n",
    "## Python\n",
    "\n",
    "Python is an interpreted language (rather than a compiled language like Fortran or C). Because of this it is easy to\n",
    "iterate and see your results. You can interact with your code in a step-by-step way, making seeing how the logic of\n",
    "your code works simpler. However, because of the interpreted nature of the language, Python is rarely the fastest\n",
    "choice. To combat this, Python can readily be extended by compilled sections of code, meaning that time-critical\n",
    "sections of code can be sped-up.  This has led to quite a few libraries that use *Python as glue* to hold together\n",
    "faster sections of code written in C, fortran, or other languages. Python is open-source and runs almost anywhere. \n",
    "Python powers a whole range of things, from web-pages to data analysis.\n",
    "\n",
    "You can interact with Python by running a Python shell - in MacOS or Linux systems, open a terminal and type\n",
    "`python3` to start a Python shell, running python 3.x (the default Python on most systems is python 2.7, which\n",
    "is currently end-of-life, so best to start with Python 3). In windows, open the command line and\n",
    "type `C:\\python3\\python.exe`: you might have to check your Python version.  To get a more interactive, nicely\n",
    "coloured shell, I would recommend using the [iPython](https://ipython.org/) shell.\n",
    "\n",
    "## Jupyter notebooks\n",
    "\n",
    "This is a Jupyter notebook! [Jupyter notebooks](www.jupyter.org) provide inline interactive Python shells, alongside markdown capability to\n",
    "allow you to write descriptive comments around the code. In-fact, recently, [some scientific papers have been written\n",
    "in Jupyter notebooks](https://github.com/jupyter/jupyter/wiki/A-gallery-of-interesting-Jupyter-Notebooks#reproducible-academic-publications)\n",
    "which enables people to test their work. They are a great way to *show your work* while explaining what you did\n",
    "in more extensive prose. We are using them for teaching purposes because they let us play with the code and\n",
    "explain the ideas behind the code."
   ]
  },
  {
   "cell_type": "markdown",
   "metadata": {},
   "source": [
    "## Python data types\n",
    "\n",
    "Python has a range of high-level data types and objects.  Python is an object-oriented language, which means that\n",
    "*things* have attributes and methods (this includes functions, whcih are actually object in Python, but we don't need\n",
    "to worry about that in this course).\n",
    "\n",
    "In Python values are assigned to variable names using the `=` operator. There are no required line termination characters\n",
    "in Python (other than hitting return).\n",
    "\n",
    "The basic data types in Python are:\n",
    "- int - Integer numbers\n",
    "- float - Floating point (decimal) numbers\n",
    "- str - Strings\n",
    "- list - Lists of things - can be anything\n",
    "- tuples - Collections of things\n",
    "- dict - Dictionary of things of the form {key: value}\n",
    "\n",
    "Note that there are other data types in Python, both natively and as objects in other libraries, but these are the main\n",
    "ones we will be dealing with here.\n",
    "\n",
    "### Numbers"
   ]
  },
  {
   "cell_type": "code",
   "execution_count": 1,
   "metadata": {},
   "outputs": [
    {
     "name": "stdout",
     "output_type": "stream",
     "text": [
      "a is type <class 'int'>\n"
     ]
    }
   ],
   "source": [
    "# Note, in Python, comments in code are marked with a hash\n",
    "a = 2\n",
    "print(\"a is type {0}\".format(type(a)))  # print is a function used for printing a string to screen"
   ]
  },
  {
   "cell_type": "code",
   "execution_count": 2,
   "metadata": {},
   "outputs": [
    {
     "name": "stdout",
     "output_type": "stream",
     "text": [
      "a + b is 6 which is type <class 'int'>\n"
     ]
    }
   ],
   "source": [
    "b = 4\n",
    "c = a + b\n",
    "print(\"a + b is {0} which is type {1}\".format(c, type(c)))"
   ]
  },
  {
   "cell_type": "code",
   "execution_count": 3,
   "metadata": {},
   "outputs": [
    {
     "name": "stdout",
     "output_type": "stream",
     "text": [
      "c / 3 is 2.0 which is type <class 'float'>\n"
     ]
    }
   ],
   "source": [
    "# division always returns a floating point (decimal) number.\n",
    "d = c / 3\n",
    "print(\"c / 3 is {0} which is type {1}\".format(d, type(d)))"
   ]
  },
  {
   "cell_type": "code",
   "execution_count": 4,
   "metadata": {},
   "outputs": [
    {
     "name": "stdout",
     "output_type": "stream",
     "text": [
      "Division of 17 / 3 is 5.666666666666667 and type <class 'float'>.\n",
      "Floor division of 17 / 3 is 5 and type <class 'int'>\n"
     ]
    }
   ],
   "source": [
    "# // is floor division in Python, which discards the fractional part of the float\n",
    "print(\"Division of 17 / 3 is {0} and type {1}.\".format(17 / 3, type(17 / 3)))\n",
    "print(\"Floor division of 17 / 3 is {0} and type {1}\".format(17 // 3, type(17 // 3)))"
   ]
  },
  {
   "cell_type": "code",
   "execution_count": 5,
   "metadata": {},
   "outputs": [
    {
     "name": "stdout",
     "output_type": "stream",
     "text": [
      "10 x 2 is 20\n"
     ]
    }
   ],
   "source": [
    "# * is multiplication\n",
    "print(\"10 x 2 is {0}\".format(10 * 2))"
   ]
  },
  {
   "cell_type": "code",
   "execution_count": 6,
   "metadata": {},
   "outputs": [
    {
     "name": "stdout",
     "output_type": "stream",
     "text": [
      "2 squared is 4\n"
     ]
    }
   ],
   "source": [
    "# ** is \"power of\"\n",
    "print(\"2 squared is {0}\".format(2 ** 2))"
   ]
  },
  {
   "cell_type": "markdown",
   "metadata": {},
   "source": [
    "### Strings\n",
    "\n",
    "Strings are effectively lists of characters. Because of this you can do fun things with them like add them together,\n",
    "or access chunks of them."
   ]
  },
  {
   "cell_type": "code",
   "execution_count": 7,
   "metadata": {},
   "outputs": [
    {
     "name": "stdout",
     "output_type": "stream",
     "text": [
      "He's not the messiah\n"
     ]
    }
   ],
   "source": [
    "brian = \"He's not the messiah\"\n",
    "print(brian)"
   ]
  },
  {
   "cell_type": "code",
   "execution_count": 8,
   "metadata": {},
   "outputs": [
    {
     "name": "stdout",
     "output_type": "stream",
     "text": [
      "He's not the messiah: he's a very naughty boy!\n"
     ]
    }
   ],
   "source": [
    "what_is_he = \"he's a very naughty boy!\"\n",
    "# We can add strings together\n",
    "print(brian + \": \" + what_is_he)"
   ]
  },
  {
   "cell_type": "markdown",
   "metadata": {},
   "source": [
    "Another option that would be handy here is the \"join\" method on strings, which lets you join a list of strings together seperated by a character:"
   ]
  },
  {
   "cell_type": "code",
   "execution_count": 9,
   "metadata": {},
   "outputs": [
    {
     "name": "stdout",
     "output_type": "stream",
     "text": [
      "He's not the messiah: he's a very naughty boy!\n"
     ]
    }
   ],
   "source": [
    "window_call = \": \".join([brian, what_is_he])\n",
    "print(window_call)"
   ]
  },
  {
   "cell_type": "markdown",
   "metadata": {},
   "source": [
    "We can also access chunks of the string, or just a partcular character using it's index. In Python we use square-brackets to\n",
    "get to the index of something in a list. Note also that **Python indexing starts at zero**."
   ]
  },
  {
   "cell_type": "code",
   "execution_count": 10,
   "metadata": {},
   "outputs": [
    {
     "name": "stdout",
     "output_type": "stream",
     "text": [
      "H\n"
     ]
    }
   ],
   "source": [
    "print(brian[0])  # Access the zeroth element of the string"
   ]
  },
  {
   "cell_type": "code",
   "execution_count": 11,
   "metadata": {},
   "outputs": [
    {
     "name": "stdout",
     "output_type": "stream",
     "text": [
      "He's\n"
     ]
    }
   ],
   "source": [
    "print(brian[0:4])  # Access a \"slice\" of the string between the zeroth and fourth characters."
   ]
  },
  {
   "cell_type": "code",
   "execution_count": 12,
   "metadata": {},
   "outputs": [
    {
     "name": "stdout",
     "output_type": "stream",
     "text": [
      "siah\n"
     ]
    }
   ],
   "source": [
    "print(brian[-4:])  # Access a slice of the string begining at location n -4 (where n is the length of the string) to the end of the string"
   ]
  },
  {
   "cell_type": "markdown",
   "metadata": {},
   "source": [
    "Strings also have a split method, which we can use in this case to split the sentence into words:"
   ]
  },
  {
   "cell_type": "code",
   "execution_count": 13,
   "metadata": {},
   "outputs": [
    {
     "name": "stdout",
     "output_type": "stream",
     "text": [
      "[\"He's\", 'not', 'the', 'messiah:', \"he's\", 'a', 'very', 'naughty', 'boy!']\n"
     ]
    }
   ],
   "source": [
    "print(window_call.split(\" \"))  # Split the window_call on the space character"
   ]
  },
  {
   "cell_type": "markdown",
   "metadata": {},
   "source": [
    "This returns a list, our next data type.\n",
    "\n",
    "### Lists\n",
    "\n",
    "Lists are containers for other data types.  The objects they contain do not have to all be the same type. We declare a list\n",
    "either by using the `list` function, or using square brackets. Like strings, lists can be sliced to access certain parts of them.\n",
    "Also like strings, lists have a length, accessed using the `len` function. Lists also retain their order."
   ]
  },
  {
   "cell_type": "code",
   "execution_count": 14,
   "metadata": {},
   "outputs": [
    {
     "name": "stdout",
     "output_type": "stream",
     "text": [
      "[0, 1, 5, 42]\n",
      "42\n",
      "4\n"
     ]
    }
   ],
   "source": [
    "list_of_ints = [0, 1, 5, 42]\n",
    "print(list_of_ints)\n",
    "print(list_of_ints[3])\n",
    "print(len(list_of_ints))"
   ]
  },
  {
   "cell_type": "markdown",
   "metadata": {},
   "source": [
    "List are *mutable*, meaning their contents can be changed in place. This can be useful, but it can also be dangerous.  If you\n",
    "do not want to accidentally change your list, you might be better using a *tuple*. Lets show that mutability and replace 42 with\n",
    "a string."
   ]
  },
  {
   "cell_type": "code",
   "execution_count": 15,
   "metadata": {},
   "outputs": [
    {
     "name": "stdout",
     "output_type": "stream",
     "text": [
      "[0, 1, 5, 'The meaning of life the universe and everything']\n"
     ]
    }
   ],
   "source": [
    "list_of_ints[-1] = \"The meaning of life the universe and everything\"\n",
    "print(list_of_ints)"
   ]
  },
  {
   "cell_type": "markdown",
   "metadata": {},
   "source": [
    "We can also add items to the end of lists (note that this changes the original list):"
   ]
  },
  {
   "cell_type": "code",
   "execution_count": 16,
   "metadata": {},
   "outputs": [
    {
     "name": "stdout",
     "output_type": "stream",
     "text": [
      "[0, 1, 5, 'The meaning of life the universe and everything', 'and another thing']\n"
     ]
    }
   ],
   "source": [
    "list_of_ints.append(\"and another thing\")\n",
    "print(list_of_ints)"
   ]
  },
  {
   "cell_type": "markdown",
   "metadata": {},
   "source": [
    "We can also add lists together using the `+` sign (this does not work in-place, leaving the original list untouched):"
   ]
  },
  {
   "cell_type": "code",
   "execution_count": 17,
   "metadata": {},
   "outputs": [
    {
     "name": "stdout",
     "output_type": "stream",
     "text": [
      "[0, 1, 5, 'The meaning of life the universe and everything', 'and another thing', 'walrus', 64]\n"
     ]
    }
   ],
   "source": [
    "longer_list = list_of_ints + [\"walrus\", 64]\n",
    "print(longer_list)"
   ]
  },
  {
   "cell_type": "markdown",
   "metadata": {},
   "source": [
    "We can change the list in-plave if we want, using the inplace addition operator `+=` \n",
    "(note that this can be used on numberical data types too, along with `-=`, `*=`, `/=`):"
   ]
  },
  {
   "cell_type": "code",
   "execution_count": 18,
   "metadata": {},
   "outputs": [
    {
     "name": "stdout",
     "output_type": "stream",
     "text": [
      "[0, 1, 5, 'The meaning of life the universe and everything', 'and another thing', 'malcolm', 76.2]\n"
     ]
    }
   ],
   "source": [
    "list_of_ints += ['malcolm', 76.2]\n",
    "print(list_of_ints)"
   ]
  },
  {
   "cell_type": "markdown",
   "metadata": {},
   "source": [
    "### Tuples\n",
    "\n",
    "Tuples are simular to lists, but are *immutable*, e.g. they cannot be changed in place. They also maintain their order, and\n",
    "can contain a range of data-types.  Tuples are decalred wth either the `tuple` function, or using round brackets."
   ]
  },
  {
   "cell_type": "code",
   "execution_count": 19,
   "metadata": {},
   "outputs": [
    {
     "name": "stdout",
     "output_type": "stream",
     "text": [
      "('The meaning of life', 42, 2.034)\n"
     ]
    }
   ],
   "source": [
    "test_tuple = (\"The meaning of life\", 42, 2.034)\n",
    "print(test_tuple)"
   ]
  },
  {
   "cell_type": "markdown",
   "metadata": {},
   "source": [
    "Individual items of tuples can be accessed and they can be sliced, but they cannot be changed in place.  Trying to will raise an error."
   ]
  },
  {
   "cell_type": "code",
   "execution_count": 20,
   "metadata": {},
   "outputs": [
    {
     "ename": "TypeError",
     "evalue": "'tuple' object does not support item assignment",
     "output_type": "error",
     "traceback": [
      "\u001b[0;31m---------------------------------------------------------------------------\u001b[0m",
      "\u001b[0;31mTypeError\u001b[0m                                 Traceback (most recent call last)",
      "\u001b[0;32m<ipython-input-20-fd0cbbf99f91>\u001b[0m in \u001b[0;36m<module>\u001b[0;34m\u001b[0m\n\u001b[1;32m      1\u001b[0m \u001b[0;31m#NBVAL_RAISES_EXCEPTION\u001b[0m\u001b[0;34m\u001b[0m\u001b[0;34m\u001b[0m\u001b[0;34m\u001b[0m\u001b[0m\n\u001b[0;32m----> 2\u001b[0;31m \u001b[0mtest_tuple\u001b[0m\u001b[0;34m[\u001b[0m\u001b[0;36m0\u001b[0m\u001b[0;34m]\u001b[0m \u001b[0;34m=\u001b[0m \u001b[0;34m\"bob\"\u001b[0m\u001b[0;34m\u001b[0m\u001b[0;34m\u001b[0m\u001b[0m\n\u001b[0m",
      "\u001b[0;31mTypeError\u001b[0m: 'tuple' object does not support item assignment"
     ]
    }
   ],
   "source": [
    "#NBVAL_RAISES_EXCEPTION\n",
    "test_tuple[0] = \"bob\""
   ]
  },
  {
   "cell_type": "markdown",
   "metadata": {},
   "source": [
    "### Dictionaries\n",
    "\n",
    "Dictionaries are collections that are keyed.  They **do not** maintain their order. To get items from a dictionary\n",
    "you should not use the index of that item, rather you should use the key for that item.  Dictionary lookups\n",
    "are fast, and can be very useful when you want to associate a value with something. Dictionaries can be\n",
    "instantiated using either the `dict` function of using curly braces."
   ]
  },
  {
   "cell_type": "code",
   "execution_count": 21,
   "metadata": {},
   "outputs": [
    {
     "name": "stdout",
     "output_type": "stream",
     "text": [
      "{'The meaning of life the universe and everything': 42, \"He's not the messiah\": \"He's a very naughty boy\"}\n"
     ]
    }
   ],
   "source": [
    "test_dict = {\n",
    "    \"The meaning of life the universe and everything\": 42,\n",
    "    \"He's not the messiah\": \"He's a very naughty boy\"\n",
    "}\n",
    "print(test_dict)"
   ]
  },
  {
   "cell_type": "markdown",
   "metadata": {},
   "source": [
    "Using the key we can extract the value associated with it:"
   ]
  },
  {
   "cell_type": "code",
   "execution_count": 22,
   "metadata": {},
   "outputs": [
    {
     "name": "stdout",
     "output_type": "stream",
     "text": [
      "42\n"
     ]
    }
   ],
   "source": [
    "print(test_dict[\"The meaning of life the universe and everything\"])"
   ]
  },
  {
   "cell_type": "markdown",
   "metadata": {},
   "source": [
    "A more useful example might be defining an earthquakes location:"
   ]
  },
  {
   "cell_type": "code",
   "execution_count": 23,
   "metadata": {},
   "outputs": [
    {
     "name": "stdout",
     "output_type": "stream",
     "text": [
      "{'latitude': -42.12, 'longitude': 178.52, 'depth': 15.02}\n"
     ]
    }
   ],
   "source": [
    "earthquake_location = {\n",
    "    'latitude': -42.12,\n",
    "    'longitude': 178.52,\n",
    "    'depth': 15.02\n",
    "}\n",
    "print(earthquake_location)"
   ]
  },
  {
   "cell_type": "markdown",
   "metadata": {},
   "source": [
    "We can add more items to a dictionary using the `update` method.  If the key is not already in the dictionary, the key\n",
    "and the value will be added to the dictionary.  If the key is already present then the value for that key will be\n",
    "changed to the new value."
   ]
  },
  {
   "cell_type": "code",
   "execution_count": 24,
   "metadata": {},
   "outputs": [
    {
     "name": "stdout",
     "output_type": "stream",
     "text": [
      "{'latitude': -42.12, 'longitude': 178.52, 'depth': 10.2, 'magnitude': 5.3}\n"
     ]
    }
   ],
   "source": [
    "earthquake_location.update({\"magnitude\": 5.3, \"depth\": 10.2})\n",
    "print(earthquake_location)"
   ]
  },
  {
   "cell_type": "markdown",
   "metadata": {},
   "source": [
    "## Logic\n",
    "\n",
    "Now we know something of the basic data types in Python lets think about some basic logic.  Logical programming is the\n",
    "basis of most software - iteration is handled by `for` and `while` loops, and decision making by `if.. else` statements. Understanding\n",
    "basic programming logic will help you automate many things!\n",
    "\n",
    "### `For` loops\n",
    "\n",
    "`for` loops in Python allow us to iterate through something.  This can be a range of numbers, or items in a list, or\n",
    "values in an `iterator`. The `range` function is commonly used here, which generates an `iterator` through a range\n",
    "of integer values.  `iterator`s are preferable to `list`s in this context because they use less memory and are\n",
    "faster. \n",
    "\n",
    "The syntax of for loops is always:\n",
    "```python\n",
    "for variable in iterator:\n",
    "    do something\n",
    "```\n",
    "Where the internals of the for loop are indented (by four spaces preferably) and the end of the loop is\n",
    "marked by returning to the prior indentation level.  You can nest for loops, but you *must* be careful\n",
    "to use the correct indentation.\n",
    "\n",
    "Below is an example of using a iterator then a list:"
   ]
  },
  {
   "cell_type": "code",
   "execution_count": 25,
   "metadata": {},
   "outputs": [
    {
     "name": "stdout",
     "output_type": "stream",
     "text": [
      "0\n",
      "1\n",
      "2\n",
      "3\n",
      "4\n",
      "5\n",
      "6\n",
      "7\n",
      "8\n",
      "9\n"
     ]
    }
   ],
   "source": [
    "# Lets do some looping maths\n",
    "for i in range(10):  # For loops have to have the syntax: for variable in iterator:\n",
    "    print(i)"
   ]
  },
  {
   "cell_type": "markdown",
   "metadata": {},
   "source": [
    "This gives the same result (but is preferable to):"
   ]
  },
  {
   "cell_type": "code",
   "execution_count": 26,
   "metadata": {},
   "outputs": [
    {
     "name": "stdout",
     "output_type": "stream",
     "text": [
      "0\n",
      "1\n",
      "2\n",
      "3\n",
      "4\n",
      "5\n",
      "6\n",
      "7\n",
      "8\n",
      "9\n"
     ]
    }
   ],
   "source": [
    "for i in [0, 1, 2, 3, 4, 5, 6, 7, 8, 9]:\n",
    "    print(i)"
   ]
  },
  {
   "cell_type": "markdown",
   "metadata": {},
   "source": [
    "We could do something similar with a while loop, but you have to be careful that you don't start an infinite loop!"
   ]
  },
  {
   "cell_type": "code",
   "execution_count": 27,
   "metadata": {},
   "outputs": [
    {
     "name": "stdout",
     "output_type": "stream",
     "text": [
      "0\n",
      "1\n",
      "2\n",
      "3\n",
      "4\n",
      "5\n",
      "6\n",
      "7\n",
      "8\n",
      "9\n"
     ]
    }
   ],
   "source": [
    "i = 0\n",
    "while i < 10:\n",
    "    print(i)\n",
    "    i += 1  # Must increase otherwise we will continue forerver!"
   ]
  },
  {
   "cell_type": "markdown",
   "metadata": {},
   "source": [
    "`if... else` statements require us to understand Python's comparison operators. These are:\n",
    "- Equal: `a == b`\n",
    "- Not-equal: `a != b`\n",
    "- Less than: `a < b`\n",
    "- Greater than: `a > b`\n",
    "- Less than or equal to: `a <= b`\n",
    "- Greater than or equal to: `a >= b`\n",
    "\n",
    "`if` is a logical true/false comparison, if the condition stated in the if statement resolves to `True` then\n",
    "the code within the `if` will be executed. `else` is attached to a preceeding `if` (or, in more advanced cases\n",
    "can be used with a `for` loop), and the code within the `else` statement will be executed if the preceeding\n",
    "`if` statement resolves to `False` (note than `True` and `False` are of `boolean` type). Alongside these\n",
    "if the `elif` statement, which is a contraction of else and if. This conducts a second comparison executed\n",
    "if the preceeding `if` statement resolves `False`. The code within an `elif` block will be executed if the\n",
    "preceeding `if` statement reolves `False` and the condition of the `elif` statement resolves `True`.\n",
    "\n",
    "For example:"
   ]
  },
  {
   "cell_type": "code",
   "execution_count": 28,
   "metadata": {},
   "outputs": [
    {
     "name": "stdout",
     "output_type": "stream",
     "text": [
      "a is bigger than b\n"
     ]
    }
   ],
   "source": [
    "a = 42\n",
    "b = 12\n",
    "if a > b:\n",
    "    print(\"a is bigger than b\")\n",
    "elif a == b:\n",
    "    print(\"a is the same as b\")\n",
    "else:\n",
    "    print(\"b is greater than a\")"
   ]
  },
  {
   "cell_type": "markdown",
   "metadata": {},
   "source": [
    "Conditions can be reversed in Python using the `not` keyword, e.g. (note this is a bad example because we can just use the reversed operator):"
   ]
  },
  {
   "cell_type": "code",
   "execution_count": 29,
   "metadata": {},
   "outputs": [
    {
     "name": "stdout",
     "output_type": "stream",
     "text": [
      "a is not less than b\n"
     ]
    }
   ],
   "source": [
    "if not a < b:\n",
    "    print(\"a is not less than b\")"
   ]
  },
  {
   "cell_type": "markdown",
   "metadata": {},
   "source": [
    "Conditions can be chained in Python using the `and` and `or` keywords:"
   ]
  },
  {
   "cell_type": "code",
   "execution_count": 30,
   "metadata": {},
   "outputs": [
    {
     "name": "stdout",
     "output_type": "stream",
     "text": [
      "Condition met\n"
     ]
    }
   ],
   "source": [
    "if a > b and b == 12:\n",
    "    print(\"Condition met\")"
   ]
  },
  {
   "cell_type": "markdown",
   "metadata": {},
   "source": [
    "## Functions\n",
    "\n",
    "Programs are much easier to write and understand if they are broken down into logical chunks. Much like sentences, paragraphs and\n",
    "chapters in books help us follow the flow of prose, functions are one of the building blocks of writing useful, repeatable and\n",
    "understandable code.  Ideally a function should encapsulate one logical operation (a sentence), these functions might then be called by other\n",
    "functions (a chapter) which are then called by an overaching script (the book).  This nesting can go on a lot, without issue.\n",
    "\n",
    "Writing functions also allows us to test smaller chunks of code, allowing us to better interogate code when it goes wrong (everyones\n",
    "code goes wrong!).\n",
    "\n",
    "Functions are declared using the `def function_name(arguments):` syntax (note it is good practice to document your function with\n",
    "a little description and outline of what the variables are expected to be, a golden rule is: *if it isn't documented, it doesn't exist*), e.g.:"
   ]
  },
  {
   "cell_type": "code",
   "execution_count": 31,
   "metadata": {},
   "outputs": [],
   "source": [
    "def linear_relation(x, c, m):\n",
    "    \"\"\"\n",
    "    Compute y value for a given x.\n",
    "    \n",
    "    :param x: X value to compute y for\n",
    "    :param c: Constant in y = mx + c\n",
    "    :param m: Gradient\n",
    "    \n",
    "    :returns: y\n",
    "    \"\"\"\n",
    "    y = (m * x) + c\n",
    "    return y"
   ]
  },
  {
   "cell_type": "markdown",
   "metadata": {},
   "source": [
    "We can then call that function to get the result (returned by the `return` keyword):"
   ]
  },
  {
   "cell_type": "code",
   "execution_count": 32,
   "metadata": {},
   "outputs": [
    {
     "name": "stdout",
     "output_type": "stream",
     "text": [
      "x = 2.2, y = 5.800000000000001\n"
     ]
    }
   ],
   "source": [
    "x = 2.2\n",
    "y = linear_relation(x=x, c=1.4, m=2)\n",
    "print(\"x = {0}, y = {1}\".format(x, y))"
   ]
  },
  {
   "cell_type": "markdown",
   "metadata": {},
   "source": [
    "Note that you do not have to specify the argument names, but if you do not, then the order of the arguments matters.\n",
    "Specifying the argument names can guard against unforceen changes to the function (e.g. changing the order of the\n",
    "arguments in the function call), and make code easier to understand.\n",
    "\n",
    "You can also specify default arguments in the function declaration to make the call simpler:"
   ]
  },
  {
   "cell_type": "code",
   "execution_count": 33,
   "metadata": {},
   "outputs": [],
   "source": [
    "def default_relation(x, c=1, m=3):\n",
    "    \"\"\"\n",
    "    Compute y value for a given x.\n",
    "    \n",
    "    :param x: X value to compute y for\n",
    "    :param c: Constant in y = mx + c\n",
    "    :param m: Gradient\n",
    "    \n",
    "    :returns: y\n",
    "    \"\"\"\n",
    "    y = (m * x) + c\n",
    "    return y"
   ]
  },
  {
   "cell_type": "markdown",
   "metadata": {},
   "source": [
    "This isn't a particularly useful function though, there is only one line of code in the body of it.  We will have examples of more complicated\n",
    "and useful functions later on.  This concldues our brief intro to Python.  Hopefully this gives you enough of an idea of what is available that you\n",
    "can play around and explore the rest of the language."
   ]
  },
  {
   "cell_type": "code",
   "execution_count": null,
   "metadata": {},
   "outputs": [],
   "source": []
  }
 ],
 "metadata": {
  "kernelspec": {
   "display_name": "Python 3",
   "language": "python",
   "name": "python3"
  },
  "language_info": {
   "codemirror_mode": {
    "name": "ipython",
    "version": 3
   },
   "file_extension": ".py",
   "mimetype": "text/x-python",
   "name": "python",
   "nbconvert_exporter": "python",
   "pygments_lexer": "ipython3",
   "version": "3.7.3"
  }
 },
 "nbformat": 4,
 "nbformat_minor": 2
}
