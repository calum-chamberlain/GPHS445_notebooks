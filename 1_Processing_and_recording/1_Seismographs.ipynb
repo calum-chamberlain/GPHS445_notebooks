{
 "cells": [
  {
   "cell_type": "markdown",
   "metadata": {},
   "source": [
    "# Seismographs\n",
    "\n",
    "<img alt=\"Snares Island sensor\" align=\"right\" style=\"width:40%\" src=\"Images/Snares_Trillium_Compact.jpg\">\n",
    "\n",
    "Seismographs are the instruments that record seismic waves. Ideally seismographs will be be able to \n",
    "record a wide range of frequencies (*broadband*) and have a wide range of amplitudes (have a high \n",
    "*dynamic range*). \n",
    "\n",
    "Seismographs consist of a seismometer (digital seismometers convert ground motion to voltage), and a recording system, which incorporates precise timing.  We will discuss the process of digitizing the\n",
    "analogue data produced by the seismometer in the [next notebook](2_Digitizers.ipynb). \n",
    "This notebook will focus on the seismometer.\n",
    "\n",
    "The image on the right shows a Trillium Compact broadband seismometer during installation\n",
    "on Snares Island.\n",
    "\n",
    "Relevant information for this notebook can be found in Stein and Wysession Chapter 6.6."
   ]
  },
  {
   "cell_type": "markdown",
   "metadata": {},
   "source": [
    "Seismometers attempt to measure the movement of the Earth while attached to the Earth. This is challenging\n",
    "in part because the obvious reference frame (the Earth) is itself moving. The way that mechanical \n",
    "seismometers try to circumvent this problem is to measure relative to an inertial reference frame. A\n",
    "simple example of an inertial system is the pendulum. We will use the example of a mass on a spring\n",
    "(which is a pendulum, or simple harmonic oscillator) to demonstrate how the mechanical seismometer\n",
    "works.\n",
    "\n",
    "The equation of motion of an undamped mass on a spring system follows from Hooke's law and\n",
    "Newton's second law of motion.\n",
    "\n",
    "Recall Hooke's law:\n",
    "\\begin{equation*}\n",
    "    F = -k\\xi\n",
    "\\end{equation*}\n",
    "where $\\xi$ is displacement relative to the absolute reference frame (the case of the seismometer in our case),\n",
    "$k$ is the spring constant and $F$ is force.  In the above $\\xi$ is a function of time and therefore so is $F$.\n",
    "\n",
    "Recall Newton's second law of motion:\n",
    "\\begin{equation*}\n",
    "    F = ma \\implies -k\\xi = m\\frac{d^2 \\xi}{dt^2}\n",
    "\\end{equation*}\n",
    "where $m$ is the sprung mass.\n",
    "\n",
    "The natural frequency $\\omega_0$ of the system is defined as:\n",
    "\\begin{equation*}\n",
    "    \\omega_0^2 \\equiv \\frac{k}{m}\n",
    "\\end{equation*}\n",
    "\n",
    "Therefore the overall equation of motion of this system is\n",
    "\\begin{equation*}\n",
    "    \\frac{d^2 \\xi}{dt^2} = -\\omega_0^2\\xi\n",
    "\\end{equation*}\n",
    "\n",
    "A solution to this system is:\n",
    "\\begin{equation*}\n",
    "    \\xi = A\\cos(\\omega_0t + \\delta)\n",
    "\\end{equation*}\n",
    "where $A$ is the amplitude of the oscillation and $\\delta$ is a phase constant.\n",
    "\n",
    "We can see that this a solution by taking the second differential:\n",
    "\\begin{equation*}\n",
    "    \\frac{d^2\\xi}{dt^2} = -\\omega_0^2A\\cos(\\omega_0t + \\delta)\n",
    "\\end{equation*}\n",
    "\n",
    "Below is a function to calculate the displacement of a mass for a simple harmonic oscillator:"
   ]
  },
  {
   "cell_type": "code",
   "execution_count": 1,
   "metadata": {},
   "outputs": [],
   "source": [
    "%matplotlib widget\n",
    "import numpy as np\n",
    "import matplotlib.pyplot as plt\n",
    "plt.style.use('ggplot') # Makes plots work well with dark theme\n",
    "\n",
    "def plot_shm(mass, spring_constant, initial_amplitude=2.0, initial_velocity=0.0,\n",
    "             time_step=0.05, length=100):\n",
    "    \"\"\"\n",
    "    Calculate the oscillation of an undamped simple harmonic oscillator and plot.\n",
    "    \n",
    "    :type mass: float\n",
    "    :param mass: Mass of object on spring (kg)\n",
    "    :type spring_constant: float\n",
    "    :param spring_constant: Spring constant of spring (kg/m)\n",
    "    :type initial_amplitude: float\n",
    "    :param initial_amplitude: Initial step displacement at time=0 (m)\n",
    "    :type initial_velocity: float\n",
    "    :param initial_velocity: Initial velocity at time=0 (m/s)\n",
    "    :type time_step: float\n",
    "    :param time_step: Sample interval in seconds\n",
    "    :type length: float\n",
    "    :param length: Duration of waveform in seconds\n",
    "    \"\"\"\n",
    "    time_samples = np.arange(0, length, time_step)\n",
    "    displacements = np.zeros_like(time_samples)\n",
    "    velocities = np.zeros_like(time_samples)\n",
    "    \n",
    "    displacements[0] = initial_amplitude\n",
    "    velocities[0] = initial_velocity\n",
    "    \n",
    "    omega = np.sqrt(spring_constant / mass)\n",
    "    delta = np.arctan(np.radians(initial_velocity / (-omega * initial_amplitude)))\n",
    "    amplitude = initial_amplitude / np.cos(delta)\n",
    "\n",
    "    for i in range(len(time_samples) - 1):\n",
    "        displacements[i + 1] = amplitude * np.cos(\n",
    "            omega * time_samples[i] + delta)\n",
    "\n",
    "    fig, ax = plt.subplots()\n",
    "    ax.plot(time_samples, displacements)\n",
    "    ax.set_xlabel(\"Time (s)\")\n",
    "    ax.set_ylabel(\"Displacement (m)\")\n",
    "    plt.show()"
   ]
  },
  {
   "cell_type": "markdown",
   "metadata": {},
   "source": [
    "**Exercise:** Try playing with different masses and spring-constants - you will \n",
    "note that the frequency of oscillations changes based on the spring constant and mass."
   ]
  },
  {
   "cell_type": "code",
   "execution_count": 2,
   "metadata": {},
   "outputs": [
    {
     "data": {
      "application/vnd.jupyter.widget-view+json": {
       "model_id": "80456b9d4cf64800a5c46268c1f16778",
       "version_major": 2,
       "version_minor": 0
      },
      "text/plain": [
       "Canvas(toolbar=Toolbar(toolitems=[('Home', 'Reset original view', 'home', 'home'), ('Back', 'Back to previous …"
      ]
     },
     "metadata": {},
     "output_type": "display_data"
    }
   ],
   "source": [
    "mass = 10.0\n",
    "spring_constant = 1.0\n",
    "initial_amplitude = 4\n",
    "initial_velocity = 0\n",
    "\n",
    "plot_shm(mass=mass, spring_constant=spring_constant,\n",
    "         initial_amplitude=initial_amplitude,\n",
    "         initial_velocity=initial_velocity)"
   ]
  },
  {
   "cell_type": "markdown",
   "metadata": {},
   "source": [
    "These oscillations continue forever, which isn't good if you want to measure responses in the Earth. If we add damping we can\n",
    "stop these osciallations.  When we add damping our equation becomes:\n",
    "\\begin{equation*}\n",
    "    \\frac{d^2\\xi}{dt^2} + 2\\varepsilon\\frac{d\\xi}{dt} + \\omega_0^2\\xi = 0\n",
    "\\end{equation*}\n",
    "where $\\varepsilon$ is the damping parameter, $\\varepsilon = c / 2m$, with $c$ as the damping coefficient.\n",
    "\n",
    "A solution to this (for the underdamped case) is\n",
    "\\begin{equation*}\n",
    "    \\xi = Ae^{-t\\varepsilon / 2m}\\cos(\\omega't + \\delta)\n",
    "\\end{equation*}\n",
    "where $\\omega'$ is related to the natural frequency by\n",
    "\\begin{equation*}\n",
    "    \\omega' = \\omega_0\\sqrt{1 - \\frac{b}{2m\\omega_0}^2}\n",
    "\\end{equation*}\n",
    "\n",
    "This is coded below:"
   ]
  },
  {
   "cell_type": "code",
   "execution_count": 3,
   "metadata": {},
   "outputs": [],
   "source": [
    "def plot_damped_shm(mass, spring_constant, percent_damping=100.0, initial_amplitude=2.0,\n",
    "                    initial_velocity=0.0, time_step=0.05, length=100):\n",
    "    \"\"\"\n",
    "    Calculate the oscillation of an underdamped simple harmonic oscillator and plot.\n",
    "    \n",
    "    :type mass: float\n",
    "    :param mass: Mass of object on spring (kg)\n",
    "    :type spring_constant: float\n",
    "    :param spring_constant: Spring constant of spring (kg/m)\n",
    "    :type percent_damping: float\n",
    "    :param percent_damping: Percentage damping - will error if > 100.\n",
    "    :type initial_amplitude: float\n",
    "    :param initial_amplitude: Initial step displacement at time=0 (m)\n",
    "    :type initial_velocity: float\n",
    "    :param initial_velocity: Initial velocity at time=0 (m/s)\n",
    "    :type time_step: float\n",
    "    :param time_step: Sample interval in seconds\n",
    "    :type length: float\n",
    "    :param length: Duration of waveform in seconds\n",
    "    \"\"\"\n",
    "    if percent_damping > 100:\n",
    "        raise NotImplementedError(\"Only implemented underdamped solution\")\n",
    "    time_samples = np.arange(0, length, time_step)\n",
    "    displacements = np.zeros_like(time_samples)\n",
    "    velocities = np.zeros_like(time_samples)\n",
    "    \n",
    "    displacements[0] = initial_amplitude\n",
    "    velocities[0] = initial_velocity\n",
    "    \n",
    "    omega = np.sqrt(spring_constant / mass)\n",
    "    delta = np.arctan(np.radians(initial_velocity / (-omega * initial_amplitude)))\n",
    "    amplitude = initial_amplitude / np.cos(delta)\n",
    "    critical_damping = 2 * mass * omega\n",
    "    damping = (percent_damping / 100) * critical_damping\n",
    "    freq = omega * np.sqrt(1 - (damping / (2 * mass * omega)) ** 2)\n",
    "\n",
    "    for i in range(len(time_samples) - 1):\n",
    "        displacements[i + 1] = amplitude * np.exp(\n",
    "            (-damping / (2 * mass)) * time_samples[i]) * np.cos(\n",
    "            freq * time_samples[i] + delta)\n",
    "    fig, ax = plt.subplots()\n",
    "    ax.plot(time_samples, displacements)\n",
    "    ax.set_xlabel(\"Time\")\n",
    "    ax.set_ylabel(\"Displacement\")\n",
    "    plt.show()"
   ]
  },
  {
   "cell_type": "markdown",
   "metadata": {},
   "source": [
    "**Exercise:**  Play with different damping parameters and see what happens.  Note that in \n",
    "the overdamped case (which is not shown here) there is no oscillation.\n",
    "\n",
    "What do you think would be ideal for a seismometer?"
   ]
  },
  {
   "cell_type": "code",
   "execution_count": 9,
   "metadata": {},
   "outputs": [
    {
     "data": {
      "application/vnd.jupyter.widget-view+json": {
       "model_id": "ac033914a1364d839d39256a1b527c22",
       "version_major": 2,
       "version_minor": 0
      },
      "text/plain": [
       "Canvas(toolbar=Toolbar(toolitems=[('Home', 'Reset original view', 'home', 'home'), ('Back', 'Back to previous …"
      ]
     },
     "metadata": {},
     "output_type": "display_data"
    }
   ],
   "source": [
    "plot_damped_shm(mass=20, spring_constant=4, percent_damping=100, \n",
    "                initial_amplitude=20)"
   ]
  },
  {
   "cell_type": "markdown",
   "metadata": {},
   "source": [
    "## Seismometer response to ground motion\n",
    "\n",
    "So far we have just considered some initial conditions in our system, with no subsequent forcing.  This\n",
    "kind of step-change with no following motion rarely/never happens in the Earth.  When we consider\n",
    "that the Earth is forcing our seismometer we end up with the equation\n",
    "\\begin{equation*}\n",
    "    \\frac{d^2\\xi}{dt^2} + 2\\varepsilon\\frac{d\\xi}{dt} + \\omega_0^2\\xi = \\frac{d^2u}{dt^2}\n",
    "\\end{equation*}\n",
    "where $u$ is the ground displacement that forces the seismometer.\n",
    "\n",
    "To solve we assume that:\n",
    "\\begin{equation*}\n",
    "    u(t) = e^{-i\\omega t}  \\textrm{ and } \\xi(t) = X(\\omega)e^{-i\\omega t}\n",
    "\\end{equation*}\n",
    "where $X(\\omega)$ is the *ampltide response* of the seismometer and $\\omega$ is the forcing frequency.\n",
    "\n",
    "By substitution we see that:\n",
    "\\begin{equation*}\n",
    "    X(\\omega) = \\frac{-\\omega^2}{\\omega^2 - \\omega_0^2 + 2\\varepsilon i\\omega}\n",
    "\\end{equation*}\n",
    "\n",
    "$X(\\omega)$ is complex - see Stein and Wysession (6.6) for a discussion of how amplitude and phase vary with\n",
    "damping factor."
   ]
  },
  {
   "cell_type": "markdown",
   "metadata": {},
   "source": [
    "## Modern Seismographs\n",
    "\n",
    "Modern seismometers use a force-balance system rather than a fully mechanical system - this system uses a negative feedback\n",
    "loop to reduce the relative motion of masses in the sensor. This reduces resonance in the system and increases sensitivty,\n",
    "linearity and dynamic range of the seismometer.  This system also reduces the need for large masses (see above systems for\n",
    "why you need a large mass to be sensitive to long-period oscillations), which allows us to use smaller sensors.\n",
    "\n",
    "From this we can see that the response of an instrument to ground shaking has two components, a phase and an amplitude\n",
    "response.  These responses are requency dependent.  This is where we get the idea of seismometers being sensitive to\n",
    "a set range of frequencies:\n",
    "- short-period seismometers are most sensitive to high-frequency shaking;\n",
    "- long-period seismometers are most sensitive to low-frequency shaking;\n",
    "- broadband seismometers are sensitive to a range of frequencies.\n",
    "\n",
    "Different applications, that care about different frequencies, might prefer to use a different type of seismometer, for\n",
    "instance, active-source experiments usually use short-period instruments, which are usually more robust than broadband\n",
    "systems, and are sensitive to the frequencies of their source. Generally in earthquake seismology broadband instruments\n",
    "are preferable as they allow us to study a more complete spectrum of the seismic source."
   ]
  },
  {
   "cell_type": "markdown",
   "metadata": {},
   "source": [
    "## Instrument response\n",
    "\n",
    "How a seismograph responds to ground motion is described by the instrument response. This is generally\n",
    "a convolution of the seismometer response, the Finite Impulse Response (FIR) filters applied by the\n",
    "digitizer, and the gain applied by the digitizer. As long as we know the instrument response we\n",
    "can simulate the ground motion from the recorded waveforms: we need to do this to measure things\n",
    "like peak ground motion (usually either Peak Ground Velocity (PGV) or Peak Ground Acceleration (PGA)),\n",
    "or to infer seismic moment.\n",
    "\n",
    "Correction for instrument response is via deconvolution of the frequency response from the recorded\n",
    "data. Deconvolutions are often computed as division in the frequency domain (see \n",
    "[the filtering notebook](4_Filtering_Resampling.ipynb) for details on convolutions), however,\n",
    "division of low-values can be numberically unstable, so when we perform this deconvolution\n",
    "we can apply a \"water-level\" that suppresses the instrument response for values below\n",
    "this level (in dB).\n",
    "\n",
    "[Obspy](www.obspy.org) provides routines for working with seismic data (in the\n",
    "[obspy introduction](5_Intro_To_Obspy.ipynb) we will look more into what obspy provides), including\n",
    "ways of getting data from data centres and plotting and removing instrument response.\n",
    "\n",
    "The function below uses obspy functions to download data from GeoNet for the 6 minutes after\n",
    "the Kaikoura 2016 M7.8 earthquake in New Zealand. It then gets the response information from\n",
    "the GeoNet FDSN server, pre-filters the data and applies a \"water-level\" to stabalise the\n",
    "deconvolution of the instrument response from the data.  The results are plotted."
   ]
  },
  {
   "cell_type": "code",
   "execution_count": 10,
   "metadata": {},
   "outputs": [],
   "source": [
    "from obspy import UTCDateTime\n",
    "from obspy.clients.fdsn import Client\n",
    "\n",
    "def get_and_remove_response(station, channel, location=\"*\", output=\"DISP\",\n",
    "                            t1=UTCDateTime(2016, 11, 13, 11, 2, 56),\n",
    "                            duration=360):\n",
    "    \"\"\"\n",
    "    Get seismic data for a GeoNet station and remove the \n",
    "    instrument response.\n",
    "    \n",
    "    :type station: str\n",
    "    :param station: Station in the GeoNet network\n",
    "    :type channel: str\n",
    "    :param channel: Channel SEED string to download\n",
    "    :type output: str\n",
    "    :param output: Output, either DISP, VEL or ACC\n",
    "    :type t1: UTCDateTime\n",
    "    :param t1: Start-time for data to download\n",
    "    :type duration: float\n",
    "    :param duration: Duration to download\n",
    "    \"\"\"\n",
    "    client = Client(\"GEONET\")\n",
    "    st = client.get_waveforms(\n",
    "        network=\"NZ\", station=station, location=location,\n",
    "        channel=channel, starttime=t1, endtime=t1 + duration)\n",
    "    tr = st.merge()[0]\n",
    "    inv = client.get_stations(\n",
    "        network=tr.stats.network, station=tr.stats.station,\n",
    "        location=tr.stats.location, channel=tr.stats.channel,\n",
    "        level=\"response\", startbefore=t1, endafter=t1 + duration)\n",
    "    pre_filt = (0.005, 0.006, 30.0, 35.0)\n",
    "    tr.remove_response(output=output, pre_filt=pre_filt, plot=True,\n",
    "                       water_level=60, inventory=inv)"
   ]
  },
  {
   "cell_type": "markdown",
   "metadata": {},
   "source": [
    "We can try this on a few stations. See the [GeoNet station search](https://www.geonet.org.nz/data/network/sensor/map) \n",
    "to find stations of interest. Note that broadband instruments throughout much of New Zealand\n",
    "have clipped waveforms.  The discontinuities at these clips make the Fourier transform \n",
    "unstable and result in artefacts, we can use the water-level to suppress some of these\n",
    "artefacts.  This relates to the need for seismographs to have a high dynamic range.\n",
    "\n",
    "Below we try with a range of instruments, starting with a broadband in Fox Glacier:"
   ]
  },
  {
   "cell_type": "code",
   "execution_count": 12,
   "metadata": {},
   "outputs": [
    {
     "data": {
      "application/vnd.jupyter.widget-view+json": {
       "model_id": "7e05999c0b934c3fb5293cf84c769f92",
       "version_major": 2,
       "version_minor": 0
      },
      "text/plain": [
       "Canvas(toolbar=Toolbar(toolitems=[('Home', 'Reset original view', 'home', 'home'), ('Back', 'Back to previous …"
      ]
     },
     "metadata": {},
     "output_type": "display_data"
    }
   ],
   "source": [
    "get_and_remove_response(station=\"FOZ\", channel=\"HHZ\", location=\"11\")"
   ]
  },
  {
   "cell_type": "markdown",
   "metadata": {},
   "source": [
    "Next we will try a short-period borehole sensor in the DFDP-1 borehole near Whataroa:"
   ]
  },
  {
   "cell_type": "code",
   "execution_count": 13,
   "metadata": {},
   "outputs": [
    {
     "data": {
      "application/vnd.jupyter.widget-view+json": {
       "model_id": "094868403a984029adf32c86fb1c4c42",
       "version_major": 2,
       "version_minor": 0
      },
      "text/plain": [
       "Canvas(toolbar=Toolbar(toolitems=[('Home', 'Reset original view', 'home', 'home'), ('Back', 'Back to previous …"
      ]
     },
     "metadata": {},
     "output_type": "display_data"
    }
   ],
   "source": [
    "get_and_remove_response(station=\"GCSZ\", channel=\"EHZ\")  \n",
    "# Note the difference in channel naming for the short-period instrument"
   ]
  },
  {
   "cell_type": "markdown",
   "metadata": {},
   "source": [
    "Next lets try a strong-motion instrument - these use accelerometers rather than seismometers,\n",
    "so converting to displacement is often unstable (numerical double integration can strongly \n",
    "amplify artefacts).  The instrument plotted here is in Franz Josef on the West Coast."
   ]
  },
  {
   "cell_type": "code",
   "execution_count": 14,
   "metadata": {},
   "outputs": [
    {
     "data": {
      "application/vnd.jupyter.widget-view+json": {
       "model_id": "0b6454a58bcf4374986ae41ca5062123",
       "version_major": 2,
       "version_minor": 0
      },
      "text/plain": [
       "Canvas(toolbar=Toolbar(toolitems=[('Home', 'Reset original view', 'home', 'home'), ('Back', 'Back to previous …"
      ]
     },
     "metadata": {},
     "output_type": "display_data"
    }
   ],
   "source": [
    "get_and_remove_response(station=\"FJDS\", channel=\"BNZ\")"
   ]
  },
  {
   "cell_type": "markdown",
   "metadata": {},
   "source": [
    "**Excercise:** Try a few other stations around New Zealand, you can try a shorter waveform as well, or\n",
    "another time that you are interested in.  \n",
    "\n",
    "You will note that the different sensors are \n",
    "sensitive to different frequencies, and amplitudes of motion: the strong-motion sites are\n",
    "designed to only be sensitive to  strong motion, whereas the broadband instruments\n",
    "are often termed \"weak-motion\" sites.\n",
    "\n",
    "**Question:** Compare the range of displacements recorded at these sites - GCSZ is closest to the mainshock\n",
    "and FOZ is farthest away.  There sbould be a decay in maximum displacement with distance resolvable after removing the instrument response.\n",
    "\n",
    "1. What is the maximum amplitude on FOZ in m?\n",
    "2. What is the maximum amplitude on GCSZ in m?\n",
    "3. Explain the difference.\n",
    "\n",
    "Try this with a few other sites at different distances - does this relationship remain consistent?"
   ]
  },
  {
   "cell_type": "markdown",
   "metadata": {},
   "source": [
    "## Conclusion\n",
    "\n",
    "For further reading (beyond Stein and Wysession, Chaper 6) see Hazskov, J. and Alguacil, G., \n",
    "Instrumentation in Earthquake Seismology: Chapter 2.\n",
    "\n",
    "The [seismo-live notebook](https://github.com/krischer/seismo_live/blob/master/notebooks/General%20Seismology/instrument_response.ipynb) on instrument correction has some other useful practical examples of instrument response correction.\n",
    "\n",
    "In the [next notebook](2_Digitizers.ipynb) we will think about how we convert these analogue systems into\n",
    "digital data that we can store in binary format on disks and analyse. This will introduce the next step\n",
    "in the seismograph response."
   ]
  }
 ],
 "metadata": {
  "kernelspec": {
   "display_name": "Python 3",
   "language": "python",
   "name": "python3"
  },
  "language_info": {
   "codemirror_mode": {
    "name": "ipython",
    "version": 3
   },
   "file_extension": ".py",
   "mimetype": "text/x-python",
   "name": "python",
   "nbconvert_exporter": "python",
   "pygments_lexer": "ipython3",
   "version": "3.7.6"
  }
 },
 "nbformat": 4,
 "nbformat_minor": 4
}
