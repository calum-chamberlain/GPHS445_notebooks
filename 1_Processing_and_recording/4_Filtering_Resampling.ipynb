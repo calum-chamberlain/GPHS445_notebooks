{
 "cells": [
  {
   "cell_type": "markdown",
   "metadata": {},
   "source": [
    "# Filtering and Resampling\n",
    "\n",
    "Filtering seismic data alows us to increase the signal-to-noise ratio of specific frequency ranges that we are interested in.  \n",
    "Remember that (from Stein and Wysession Figure 2.4-7) the range of frequencies for different types of seismic waves cover a wide\n",
    "spectrum, with:\n",
    "- reflection seismology often interested in signals in the 10Hz-1kHz range,\n",
    "- earthquake seismology usually concerned with data in the 0.01-50Hz range and\n",
    "- studies of normal modes thinking about frequencies in the 0.00001-0.01Hz range.\n",
    "Surface waves also have different frequency content to body waves.  Because of this, we can filter the same data in different\n",
    "*pass-bands* to look at different features of the seismogram. A nice example of this is the seismogram of the Kaikoura 2016\n",
    "M7.8 earthquake, recording on White Island. While the Kaikoura earthquake was happening, the aftershock sequence of the Te\n",
    "Araroa M7.2 earthquake was going on (see [Warren-Smith et al., 2018](https://www.sciencedirect.com/science/article/pii/S0012821X17306568)\n",
    "for more details). By filtering in different passbands we\n",
    "can see the surface waves from Kaikoura as well as the more local seismicity, which has a higher frequency content."
   ]
  },
  {
   "cell_type": "code",
   "execution_count": 1,
   "metadata": {},
   "outputs": [],
   "source": [
    "# Set up notebook\n",
    "%matplotlib widget\n",
    "import numpy as np\n",
    "import matplotlib.pyplot as plt\n",
    "\n",
    "from obspy import read, UTCDateTime\n",
    "from obspy.clients.fdsn import Client\n",
    "from scipy import signal, fftpack\n",
    "plt.style.use('ggplot') # Makes plots work well with dark theme"
   ]
  },
  {
   "cell_type": "markdown",
   "metadata": {},
   "source": [
    "Lets download some data from GeoNet for the [WIZ station](https://www.geonet.org.nz/data/network/sensor/WIZ), which is a \n",
    "broadband sensor on the White Island volcano.\n",
    "We will get data from the Kaikoura origin-time to quarter of an hour later."
   ]
  },
  {
   "cell_type": "code",
   "execution_count": 2,
   "metadata": {},
   "outputs": [
    {
     "data": {
      "application/vnd.jupyter.widget-view+json": {
       "model_id": "7f9ec22e27744c14ac77f78191ba2495",
       "version_major": 2,
       "version_minor": 0
      },
      "text/plain": [
       "Canvas(toolbar=Toolbar(toolitems=[('Home', 'Reset original view', 'home', 'home'), ('Back', 'Back to previous …"
      ]
     },
     "metadata": {},
     "output_type": "display_data"
    }
   ],
   "source": [
    "client = Client(\"GEONET\")\n",
    "kaikoura_origin_time = UTCDateTime(2016, 11, 13, 11, 2, 56)\n",
    "st = client.get_waveforms(\n",
    "    network=\"NZ\", station=\"WIZ\", channel=\"HHZ\", location=\"10\", \n",
    "    starttime=kaikoura_origin_time, endtime=kaikoura_origin_time + (15 * 60))\n",
    "fig = st.plot(fig=plt.figure())"
   ]
  },
  {
   "cell_type": "markdown",
   "metadata": {},
   "source": [
    "We can see the initial high-frequency body waves followed by strong low-frequency energy of the surface waves. \n",
    "You will also note that it takes a reasonable time for the first arriving seismic energy to reach this far from the earthquake.\n",
    "\n",
    "We can visualise the frequencies nicely by looking at a spectrogram.  The spectrogram computes the frequency content\n",
    "in moving windows along the trace and plots the normalised power of those frequencies as different colours. In the spectrogram\n",
    "below you can clearly see the dominant low-frequency energy."
   ]
  },
  {
   "cell_type": "code",
   "execution_count": 3,
   "metadata": {},
   "outputs": [
    {
     "data": {
      "application/vnd.jupyter.widget-view+json": {
       "model_id": "8823f9958bbd41ae9a4eb7e59d3a088f",
       "version_major": 2,
       "version_minor": 0
      },
      "text/plain": [
       "Canvas(toolbar=Toolbar(toolitems=[('Home', 'Reset original view', 'home', 'home'), ('Back', 'Back to previous …"
      ]
     },
     "metadata": {},
     "output_type": "display_data"
    }
   ],
   "source": [
    "fig = st[0].spectrogram(dbscale=True)"
   ]
  },
  {
   "cell_type": "markdown",
   "metadata": {},
   "source": [
    "Lets try and looks at just the high-frequencies.  Obspy has a convenient *filter* method on Stream and Trace objects.  We will use that before digging in to how\n",
    "filtering works."
   ]
  },
  {
   "cell_type": "code",
   "execution_count": 5,
   "metadata": {},
   "outputs": [
    {
     "data": {
      "application/vnd.jupyter.widget-view+json": {
       "model_id": "6b7cec59bdf14028bd1452dadd31fd1f",
       "version_major": 2,
       "version_minor": 0
      },
      "text/plain": [
       "Canvas(toolbar=Toolbar(toolitems=[('Home', 'Reset original view', 'home', 'home'), ('Back', 'Back to previous …"
      ]
     },
     "metadata": {},
     "output_type": "display_data"
    },
    {
     "data": {
      "application/vnd.jupyter.widget-view+json": {
       "model_id": "29d778e375124bc9ab765bcc12683fc5",
       "version_major": 2,
       "version_minor": 0
      },
      "text/plain": [
       "Canvas(toolbar=Toolbar(toolitems=[('Home', 'Reset original view', 'home', 'home'), ('Back', 'Back to previous …"
      ]
     },
     "metadata": {},
     "output_type": "display_data"
    }
   ],
   "source": [
    "st_highpass = st.copy().filter(\"highpass\", freq=2.)\n",
    "st_highpass.plot(fig=plt.figure())\n",
    "plt.show()\n",
    "st_highpass.spectrogram(dbscale=True)\n",
    "plt.show()"
   ]
  },
  {
   "cell_type": "markdown",
   "metadata": {},
   "source": [
    "We can see a lot of emmergent high-frequency energy associated with body waves from the Kaikoura earthquake itself in the \n",
    "beginning of this wave-train. However, the later bursts of energy are likely a more local source. We couldn't see those in\n",
    "the original, broadband waveform. Lets have a look at one of those more local events."
   ]
  },
  {
   "cell_type": "code",
   "execution_count": 6,
   "metadata": {},
   "outputs": [
    {
     "data": {
      "application/vnd.jupyter.widget-view+json": {
       "model_id": "2cee63f3e7ef4c31a2abf7e15193ad08",
       "version_major": 2,
       "version_minor": 0
      },
      "text/plain": [
       "Canvas(toolbar=Toolbar(toolitems=[('Home', 'Reset original view', 'home', 'home'), ('Back', 'Back to previous …"
      ]
     },
     "metadata": {},
     "output_type": "display_data"
    }
   ],
   "source": [
    "fig = st_highpass.plot(\n",
    "    starttime=UTCDateTime(2016, 11, 13, 11, 13, 5),\n",
    "    endtime=UTCDateTime(2016, 11, 13, 11, 13, 10))"
   ]
  },
  {
   "cell_type": "markdown",
   "metadata": {},
   "source": [
    "This is likely to be an aftershock of the Te Araroa sequence - there is dominant high-frequency energy. \n",
    "Unfortunately, stations closer to the Te Araroa epicenter have clipped waveforms - the signal from Kaikoura\n",
    "exceeded the dynamic range of the sensor, which makes filter operations unstable.\n",
    "\n",
    "Now lets try and just look at the low-frequency energy."
   ]
  },
  {
   "cell_type": "code",
   "execution_count": 7,
   "metadata": {},
   "outputs": [
    {
     "data": {
      "application/vnd.jupyter.widget-view+json": {
       "model_id": "10c8ce2f70de409e9dbdfe5a3c029a92",
       "version_major": 2,
       "version_minor": 0
      },
      "text/plain": [
       "Canvas(toolbar=Toolbar(toolitems=[('Home', 'Reset original view', 'home', 'home'), ('Back', 'Back to previous …"
      ]
     },
     "metadata": {},
     "output_type": "display_data"
    }
   ],
   "source": [
    "st_lowpass = st.copy().filter(\"lowpass\", freq=.25)\n",
    "fig = st_lowpass.plot()"
   ]
  },
  {
   "cell_type": "markdown",
   "metadata": {},
   "source": [
    "Now that we know that filters can be useful for various things, including separating energy from different sources, lets think about how filters work.\n",
    "\n",
    "## How filters work\n",
    "\n",
    "Filters work to remove energy at certain frequencies. This involves convolving some filter series with your data. In the time domain, convolution can be\n",
    "a slow process, however, in the frequency domain, convolutions are simple multiplications. Because multiplication is a less computationally\n",
    "expensive operation than convolution, filtering is often undertaken in the frequency domain.\n",
    "\n",
    "In the next section we will think about some basic linear filters and look at different bandpass types, different filter window types, and\n",
    "play with the order of the filters and the frequency ranges used.\n",
    "\n",
    "First we will set up a few functions that:\n",
    "1. Design a filter in the frequency domain using scipy's \n",
    "   [iirfilter](https://docs.scipy.org/doc/scipy/reference/generated/scipy.signal.iirfilter.html#scipy.signal.iirfilter) function.\n",
    "2. Apply the filter and plot the results in the time and frequency domains.\n",
    "\n",
    "It is worth noting that these filters only work for fairly simple filters, and in more general cases the use of\n",
    "[second-order sections](https://docs.scipy.org/doc/scipy/reference/generated/scipy.signal.sosfilt.html#scipy.signal.sosfilt)\n",
    "is recommended.  Obspy uses this internally when you use the *filter* method."
   ]
  },
  {
   "cell_type": "code",
   "execution_count": 8,
   "metadata": {},
   "outputs": [],
   "source": [
    "def design_filter(sample_rate, data_length, corners, order=4, window_type='butter',\n",
    "                  filter_type='bandpass', ripple=None, attenuation=None):\n",
    "    \"\"\"\n",
    "    Design a frequency-domain filter.\n",
    "    \n",
    "    :type sample_rate: float\n",
    "    :param sample_rate: Sampling-rate in Hz\n",
    "    :type data_length: int\n",
    "    :param data_length: \n",
    "        Length of data to apply to - will use the next-fast fft length from this.\n",
    "    :type corners: array-like\n",
    "    :param corners: list of corners for filter in order, in Hz\n",
    "    :type order: int\n",
    "    :param order: Filter order\n",
    "    :type window_type: str\n",
    "    :param window_type: \n",
    "        Type of window to use, must be one of:\n",
    "        'butter' : Butterworth\n",
    "        'cheby1': Chebyshev I\n",
    "        'cheby2': Chenyshev II\n",
    "        'ellip': Cauer/elliptic\n",
    "        'bessel': Bessel/Thomson\n",
    "    :type filter_type: str\n",
    "    :param filter_type: \n",
    "        Type of band to use, must be one of: \n",
    "        'bandpass', 'lowpass', 'highpass', 'bandstop'\n",
    "    \"\"\"\n",
    "    nyquist = .5 * sample_rate\n",
    "    # Check that highpass is usefully less than the nyquist\n",
    "    if max(corners) > (nyquist * .98):\n",
    "        raise NotImplementedError(\n",
    "        \"Highcut {0} is higher than Nyquist {1}.\".format(\n",
    "            max(corners), nyquist))\n",
    "    fft_len = fftpack.next_fast_len(data_length)\n",
    "    # N is the \"order\" of the filter, Wn is the filter window.\n",
    "    b, a = signal.iirfilter(\n",
    "        N=order, Wn=corners, btype=filter_type, analog=False, ftype=window_type,\n",
    "        output='ba', rp=ripple, rs=attenuation, fs=sample_rate)\n",
    "    _, filt = signal.freqz(b, a, worN=fft_len, fs=sample_rate)\n",
    "    return filt\n",
    "\n",
    "\n",
    "def filter_and_plot(data, dt, filt):\n",
    "    \"\"\"\n",
    "    Filter data using a simple filter and plot the data, the transfer \n",
    "    function and the filtered data. Plots will be in both time and\n",
    "    frequency domain.\n",
    "    \n",
    "    Note: Filter is maximum-phase\n",
    "    \n",
    "    :type data: `numpy.ndarray`\n",
    "    :param data: Data to be filtered\n",
    "    :type dt: float\n",
    "    :param dt: Sample-interval (assumed to be in seconds).\n",
    "    :type filt: `numpy.ndarray`\n",
    "    :param filt: Frequency-domain representation of filter.\n",
    "    \"\"\"  \n",
    "    N = len(data)\n",
    "    filt_time = fftpack.ifft(filt)  # Generate a time-domain representation of the filter\n",
    "    x_time = np.arange(0, N * dt, dt)\n",
    "    \n",
    "    fft_len = fftpack.next_fast_len(N)  # Find the next fast length for the FFT\n",
    "    data_freq = fftpack.fft(data, n=fft_len)\n",
    "    filtered_freq = data_freq * filt  # Filtering is multiplication in frequency domain\n",
    "    filtered = fftpack.ifft(filtered_freq)\n",
    "   \n",
    "    x_freq = np.linspace(0.0, 1.0 / (2. * dt), int(N / 2))\n",
    "    \n",
    "    fig, axes = plt.subplots(nrows=2, ncols=3, figsize=(15, 8))\n",
    "    \n",
    "    axes[0][0].plot(x_time, data)\n",
    "    axes[0][0].set_title(\"Input data\")\n",
    "    axes[0][1].plot(np.arange(0, len(filt_time) * dt, dt), np.real(filt_time))\n",
    "    axes[0][1].set_title(\"Filter\")\n",
    "    axes[0][2].plot(x_time, np.real(filtered))\n",
    "    axes[0][2].set_title(\"Filtered\")\n",
    "    \n",
    "    axes[1][0].semilogx(x_freq, 2./N * np.abs(data_freq[:N//2]))    \n",
    "    axes[1][1].semilogx(x_freq, 2./N * np.abs(filt[:N//2]))\n",
    "    axes[1][2].semilogx(x_freq, 2./N * np.abs(filtered_freq[:N//2]))\n",
    "    \n",
    "    for ax in axes[0]:\n",
    "        ax.set_xlabel(\"Time (s)\")\n",
    "        ax.autoscale(enable=True, axis='both', tight=True)\n",
    "    for ax in axes[1]:\n",
    "        ax.set_xlabel(\"Frequency (Hz)\")\n",
    "        ax.autoscale(enable=True, axis='both', tight=True)\n",
    "    return fig"
   ]
  },
  {
   "cell_type": "markdown",
   "metadata": {},
   "source": [
    "### Lowpass filtering\n",
    "\n",
    "We will first set up a simple low-pass filter.  Low-pass filters **remove** high frequencies, and allow low frequencies\n",
    "to *pass-through*.\n",
    "\n",
    "**Exercise:** Play with different window types, low passes and filter orders."
   ]
  },
  {
   "cell_type": "code",
   "execution_count": 9,
   "metadata": {},
   "outputs": [
    {
     "name": "stderr",
     "output_type": "stream",
     "text": [
      "/home/calumch/miniconda3/envs/gphs445/lib/python3.7/site-packages/obspy/signal/detrend.py:31: FutureWarning: Conversion of the second argument of issubdtype from `float` to `np.floating` is deprecated. In future, it will be treated as `np.float64 == np.dtype(float).type`.\n",
      "  if not np.issubdtype(data.dtype, float):\n"
     ]
    },
    {
     "data": {
      "application/vnd.jupyter.widget-view+json": {
       "model_id": "556481b930d446e48b9bef8829b79cbb",
       "version_major": 2,
       "version_minor": 0
      },
      "text/plain": [
       "Canvas(toolbar=Toolbar(toolitems=[('Home', 'Reset original view', 'home', 'home'), ('Back', 'Back to previous …"
      ]
     },
     "metadata": {},
     "output_type": "display_data"
    }
   ],
   "source": [
    "tr = read()[0]\n",
    "tr = tr.detrend()  # Data must be de-trended before filtering\n",
    "\n",
    "filt = design_filter(\n",
    "    sample_rate=tr.stats.sampling_rate, data_length=tr.stats.npts,\n",
    "    corners=[0.75], order=4, window_type=\"butter\",\n",
    "    filter_type=\"lowpass\")\n",
    "fig = filter_and_plot(tr.data, tr.stats.delta, filt=filt)"
   ]
  },
  {
   "cell_type": "markdown",
   "metadata": {},
   "source": [
    "### Highpass filtering\n",
    "\n",
    "High-pass filters **remove** low frequencies, and allow high frequencies to *pass-through*.\n",
    "\n",
    "**Exercise:** Play with different window types, high passes and filter orders."
   ]
  },
  {
   "cell_type": "code",
   "execution_count": 10,
   "metadata": {},
   "outputs": [
    {
     "name": "stderr",
     "output_type": "stream",
     "text": [
      "/home/calumch/miniconda3/envs/gphs445/lib/python3.7/site-packages/obspy/signal/detrend.py:31: FutureWarning: Conversion of the second argument of issubdtype from `float` to `np.floating` is deprecated. In future, it will be treated as `np.float64 == np.dtype(float).type`.\n",
      "  if not np.issubdtype(data.dtype, float):\n"
     ]
    },
    {
     "data": {
      "application/vnd.jupyter.widget-view+json": {
       "model_id": "6724fb2a78924f12ad00108988e31c54",
       "version_major": 2,
       "version_minor": 0
      },
      "text/plain": [
       "Canvas(toolbar=Toolbar(toolitems=[('Home', 'Reset original view', 'home', 'home'), ('Back', 'Back to previous …"
      ]
     },
     "metadata": {},
     "output_type": "display_data"
    }
   ],
   "source": [
    "tr = read()[0]\n",
    "tr = tr.detrend()  # Data must be de-trended before filtering\n",
    "\n",
    "filt = design_filter(\n",
    "    sample_rate=tr.stats.sampling_rate, data_length=tr.stats.npts,\n",
    "    corners=[2.], order=4, window_type=\"butter\",\n",
    "    filter_type=\"highpass\")\n",
    "fig = filter_and_plot(tr.data, tr.stats.delta, filt=filt)"
   ]
  },
  {
   "cell_type": "markdown",
   "metadata": {},
   "source": [
    "### Bandpass filtering\n",
    "\n",
    "Bandpass filters allow a range of frequencies to pass through.  We commonly refer to the frequencies that are retained as\n",
    "the *pass-band*.\n",
    "\n",
    "**Exercise:** Play with different window types and low and high cuts. You can add more than two corners to make a more complex filter."
   ]
  },
  {
   "cell_type": "code",
   "execution_count": 11,
   "metadata": {},
   "outputs": [
    {
     "name": "stderr",
     "output_type": "stream",
     "text": [
      "/home/calumch/miniconda3/envs/gphs445/lib/python3.7/site-packages/obspy/signal/detrend.py:31: FutureWarning: Conversion of the second argument of issubdtype from `float` to `np.floating` is deprecated. In future, it will be treated as `np.float64 == np.dtype(float).type`.\n",
      "  if not np.issubdtype(data.dtype, float):\n"
     ]
    },
    {
     "data": {
      "application/vnd.jupyter.widget-view+json": {
       "model_id": "1a33f50e0c36411dac62118b7f037665",
       "version_major": 2,
       "version_minor": 0
      },
      "text/plain": [
       "Canvas(toolbar=Toolbar(toolitems=[('Home', 'Reset original view', 'home', 'home'), ('Back', 'Back to previous …"
      ]
     },
     "metadata": {},
     "output_type": "display_data"
    }
   ],
   "source": [
    "tr = read()[0]\n",
    "tr = tr.detrend()  # Data must be de-trended before filtering\n",
    "\n",
    "filt = design_filter(\n",
    "    sample_rate=tr.stats.sampling_rate, data_length=tr.stats.npts,\n",
    "    corners=[5., 20.], order=8, window_type=\"cheby2\",\n",
    "    filter_type=\"bandpass\", attenuation=10)\n",
    "fig = filter_and_plot(tr.data, tr.stats.delta, filt=filt)"
   ]
  },
  {
   "cell_type": "markdown",
   "metadata": {},
   "source": [
    "## Causality\n",
    "\n",
    "So far we have just looked at single-pass filters.  These output a causal waveform: there is\n",
    "no signal before the real signal arrived, however peaks in the waveform might be shifted.\n",
    "We have not been picky about the phase of our filters thus far, and there are an infinite number of possible causal filters for a single amplitude spectrum. Usually the minimum phase filter is\n",
    "used, which concentrates energy at the front of the time series. The above filters were mixed\n",
    "phase - energy was distributed throughout the time-series.\n",
    "\n",
    "To avoid shifting peaks in the waveform we can use a **zero-phase** filter.  This zero-phase\n",
    "filter is *acausal*: it is symmertical about the origin time and shifts some energy to occur\n",
    "*before* the original signal. Note that this can result in apparently earlier arrivals,\n",
    "you must be careful when applying filters prior to estimating seismic phase arrivals!\n",
    "Zerophase filters can be acheived by running the same filter forwards then backwards.  This\n",
    "has the effect of increasing the order of the final filter (e.g. a 2nd order filter becomes a\n",
    "4th order filter). \n",
    "\n",
    "Below we demonstrate this using obspy filter method:"
   ]
  },
  {
   "cell_type": "code",
   "execution_count": 12,
   "metadata": {},
   "outputs": [
    {
     "data": {
      "application/vnd.jupyter.widget-view+json": {
       "model_id": "f6836922c1c944ab98c83f8165981975",
       "version_major": 2,
       "version_minor": 0
      },
      "text/plain": [
       "Canvas(toolbar=Toolbar(toolitems=[('Home', 'Reset original view', 'home', 'home'), ('Back', 'Back to previous …"
      ]
     },
     "metadata": {},
     "output_type": "display_data"
    }
   ],
   "source": [
    "tr_highpass = tr.copy().filter(\"highpass\", freq=1)  \n",
    "# Remove background noise to simplify comparison\n",
    "tr_acausal = tr_highpass.copy().filter(\n",
    "    \"lowpass\", freq=10, corners=2, zerophase=True)\n",
    "tr_causal = tr_highpass.copy().filter(\n",
    "    \"lowpass\", freq=10, corners=4, zerophase=False)\n",
    "plot_start, plot_end = (4.0, 6.0)\n",
    "\n",
    "fig, ax = plt.subplots(figsize=(12, 6))\n",
    "x_time = np.arange(0, tr.stats.npts * tr.stats.delta, tr.stats.delta)\n",
    "plot_start_ind = int(plot_start * tr.stats.sampling_rate)\n",
    "plot_end_ind = int(plot_end * tr.stats.sampling_rate)\n",
    "trace_dict = {\n",
    "    \"original\": tr_highpass,\n",
    "    \"causal\": tr_causal,\n",
    "    \"acausal\": tr_acausal}\n",
    "for label, _tr in trace_dict.items():\n",
    "    ax.plot(x_time[plot_start_ind: plot_end_ind], \n",
    "            _tr.data[plot_start_ind: plot_end_ind],\n",
    "            label=label)\n",
    "ax.legend()\n",
    "_ = ax.set_xlabel(\"Time(s)\")  # do not check returned value"
   ]
  },
  {
   "cell_type": "markdown",
   "metadata": {},
   "source": [
    "If you focus on the first arrival you will note that the causal waveform only has energy after the original\n",
    "waveform has energy, but the peaks are shifted.  In contrast, the acausal waveform has energy before\n",
    "the original, but the peaks generally align with the original.\n",
    "\n",
    "**Exercise:** Try changing the order of the above filters and see what happens.  The order of the filter affects the slope of the filter.  If the slope is too steep you may see ringing effects due to\n",
    "Gibb's phenomenon."
   ]
  },
  {
   "cell_type": "markdown",
   "metadata": {},
   "source": [
    "## Poles and Zeros\n",
    "\n",
    "Filters are often represented as *poles and zeros*. These are the roots of the denominator and\n",
    "numerator of the transfer function resepectively. For example, if we have a filter defined by:\n",
    "\\begin{equation*}\n",
    "    H(s) = \\frac{s + 2}{s^2 + 0.25}\n",
    "\\end{equation*}\n",
    "the zeros of this filter would be a single zero at $s=-2$, and the poles would be at \n",
    "$s=i\\sqrt{0.25}, -i\\sqrt{0.25}$.\n",
    "\n",
    "Transfer functions for butterworth filters, one of the more commonly used filters in seismology\n",
    "because it has no ripple (unlike the Chebychev filters), but can introduce time and phase shifts,\n",
    "take the form:\n",
    "\\begin{equation*}\n",
    "    G^2(\\omega) = |H(i\\omega)|^2 = \\frac{G_0^2}{1 + \\frac{i\\omega}{i\\omega_c}^{2n}}\n",
    "\\end{equation*}\n",
    "where $\\omega$ is the angular frequency, $\\omega_c$ is the cut-off frequency (at half gain), $G$ is\n",
    "gain, $G_0$ is the gain at DC ($\\omega=0$ and $n$ is the order of the filter.  Note that the number\n",
    "of poles is equal to $2n$.\n",
    "\n",
    "Below is a demontration of increasing the order of a butterworth lowpass filter.  Note that the\n",
    "slope increases with the order approaching a discontinuity.  The ideal filter would remove all\n",
    "unwanted frequencies and retain all wanted frequencies without attenuation.  This would look\n",
    "like a step in the frequency domain, however, such a discontinuity is unstable and results\n",
    "in *ringing* also know as Gibb's phenomenon."
   ]
  },
  {
   "cell_type": "code",
   "execution_count": 13,
   "metadata": {},
   "outputs": [
    {
     "data": {
      "application/vnd.jupyter.widget-view+json": {
       "model_id": "5c0632b0bbb34f1d8fceb16b09ef8bbb",
       "version_major": 2,
       "version_minor": 0
      },
      "text/plain": [
       "Canvas(toolbar=Toolbar(toolitems=[('Home', 'Reset original view', 'home', 'home'), ('Back', 'Back to previous …"
      ]
     },
     "metadata": {},
     "output_type": "display_data"
    }
   ],
   "source": [
    "fig, ax = plt.subplots(figsize=(10, 6))\n",
    "N = 86400\n",
    "sample_rate = 50\n",
    "dt = 1 / sample_rate\n",
    "for order in [2, 4, 8, 16]:\n",
    "    filt = design_filter(\n",
    "        sample_rate=sample_rate, data_length=N,\n",
    "        corners=[0.5], order=order, window_type=\"butter\",\n",
    "        filter_type=\"lowpass\")\n",
    "    x_freq = np.linspace(0.0, 1.0 / (2. * dt), int(N / 2))\n",
    "    ax.semilogx(x_freq, 2./N * np.abs(filt[:N//2]),\n",
    "                label=\"order: {0}\".format(order))\n",
    "_ = ax.legend()  # Do not check returned value"
   ]
  },
  {
   "cell_type": "markdown",
   "metadata": {},
   "source": [
    "## Resampling\n",
    "\n",
    "In a [previous notebook](2_Digitizers.ipynb) we covered naive decimation of data, however, there are\n",
    "better/different ways to change the sampling rate of data.  We will explore two methods, the first\n",
    "is frequency domain resampling, employed by obspy in the `.resample` method.  This effectively\n",
    "re-maps the frequency spectra of your data onto a differently sampled frequency range.  This can\n",
    "be used for either downsampling or upsampling data.  However, because it uses the FFT it is\n",
    "susceptible to all the usual things associated with FFTs, most notable, Gibb's phenomenon.\n",
    "The cell below contains a function to do this frequency domain resampling, the basic outline\n",
    "of this function is:\n",
    "1. Compute the (real) FFT of the data\n",
    "2. Convolve the spectra with a hanning window (other windows are available)\n",
    "    - This has the effect of stabalising discontinuities at the edge of the spectra\n",
    "3. Re-map the spectra onto a new frequency range\n",
    "    - Here we use the numpy `interp` function - if we were just decimating by an\n",
    "      integer factor, we could just remove the spectra above the new Nyquist\n",
    "4. Compute the inverse (real) FFT to get the newly resampled data."
   ]
  },
  {
   "cell_type": "code",
   "execution_count": 14,
   "metadata": {},
   "outputs": [],
   "source": [
    "def resample_and_plot(tr, sampling_rate):\n",
    "    \"\"\"\n",
    "    Simplified (made less general) from obspy Trace.resample.\n",
    "    \n",
    "    Uses a frequency domain method to resample, and a hanning window.\n",
    "    \n",
    "    :type tr: `obspy.core.Trace`\n",
    "    :param tr: Trace to resample\n",
    "    :type sampling_rate: float\n",
    "    :param sampling_rate: New sample rate for the trace\n",
    "    \"\"\" \n",
    "    from scipy.signal import get_window\n",
    "    from scipy.fftpack import rfft, irfft\n",
    "    factor = tr.stats.sampling_rate / float(sampling_rate)\n",
    "    \n",
    "    # Copy things for plotting\n",
    "    data_in = tr.data.copy()\n",
    "    max_time = tr.stats.npts * tr.stats.delta\n",
    "    dt = tr.stats.delta\n",
    "    N = tr.stats.npts\n",
    "    # resample in the frequency domain. Make sure the byteorder is native.\n",
    "    x = rfft(tr.data.newbyteorder(\"=\"))\n",
    "    # Cast the value to be inserted to the same dtype as the array to avoid\n",
    "    # issues with numpy rule 'safe'.\n",
    "    x = np.insert(x, 1, x.dtype.type(0))\n",
    "    if tr.stats.npts % 2 == 0:\n",
    "        x = np.append(x, [0])\n",
    "    x_r = x[::2]\n",
    "    x_i = x[1::2]\n",
    "\n",
    "    # Multiply by a hanning window to stabilise the interpolation\n",
    "    large_w = np.fft.ifftshift(\n",
    "        get_window('hanning', tr.stats.npts))\n",
    "    x_r *= large_w[:tr.stats.npts // 2 + 1]\n",
    "    x_i *= large_w[:tr.stats.npts // 2 + 1]\n",
    "\n",
    "    # interpolate\n",
    "    num = int(tr.stats.npts / factor)\n",
    "    df = 1.0 / (tr.stats.npts * tr.stats.delta)\n",
    "    d_large_f = 1.0 / num * sampling_rate\n",
    "    f = df * np.arange(0, tr.stats.npts // 2 + 1, dtype=np.int32)\n",
    "    n_large_f = num // 2 + 1\n",
    "    large_f = d_large_f * np.arange(0, n_large_f, dtype=np.int32)\n",
    "    large_y = np.zeros((2 * n_large_f))\n",
    "    large_y[::2] = np.interp(large_f, f, x_r)\n",
    "    large_y[1::2] = np.interp(large_f, f, x_i)\n",
    "\n",
    "    large_y = np.delete(large_y, 1)\n",
    "    if num % 2 == 0:\n",
    "        large_y = np.delete(large_y, -1)\n",
    "    tr.data = irfft(large_y) * (float(num) / float(tr.stats.npts))\n",
    "    tr.stats.sampling_rate = sampling_rate\n",
    "    \n",
    "    # Plot\n",
    "    fig, axes = plt.subplots(ncols=2, figsize=(14, 6))\n",
    "    axes[0].plot(np.arange(0, max_time, dt), data_in)\n",
    "    axes[1].semilogx(\n",
    "        np.linspace(0.0, 1.0 / (2. * dt), int(N / 2)),\n",
    "        2./N * np.abs(x[:N//2]), label=\"Original\")\n",
    "    axes[1].semilogx(\n",
    "        np.linspace(dt, dt + 1.0 / (2. * tr.stats.delta), num // 2),\n",
    "        2./N * np.abs(large_y[:num//2]), label=\"Resampled\")\n",
    "    axes[0].plot(np.arange(0, max_time, 1 / sampling_rate), tr.data)\n",
    "    axes[1].legend()\n",
    "    axes[0].set_xlabel(\"Time (s)\")\n",
    "    axes[1].set_xlabel(\"Frequency (Hz)\")\n",
    "    return tr"
   ]
  },
  {
   "cell_type": "code",
   "execution_count": 15,
   "metadata": {},
   "outputs": [
    {
     "data": {
      "application/vnd.jupyter.widget-view+json": {
       "model_id": "8161fa519e2246a4b216cfd5afdec339",
       "version_major": 2,
       "version_minor": 0
      },
      "text/plain": [
       "Canvas(toolbar=Toolbar(toolitems=[('Home', 'Reset original view', 'home', 'home'), ('Back', 'Back to previous …"
      ]
     },
     "metadata": {},
     "output_type": "display_data"
    }
   ],
   "source": [
    "tr_resampled = resample_and_plot(tr.copy(), 20)"
   ]
  },
  {
   "cell_type": "markdown",
   "metadata": {},
   "source": [
    "The plots generated show the original data overlain with the resampled data.  You will note that the low frequencies are mostly maintained in the time-series, but we lose high-frequency energy.  In the spectra plots the resampled spectra looks very similar to the original spectra up to the newly\n",
    "selected Nyquist, where the resampled spectra stops.  There is a slight shift between the spectra,\n",
    "which shows up as misallignment at low frequencies (note this shift is throughout the spectra, but\n",
    "the log scale makes it more obvious at low frequencies).  This shift is not real and arrises\n",
    "due to the original spectra being padded with an adidtional zero at the start.\n",
    "\n",
    "**Exercise:** Try different sampling frequencies. \n",
    "What do the data look like when you over-sample them?\n",
    "What about when you drop down to 1.5 Hz?"
   ]
  },
  {
   "cell_type": "markdown",
   "metadata": {},
   "source": [
    "### Upsampling - sinc resampling\n",
    "\n",
    "Often in earthquake seismology we want to reduce the sampling rate after recording (remembering that\n",
    "even if we later increase the sampling rate we will not be able to capture additional energy above\n",
    "the Nyquist frequency).  However, sometimes we need data at high sampling rates.  Resampling in\n",
    "the frequency domain allows us to do this, but often does not accurately capture the peak amplitudes\n",
    "of the data.  \n",
    "\n",
    "One of the better methods of doing this kind of upsampling is to use sinc interpolation.  The sinc\n",
    "function:\n",
    "\\begin{equation*}\n",
    "    \\operatorname{sinc}(x) = \\frac{\\sin(x)}{x}\n",
    "\\end{equation*}\n",
    "is the theoretical optimum reconstruction filter for band-limited signals - it is the closest\n",
    "periodic function to a delta (spike):"
   ]
  },
  {
   "cell_type": "code",
   "execution_count": 17,
   "metadata": {},
   "outputs": [
    {
     "data": {
      "application/vnd.jupyter.widget-view+json": {
       "model_id": "ecdb14a647bf4a7290de29bc20e9d7c9",
       "version_major": 2,
       "version_minor": 0
      },
      "text/plain": [
       "Canvas(toolbar=Toolbar(toolitems=[('Home', 'Reset original view', 'home', 'home'), ('Back', 'Back to previous …"
      ]
     },
     "metadata": {},
     "output_type": "display_data"
    }
   ],
   "source": [
    "x = np.arange(-100, 100, 0.01)\n",
    "y = np.sin(x) / x\n",
    "fig, ax = plt.subplots()\n",
    "ax.plot(x, y)\n",
    "plt.show()"
   ]
  },
  {
   "cell_type": "markdown",
   "metadata": {},
   "source": [
    "If we add multiple sinc functions together we can start to construct box-car functions (functions that are zero-valued everywhere except in a range where the function is equal to some \n",
    "non-zero value).  This happens because we can align the functions such that deconstuctive \n",
    "interferance happens everywhere apart from at the peak of the function:"
   ]
  },
  {
   "cell_type": "code",
   "execution_count": 18,
   "metadata": {},
   "outputs": [
    {
     "data": {
      "application/vnd.jupyter.widget-view+json": {
       "model_id": "05109c26c0a04744a1ec87e89b66b11f",
       "version_major": 2,
       "version_minor": 0
      },
      "text/plain": [
       "Canvas(toolbar=Toolbar(toolitems=[('Home', 'Reset original view', 'home', 'home'), ('Back', 'Back to previous …"
      ]
     },
     "metadata": {},
     "output_type": "display_data"
    }
   ],
   "source": [
    "x = np.arange(-100, 600, 0.01)\n",
    "y = np.zeros_like(x)\n",
    "sinc = np.sin(x) / x\n",
    "y += sinc\n",
    "for shift_no in range(1, 50000):\n",
    "    y[shift_no:] += sinc[0:-shift_no]\n",
    "fig, ax = plt.subplots()\n",
    "ax.plot(x, y)\n",
    "plt.show()"
   ]
  },
  {
   "cell_type": "markdown",
   "metadata": {},
   "source": [
    "We can make use of the sinc function to interpolate seismic data.  For finite data we cannot use a\n",
    "true sinc function, but we can use Lanczos resampling, which is supported by obspy.  Below is a\n",
    "demonstration of how frequency domain resampling reduces the amplitude of peaks in data, but\n",
    "Lanczos does a good job of matching the original data."
   ]
  },
  {
   "cell_type": "code",
   "execution_count": 19,
   "metadata": {},
   "outputs": [
    {
     "name": "stderr",
     "output_type": "stream",
     "text": [
      "/home/calumch/miniconda3/envs/gphs445/lib/python3.7/site-packages/obspy/signal/detrend.py:31: FutureWarning: Conversion of the second argument of issubdtype from `float` to `np.floating` is deprecated. In future, it will be treated as `np.float64 == np.dtype(float).type`.\n",
      "  if not np.issubdtype(data.dtype, float):\n"
     ]
    },
    {
     "data": {
      "application/vnd.jupyter.widget-view+json": {
       "model_id": "af50d9bf18fd408e839b0a6e7fc20b0e",
       "version_major": 2,
       "version_minor": 0
      },
      "text/plain": [
       "Canvas(toolbar=Toolbar(toolitems=[('Home', 'Reset original view', 'home', 'home'), ('Back', 'Back to previous …"
      ]
     },
     "metadata": {},
     "output_type": "display_data"
    }
   ],
   "source": [
    "new_rate = 500\n",
    "\n",
    "tr_trimmed = tr.copy().trim(\n",
    "    tr.stats.starttime + 4.5, tr.stats.starttime + 5.5).detrend()\n",
    "tr_resampled = tr_trimmed.copy().resample(new_rate)\n",
    "tr_lanczos = tr_trimmed.copy().interpolate(\n",
    "    new_rate, method=\"lanczos\", a=20)\n",
    "\n",
    "fig, ax = plt.subplots(1, figsize=(13, 6))\n",
    "ax.scatter(\n",
    "    np.arange(0, tr_trimmed.stats.npts * tr_trimmed.stats.delta,\n",
    "              tr_trimmed.stats.delta),\n",
    "    tr_trimmed.data, label=\"original\")\n",
    "ax.plot(\n",
    "    np.arange(0, tr_resampled.stats.npts * tr_resampled.stats.delta,\n",
    "              tr_resampled.stats.delta),\n",
    "    tr_resampled.data, label=\"f-domain resampled\")\n",
    "ax.plot(\n",
    "    np.arange(0, tr_lanczos.stats.npts * tr_lanczos.stats.delta,\n",
    "              tr_lanczos.stats.delta),\n",
    "    tr_lanczos.data, label=\"lanczos resampled\")\n",
    "ax.legend()\n",
    "plt.show()"
   ]
  },
  {
   "cell_type": "markdown",
   "metadata": {},
   "source": [
    "## Conclusion\n",
    "\n",
    "That concludes our look into filtering and resampling.  The ideas behind frequency domain operations\n",
    "are often hiden in seismic software, so it is important to understand what you are doing to your\n",
    "data: the filtering that you perform can increase signal-to-noise ratio, but you have to be careful\n",
    "that you are not destroying or altering something that you care about (e.g. time or amplitude).\n",
    "\n",
    "The final notebook in this module provides an [introduction to obspy](5_Intro_To_Obspy.ipynb).\n",
    "We will use Obspy extensively in future notebooks because a lot of convenience functions are included\n",
    "there.  This means that, now that we understand the fundamentals of how these things work, we can\n",
    "focus on other things!"
   ]
  },
  {
   "cell_type": "code",
   "execution_count": null,
   "metadata": {},
   "outputs": [],
   "source": []
  }
 ],
 "metadata": {
  "kernelspec": {
   "display_name": "Python 3",
   "language": "python",
   "name": "python3"
  },
  "language_info": {
   "codemirror_mode": {
    "name": "ipython",
    "version": 3
   },
   "file_extension": ".py",
   "mimetype": "text/x-python",
   "name": "python",
   "nbconvert_exporter": "python",
   "pygments_lexer": "ipython3",
   "version": "3.7.6"
  }
 },
 "nbformat": 4,
 "nbformat_minor": 4
}
