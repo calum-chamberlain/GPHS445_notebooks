{
 "cells": [
  {
   "cell_type": "markdown",
   "metadata": {},
   "source": [
    "# Seismic Waves\n",
    "\n",
    "This notebook provides a really quick look at some of the different types of seismic wave that we\n",
    "observe on seismograms.  It does not cover any theory, and students should read about how\n",
    "seismic waves propogate.  You should familiarize yourself with constituitive equations\n",
    "relating stress to strain in the solid Earth, equations of motion for seismic waves (and\n",
    "in particular how we arrive at compressional and shear waves from the wave equation) and\n",
    "how surface waves arise as *guided waves* at interfaces.\n",
    "\n",
    "Seismic waves are elastic waves in the Earth (or other planetary body). Seismic waves are\n",
    "generally separating into body waves and surface waves.  Body waves travel through the solid Earth,\n",
    "surface waves occur at boundaries (most noticeably the Earth's free surface).\n",
    "\n",
    "- P waves, with velocity: $V_P=\\sqrt{\\frac{K+4/3\\mu}{\\rho}}$\n",
    "- S waves, with velocity: $V_S=\\sqrt{\\frac{\\mu}{\\rho}}$\n",
    "- Surface waves, which are split into *Rayleigh* and *Love* waves.\n",
    "  - Love waves result from horizontally polarized shear-waves (SH) near the surface;\n",
    "  - Rayleigh waves result from a combination of P and vertically polarized shear-waves (SV)."
   ]
  },
  {
   "cell_type": "code",
   "execution_count": 1,
   "metadata": {},
   "outputs": [],
   "source": [
    "%matplotlib widget\n",
    "import matplotlib.pyplot as plt\n",
    "plt.style.use('ggplot') # Makes plots work well with dark theme\n",
    "# There is an issue in windows packaging of basemap where the \n",
    "# environment variable PROJ_LIB is not set: https://github.com/conda-forge/basemap-feedstock/issues/30\n",
    "# The lines below patches this\n",
    "import os\n",
    "if \"PROJ_LIB\" not in os.environ.keys():\n",
    "    if \"CONDA_PREFIX\" not in os.environ.keys():\n",
    "        raise KeyError(\"Hack only works for conda installs\")\n",
    "    os.environ.update({\"PROJ_LIB\": os.path.join(os.environ[\"CONDA_PREFIX\"], \"share\", \"proj\")})"
   ]
  },
  {
   "cell_type": "markdown",
   "metadata": {},
   "source": [
    "Lets look at some of the complexity that we can see in seismograms, then think about what we see.\n",
    "We will download some data from a seismograph in Hawaii that recorded a deep focus, large magnitude\n",
    "earthquake near Tonga. Details for this event can be found on the IRIS website \n",
    "[here](http://ds.iris.edu/ds/nodes/dmc/tools/event/10944928)."
   ]
  },
  {
   "cell_type": "code",
   "execution_count": 2,
   "metadata": {},
   "outputs": [
    {
     "data": {
      "application/vnd.jupyter.widget-view+json": {
       "model_id": "a1385170171541bbbecc83926702274b",
       "version_major": 2,
       "version_minor": 0
      },
      "text/plain": [
       "Canvas(toolbar=Toolbar(toolitems=[('Home', 'Reset original view', 'home', 'home'), ('Back', 'Back to previous …"
      ]
     },
     "metadata": {},
     "output_type": "display_data"
    }
   ],
   "source": [
    "from obspy.clients.fdsn import Client\n",
    "\n",
    "event_id = \"10944928\"\n",
    "\n",
    "client = Client(\"IRIS\")\n",
    "catalog = client.get_events(eventid=event_id)\n",
    "fig = catalog.plot(projection=\"ortho\")\n",
    "plt.show()"
   ]
  },
  {
   "cell_type": "markdown",
   "metadata": {},
   "source": [
    "Lets download some waveforms for this event and see what waves we observe.  \n",
    "This deep event generates limited surface-wave energy. Note that we use the events\n",
    "origin time to specify when we download data."
   ]
  },
  {
   "cell_type": "code",
   "execution_count": 3,
   "metadata": {},
   "outputs": [
    {
     "data": {
      "application/vnd.jupyter.widget-view+json": {
       "model_id": "e02837edd075498680f6bf71b3e98506",
       "version_major": 2,
       "version_minor": 0
      },
      "text/plain": [
       "Canvas(toolbar=Toolbar(toolitems=[('Home', 'Reset original view', 'home', 'home'), ('Back', 'Back to previous …"
      ]
     },
     "metadata": {},
     "output_type": "display_data"
    }
   ],
   "source": [
    "event = catalog[0]\n",
    "st = client.get_waveforms(\n",
    "    network=\"IU\", station=\"POHA\", channel=\"BH?\", location=\"10\",\n",
    "    starttime=event.preferred_origin().time,\n",
    "    endtime=event.preferred_origin().time + (45 * 60))\n",
    "fig = st.plot(size=(800, 500))\n",
    "plt.show()"
   ]
  },
  {
   "cell_type": "markdown",
   "metadata": {},
   "source": [
    "We can see some clear arrivals, and can clearly see that these have different dominant frequencies.  If you\n",
    "want you can plot the spectrogram of this event to see the frequency content differences more clearly.\n",
    "Of note is that we see energy on all three channels, the vertical (BHZ) and the two horizontals (BH1 and BH2:\n",
    "note that because they are named 1 and 2 rather than N and E they are not aligned to some geographic\n",
    "references frame, but are still taken to be orthogonal).\n",
    "\n",
    "If we have a direct P-wave traveling directly up from the source (earthquake) to the receiver (seismograph)\n",
    "we would expect all the P-wave energy to be recorded on the vertical channel, and the shear-wave energy to be\n",
    "on the horizontal channels. We would also expect that the shear wave energy might be polarized and therefore\n",
    "only appear on one or other horizontal component.\n",
    "\n",
    "We can \"rotate\" the data if we know the orientation of the instrument, and we can then orient the horizontal\n",
    "channels into radial and transverse components, with radial aligned along the path between the source and the\n",
    "reciever and transverse perendicular to this. The code below does this by getting the information about\n",
    "the site (which in this case contains orientation information), and working out the back-azimuth from the\n",
    "seismograph to the earthquake.  It also filters the data to make the main phases more clear."
   ]
  },
  {
   "cell_type": "code",
   "execution_count": 4,
   "metadata": {},
   "outputs": [
    {
     "data": {
      "application/vnd.jupyter.widget-view+json": {
       "model_id": "933c1a35ccac4996b6c432caf0241ef1",
       "version_major": 2,
       "version_minor": 0
      },
      "text/plain": [
       "Canvas(toolbar=Toolbar(toolitems=[('Home', 'Reset original view', 'home', 'home'), ('Back', 'Back to previous …"
      ]
     },
     "metadata": {},
     "output_type": "display_data"
    }
   ],
   "source": [
    "from obspy.geodetics import gps2dist_azimuth\n",
    "\n",
    "# Get the response information for the stream we have downloaded\n",
    "inv = client.get_stations(\n",
    "    network=st[0].stats.network, station=st[0].stats.station,\n",
    "    startbefore=st[0].stats.starttime, endafter=st[0].stats.endtime,\n",
    "    level=\"response\")\n",
    "network = inv[0]\n",
    "station = network[0]\n",
    "# Work out the distance between the event and the station\n",
    "dist, az, baz = gps2dist_azimuth(\n",
    "    lat1=event.preferred_origin().latitude,\n",
    "    lon1=event.preferred_origin().longitude,\n",
    "    lat2=station.latitude, lon2=station.longitude)\n",
    "# Rotate first to ZNE, then to radial and transverse\n",
    "st.rotate(method=\"->ZNE\", inventory=inv)\n",
    "st.rotate(method=\"NE->RT\", back_azimuth=baz)\n",
    "\n",
    "# Filter the data\n",
    "st_filtered = st.copy().detrend().taper(\n",
    "    max_length=100, max_percentage=20).filter(\n",
    "    'lowpass', freq=0.05, corners=4)\n",
    "\n",
    "fig = st_filtered.plot(\n",
    "    size=(800, 500), equal_scale=False,\n",
    "    handle=False)\n",
    "fig.show()"
   ]
  },
  {
   "cell_type": "markdown",
   "metadata": {},
   "source": [
    "We can see that there is now limited data on the transverse component (BHT) early in the seismogram. There is still\n",
    "some energy early on the radial component (BHR), which is mostly P-wave energy.  This is present on the radial\n",
    "and vertical because the source is not directly below the seismograph.\n",
    "\n",
    "We can use global velocity models to trace ray-paths through the model between the source and receiver.  By\n",
    "doing this we can predict when we would expect different phases to arrive at the seismograph. Below we use the\n",
    "[ak135 model](https://academic.oup.com/gji/article/122/1/108/575854) and \n",
    "[obspy's Taup](https://docs.obspy.org/packages/obspy.taup.html) wrapper to predict arrival times."
   ]
  },
  {
   "cell_type": "code",
   "execution_count": 5,
   "metadata": {},
   "outputs": [
    {
     "data": {
      "application/vnd.jupyter.widget-view+json": {
       "model_id": "736df3416da8407981d985fe1e1cc450",
       "version_major": 2,
       "version_minor": 0
      },
      "text/plain": [
       "Canvas(toolbar=Toolbar(toolitems=[('Home', 'Reset original view', 'home', 'home'), ('Back', 'Back to previous …"
      ]
     },
     "metadata": {},
     "output_type": "display_data"
    }
   ],
   "source": [
    "from obspy.taup import TauPyModel\n",
    "\n",
    "# Look-up the relevant earth model\n",
    "model = TauPyModel(model='ak135')\n",
    "# Get the arrivals for the event, station pair\n",
    "arrivals = model.get_ray_paths_geo(\n",
    "    source_depth_in_km=event.preferred_origin().depth / 1000,\n",
    "    source_latitude_in_deg=event.preferred_origin().latitude,\n",
    "    source_longitude_in_deg=event.preferred_origin().longitude,\n",
    "    receiver_latitude_in_deg=station.latitude,\n",
    "    receiver_longitude_in_deg=station.longitude,\n",
    "    phase_list=[\"ttbasic\"])\n",
    "fig = plt.figure(figsize=(10, 10))\n",
    "# NBVAL_IGNORE_OUTPUT\n",
    "fig = arrivals.plot_rays(plot_type='spherical', legend=True, fig=fig)\n",
    "plt.show()"
   ]
  },
  {
   "cell_type": "markdown",
   "metadata": {},
   "source": [
    "In the plot above we can see the source as a star, and the receiver as a triangle. There are a range of ray-paths\n",
    "plotted, including direct arrivals and reflected and refracted arrivals. This superposition of many ray-paths\n",
    "is one of the factors that gives rise to more complicated seismograms.  Note that this idea of rays in the Earth is\n",
    "a simplification (albeit a useful one).\n",
    "\n",
    "We can plot the predicted arrival times on our seismogram and see if where they are predicted lines up with\n",
    "the arrivals, and if the type of wave matches what we expect given our knowledge of P-waves as compressional\n",
    "waves and S-waves as shear waves."
   ]
  },
  {
   "cell_type": "code",
   "execution_count": 6,
   "metadata": {},
   "outputs": [],
   "source": [
    "def plot_arrivals(st, arrivals):\n",
    "    \"\"\"\n",
    "    Plot arrival times on waveforms.\n",
    "    \n",
    "    :type st: `obspy.core.Stream`\n",
    "    :param st: Stream to plot\n",
    "    :type arrivals: list\n",
    "    :param arrivals: List of Arrivals from an obspy Taup model.\n",
    "    \"\"\"\n",
    "    from obspy.taup.tau import COLORS\n",
    "\n",
    "    fig = plt.figure(figsize=(11, 9))\n",
    "    st.plot(equal_scale=False, fig=fig)\n",
    "    axes = fig.axes\n",
    "    phase_names = [arrival.name for arrival in arrivals]\n",
    "    for ax in axes:\n",
    "        for arrival in arrivals:\n",
    "            if ax == axes[0]:\n",
    "                label = arrival.name\n",
    "            else:\n",
    "                label = None\n",
    "            ax.axvline(x=(event.preferred_origin().time + arrival.time).datetime,\n",
    "                       color=COLORS[phase_names.index(arrival.name) % len(COLORS)],\n",
    "                       label=label)\n",
    "    fig.legend()\n",
    "    return fig"
   ]
  },
  {
   "cell_type": "code",
   "execution_count": 7,
   "metadata": {},
   "outputs": [
    {
     "data": {
      "application/vnd.jupyter.widget-view+json": {
       "model_id": "4342a681732e44448b47fc0225c7507b",
       "version_major": 2,
       "version_minor": 0
      },
      "text/plain": [
       "Canvas(toolbar=Toolbar(toolitems=[('Home', 'Reset original view', 'home', 'home'), ('Back', 'Back to previous …"
      ]
     },
     "metadata": {},
     "output_type": "display_data"
    }
   ],
   "source": [
    "fig = plot_arrivals(st_filtered, arrivals)\n",
    "fig.show()"
   ]
  },
  {
   "cell_type": "markdown",
   "metadata": {},
   "source": [
    "**Question:** Do the major arrivals in the seismograms match to predicted arrival times? What do you think the amplitude \n",
    "portioning between channels means for the polarization of the S (direct) and sS (reflected off the Earth's surface) phases?"
   ]
  },
  {
   "cell_type": "markdown",
   "metadata": {},
   "source": [
    "**Answer:**"
   ]
  },
  {
   "cell_type": "markdown",
   "metadata": {},
   "source": [
    "Because we have orthogonal components we can look at the particle motion.  Lets look at the\n",
    "particle motion in the horizontal plane for the P, S and sS arrivals."
   ]
  },
  {
   "cell_type": "code",
   "execution_count": 8,
   "metadata": {},
   "outputs": [
    {
     "data": {
      "application/vnd.jupyter.widget-view+json": {
       "model_id": "d84af15b892d4d0b9ed79015748247f2",
       "version_major": 2,
       "version_minor": 0
      },
      "text/plain": [
       "Canvas(toolbar=Toolbar(toolitems=[('Home', 'Reset original view', 'home', 'home'), ('Back', 'Back to previous …"
      ]
     },
     "metadata": {},
     "output_type": "display_data"
    }
   ],
   "source": [
    "def plot_particle_motion(st):\n",
    "    \"\"\"\n",
    "    Plot the horizontal particle motion for a given three-channel stream.\n",
    "    \"\"\"\n",
    "    import numpy as np\n",
    "    \n",
    "    fig, ax = plt.subplots(nrows=1, ncols=2, figsize=(12, 6))\n",
    "    channels = {tr.stats.channel: tr.data \n",
    "                for tr in st if tr.stats.channel[-1] != \"Z\"}\n",
    "    keys = list(channels.keys())\n",
    "    ax[1].plot(channels[keys[0]], channels[keys[1]])\n",
    "    ax[1].set_xlabel(keys[0])\n",
    "    ax[1].set_ylabel(keys[1])\n",
    "    ax[1].set_title(\"Particle motion\")\n",
    "    ax[1].set_aspect('equal', 'box')\n",
    "    ax[1].axis([\n",
    "        min(min(channels[keys[0]]), min(channels[keys[1]])),\n",
    "        max(max(channels[keys[0]]), max(channels[keys[1]])),\n",
    "        min(min(channels[keys[0]]), min(channels[keys[1]])),\n",
    "        max(max(channels[keys[0]]), max(channels[keys[1]])),\n",
    "    ])\n",
    "    \n",
    "    time = np.arange(0, st[0].stats.npts * st[0].stats.delta,\n",
    "                     st[0].stats.delta)\n",
    "    ax[0].plot(time, channels[keys[0]], label=keys[0])\n",
    "    ax[0].plot(time, channels[keys[1]], label=keys[1])\n",
    "    ax[0].legend()\n",
    "    ax[0].set_xlabel(\"Time (s)\")\n",
    "    return fig\n",
    "\n",
    "arrival = [arrival for arrival in arrivals if arrival.name == \"P\"][0]\n",
    "fig = plot_particle_motion(st_filtered.slice(\n",
    "    event.preferred_origin().time + arrival.time - 5,\n",
    "    event.preferred_origin().time + arrival.time + 120))\n",
    "fig.show()"
   ]
  },
  {
   "cell_type": "code",
   "execution_count": 9,
   "metadata": {},
   "outputs": [
    {
     "data": {
      "application/vnd.jupyter.widget-view+json": {
       "model_id": "c1e0f931af714b748fa6f02e395179a1",
       "version_major": 2,
       "version_minor": 0
      },
      "text/plain": [
       "Canvas(toolbar=Toolbar(toolitems=[('Home', 'Reset original view', 'home', 'home'), ('Back', 'Back to previous …"
      ]
     },
     "metadata": {},
     "output_type": "display_data"
    }
   ],
   "source": [
    "arrival = [arrival for arrival in arrivals if arrival.name == \"S\"][0]\n",
    "fig = plot_particle_motion(st_filtered.slice(\n",
    "    event.preferred_origin().time + arrival.time - 5,\n",
    "    event.preferred_origin().time + arrival.time + 120))\n",
    "plt.show()"
   ]
  },
  {
   "cell_type": "code",
   "execution_count": 10,
   "metadata": {},
   "outputs": [
    {
     "data": {
      "application/vnd.jupyter.widget-view+json": {
       "model_id": "b1d94da6d47d4e9191b3bdd4ff507d44",
       "version_major": 2,
       "version_minor": 0
      },
      "text/plain": [
       "Canvas(toolbar=Toolbar(toolitems=[('Home', 'Reset original view', 'home', 'home'), ('Back', 'Back to previous …"
      ]
     },
     "metadata": {},
     "output_type": "display_data"
    }
   ],
   "source": [
    "arrival = [arrival for arrival in arrivals if arrival.name == \"sS\"][0]\n",
    "fig = plot_particle_motion(st_filtered.slice(\n",
    "    event.preferred_origin().time + arrival.time - 5,\n",
    "    event.preferred_origin().time + arrival.time + 120))\n",
    "plt.show()"
   ]
  },
  {
   "cell_type": "markdown",
   "metadata": {},
   "source": [
    "We can see very different particle motions for the three phases.  **Exercise:** Explain these differences."
   ]
  },
  {
   "cell_type": "markdown",
   "metadata": {},
   "source": [
    "**Answer:**"
   ]
  },
  {
   "cell_type": "markdown",
   "metadata": {},
   "source": [
    "**Exercise:** Repeat the above but for [event 2018p816466](https://www.geonet.org.nz/earthquake/2018p816466) in the GeoNet catalog (use the \"GEONET\" client)\n",
    "and download 5 minutes of data from station [VRZ](https://www.geonet.org.nz/data/network/sensor/VRZ).\n",
    "Do you see significant S energy on the horizontal components? Try changing the filter pass frequency."
   ]
  },
  {
   "cell_type": "code",
   "execution_count": 12,
   "metadata": {},
   "outputs": [],
   "source": [
    "# Write your code here - copy and paste things mostly an edit what needs to be editted."
   ]
  },
  {
   "cell_type": "markdown",
   "metadata": {},
   "source": [
    "## Conclusion\n",
    "\n",
    "That concludes our very brief play with data.  Hopefully you have seen the different body-waves,\n",
    "and that seismograms are a superposition of many different seismic phases.  In the following two\n",
    "notebooks we will think about some of the other phenomena that we observe in these seismograms."
   ]
  }
 ],
 "metadata": {
  "kernelspec": {
   "display_name": "Python 3",
   "language": "python",
   "name": "python3"
  },
  "language_info": {
   "codemirror_mode": {
    "name": "ipython",
    "version": 3
   },
   "file_extension": ".py",
   "mimetype": "text/x-python",
   "name": "python",
   "nbconvert_exporter": "python",
   "pygments_lexer": "ipython3",
   "version": "3.7.6"
  }
 },
 "nbformat": 4,
 "nbformat_minor": 2
}
