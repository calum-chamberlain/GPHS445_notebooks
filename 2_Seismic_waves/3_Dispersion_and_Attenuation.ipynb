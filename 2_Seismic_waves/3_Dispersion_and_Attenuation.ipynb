{
 "cells": [
  {
   "cell_type": "markdown",
   "metadata": {},
   "source": [
    "# Dispersion and attenuation\n",
    "\n",
    "To include:\n",
    "- Spherical attenuation\n",
    "- Scattering\n",
    "- Dispersion around objects\n",
    "- Phase and group velocities\n",
    "- Surface wave dispersion and what it tells us about velocities with depth\n",
    "- Talk about using noise data\n",
    "- Normal modes"
   ]
  },
  {
   "cell_type": "code",
   "execution_count": null,
   "metadata": {},
   "outputs": [],
   "source": []
  }
 ],
 "metadata": {
  "kernelspec": {
   "display_name": "Python 3",
   "language": "python",
   "name": "python3"
  },
  "language_info": {
   "codemirror_mode": {
    "name": "ipython",
    "version": 3
   },
   "file_extension": ".py",
   "mimetype": "text/x-python",
   "name": "python",
   "nbconvert_exporter": "python",
   "pygments_lexer": "ipython3",
   "version": "3.6.7"
  }
 },
 "nbformat": 4,
 "nbformat_minor": 2
}
