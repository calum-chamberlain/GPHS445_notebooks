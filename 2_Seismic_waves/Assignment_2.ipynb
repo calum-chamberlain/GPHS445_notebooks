{
 "cells": [
  {
   "cell_type": "markdown",
   "metadata": {},
   "source": [
    "# Assignment 2: Seismic Waves\n",
    "\n",
    "## How to use this notebook:\n",
    "The notebook is divided into four exercises.  Each exercise has a series of instructions and\n",
    "empty spaces for you to fill in your answer.  Sometimes code will be required, sometimes prose,\n",
    "and sometimes a mixture. Fill in the boxes with what is required.\n",
    "\n",
    "## Outline:\n",
    "The objective of this assignment is to familiarise yourself with the Physics behind\n",
    "wave propagation in the solid earth.\n",
    "\n",
    "## Deadlines:\n",
    "Please complete all the questions and hand in this notebook (completed) \n",
    "by the deadline set in class. Submission is via email.\n",
    "\n",
    "## Grading:\n",
    "Questions should be answered, with working shown. If you make plots, make sure\n",
    "axes are labelled, and legends given (if multiple things are plotted).\n",
    "\n",
    "## Marks:\n",
    "- Exercise 1: 7\n",
    "- Exercise 2: 5\n",
    "- Exercise 3: 3\n",
    "- Exercise 4: 5"
   ]
  },
  {
   "cell_type": "markdown",
   "metadata": {},
   "source": [
    "## Exercise 1: Travel-times in simple media\n",
    "\n",
    "Consider a 2D volume 10 km thick with P-wave speed of 5 km/s and S-wave speed of 3 km/s.\n",
    "Write a simple function to calculate the travel-time and x-position of a\n",
    "downgoing ray starting at x = 0, for a given incoming angle - use the function signature below."
   ]
  },
  {
   "cell_type": "code",
   "execution_count": 1,
   "metadata": {},
   "outputs": [],
   "source": [
    "%matplotlib inline\n",
    "import matplotlib.pyplot as plt\n",
    "plt.style.use('ggplot') # Makes plots work well with dark theme\n",
    "import math\n",
    "\n",
    "def travel_time(angle_in, x0, thickness, velocity):\n",
    "    \"\"\"\n",
    "    Calculate the travel-time and outgoing position for a ray.\n",
    "    \n",
    "    :type x0: float\n",
    "    :param x0: Incoming position in km\n",
    "    :type thickness: float\n",
    "    :param thickness: Thickness of layer in km\n",
    "    :type velocity: float\n",
    "    :param velocity: Velocity of wave in media, in km/s\n",
    "    :type angle_in: float\n",
    "    :param angle_in: Incoming angle of ray in degrees.\n",
    "    \n",
    "    :returns: x_out, time_out\n",
    "    \"\"\"\n",
    "    # Insert code here\n",
    "    return x_out, time_out"
   ]
  },
  {
   "cell_type": "markdown",
   "metadata": {},
   "source": [
    "Use this function to calculate the x-position and arrival time of P and S waves in a 2D volume with layer\n",
    "velocites given by:\n",
    "\n",
    "| Thickness (km) | P-wave Velocity (km/s) | S-wave Velocity (km/s) |\n",
    "|---|---|---|\n",
    "| 10.0 | 5.0 | 3.0 |\n",
    "| 5.0  | 5.7 | 3.4 |\n",
    "| 15.0 | 7.0 | 6.3 |\n",
    "\n",
    "Use Snell's law to recalculate the incoming angle at each layer assuming perfect transmission (e.g. no reflection) with\n",
    "a starting ray angle of 10&deg; from vertical. How much do the P and S arrivals differ in time and space?"
   ]
  },
  {
   "cell_type": "code",
   "execution_count": null,
   "metadata": {},
   "outputs": [],
   "source": [
    "# Code to solve this problem"
   ]
  },
  {
   "cell_type": "markdown",
   "metadata": {},
   "source": [
    "Recompute this for every angle between -45&deg; and 45&deg; - plot your results.  \n",
    "This is effectively the idea behind ray-tracing - we will talk about how we use this for earthquake\n",
    "location in the \"Building a catalog\" module."
   ]
  },
  {
   "cell_type": "code",
   "execution_count": 33,
   "metadata": {},
   "outputs": [],
   "source": [
    "# Code to answer this problem"
   ]
  },
  {
   "cell_type": "markdown",
   "metadata": {},
   "source": [
    "## Exercise 2: Reflection, refraction and delayed phases - depth phases\n",
    "\n",
    "Seismograms do not only show direct P and S arrivals, within the coda of these waves are a multitude of\n",
    "reflected and converted phases.  For shallow earthquakes, a particularly useful set of arrivals known\n",
    "as *depth phases* can be used to better constrain the depth of earthquakes with relatively distant\n",
    "seismographs. For instance, see this \n",
    "[paper on the 2017 North Korea nuclear test](https://agupubs.onlinelibrary.wiley.com/doi/full/10.1029/2018GL077649).\n",
    "\n",
    "Using a fixed source depth, epicentral distance and simple two-layer velocity model\n",
    "we will try and predict the arrival times of phase *Pg, Pb and Pn*, which are:\n",
    "- Pg: Direct source to receiver P wave;\n",
    "- Pb: A P-wave reflection off the top of the lower crust;\n",
    "- Pn: A P-wave diffracting along the top of the mantle.\n",
    "\n",
    "The nuclear test likely happened below, but close to the surface.\n",
    "Compute these phase arrivals for a focal depth of 0.8km, epicentral distance of 100 km and\n",
    "the three layer velocity model:\n",
    "\n",
    "| Thickness (km) | Vp (km/s) |\n",
    "|---|---|\n",
    "| 22 | 6.2 |\n",
    "| 12 | 6.6 |\n",
    "| N/A | 7.8 |"
   ]
  },
  {
   "cell_type": "code",
   "execution_count": null,
   "metadata": {},
   "outputs": [],
   "source": [
    "# Answer"
   ]
  },
  {
   "cell_type": "markdown",
   "metadata": {},
   "source": [
    "The nuclear test is thought to have triggered a swarm of seismicity at greater depth.\n",
    "Recompute arrival times for the same model and epicentral distance, but a depth of 5 km.  Do you think the difference\n",
    "in arrival times is likely to be resolvable? What would the maximum period be before the arrivals were not seperable:\n",
    "use the rule of thumb that the minimum resolvable separation is between 1/4 and 1/8 of the dominant period."
   ]
  },
  {
   "cell_type": "code",
   "execution_count": null,
   "metadata": {},
   "outputs": [],
   "source": [
    "# Answer"
   ]
  },
  {
   "cell_type": "markdown",
   "metadata": {},
   "source": [
    "*Discuss resolution here*"
   ]
  },
  {
   "cell_type": "markdown",
   "metadata": {},
   "source": [
    "## Exercise 3: Dispersion and attenuation - magnitudes\n",
    "\n",
    "Using the magnitude scale [Boese et al., 2012](https://agupubs.onlinelibrary.wiley.com/doi/full/10.1029/2011JB008460)\n",
    "derived for the Southern Alps, compute the expected amplitude for an earthquake at 8 km depth at epicentral distances\n",
    "of 1, 10, and 40 km."
   ]
  },
  {
   "cell_type": "code",
   "execution_count": 45,
   "metadata": {},
   "outputs": [],
   "source": [
    "# Answer here."
   ]
  },
  {
   "cell_type": "markdown",
   "metadata": {},
   "source": [
    "## Exercise 4: Spectral ratios\n",
    "\n",
    "Read [Benites and Olsen 2005](https://pubs.geoscienceworld.org/ssa/bssa/article/95/6/2180/146829/modeling-strong-ground-motion-in-the-wellington).\n",
    "\n",
    "Download data for sites [LIRS](https://www.geonet.org.nz/data/network/sensor/LIRS) \n",
    "and [PVCS](https://www.geonet.org.nz/data/network/sensor/PVCS) in the Wellington region for \n",
    "the 5 minutes after the 2016 M7.8 Kaikoura earthquake.  Process your data using a 9 Hz lowpass\n",
    "filter and resample to 20 Hz.  Remember to detrend and taper."
   ]
  },
  {
   "cell_type": "code",
   "execution_count": 86,
   "metadata": {},
   "outputs": [],
   "source": [
    "# Download data here\n",
    "from obspy import UTCDateTime\n",
    "from obspy.clients.fdsn import Client"
   ]
  },
  {
   "cell_type": "markdown",
   "metadata": {},
   "source": [
    "Compute and plot the spectra for the vertical channels of both sites.\n",
    "Compute the spectral ratio between the two sites - describe what you observe and\n",
    "relate this to your knowledge of Wellington amplification effects (see the \n",
    "Benites and Olsen paper)."
   ]
  },
  {
   "cell_type": "code",
   "execution_count": 85,
   "metadata": {},
   "outputs": [],
   "source": [
    "# Code here"
   ]
  },
  {
   "cell_type": "markdown",
   "metadata": {},
   "source": [
    "*Description here*"
   ]
  },
  {
   "cell_type": "markdown",
   "metadata": {},
   "source": [
    "Compute H/V spectral ratios for both stations. Discuss the results (see the paper\n",
    "by [Bradley et al., 2018](https://pubs.geoscienceworld.org/ssa/bssa/article/529264/influence-of-site-effects-on-observed-ground) for comparison)."
   ]
  },
  {
   "cell_type": "code",
   "execution_count": 84,
   "metadata": {},
   "outputs": [],
   "source": [
    "# Code here"
   ]
  },
  {
   "cell_type": "markdown",
   "metadata": {},
   "source": [
    "*Discussion here*"
   ]
  }
 ],
 "metadata": {
  "kernelspec": {
   "display_name": "Python 3",
   "language": "python",
   "name": "python3"
  },
  "language_info": {
   "codemirror_mode": {
    "name": "ipython",
    "version": 3
   },
   "file_extension": ".py",
   "mimetype": "text/x-python",
   "name": "python",
   "nbconvert_exporter": "python",
   "pygments_lexer": "ipython3",
   "version": "3.7.3"
  }
 },
 "nbformat": 4,
 "nbformat_minor": 2
}
