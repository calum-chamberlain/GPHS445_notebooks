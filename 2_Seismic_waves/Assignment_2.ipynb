{
 "cells": [
  {
   "cell_type": "markdown",
   "metadata": {},
   "source": [
    "# Assignment 2: Seismic Waves\n",
    "\n",
    "## How to use this notebook:\n",
    "The notebook is divided into four exercises.  Each exercise has a series of instructions and\n",
    "empty spaces for you to fill in your answer.  Sometimes code will be required, sometimes prose,\n",
    "and sometimes a mixture. Fill in the boxes with what is required.\n",
    "\n",
    "## Outline:\n",
    "The objective of this assignment is to familiarise yourself with the Physics behind\n",
    "wave propagation in the solid earth.\n",
    "\n",
    "## Deadlines:\n",
    "Please complete all the questions and hand in this notebook (completed) \n",
    "by the deadline set in class. Submission is via email.\n",
    "\n",
    "## Grading:\n",
    "Questions should be answered, with working shown. If you make plots, make sure\n",
    "axes are labelled, and legends given (if multiple things are plotted).\n",
    "\n",
    "## Marks:\n",
    "- Exercise 1: 7\n",
    "- Exercise 2: 5\n",
    "- Exercise 3: 3\n",
    "- Exercise 4: 5"
   ]
  },
  {
   "cell_type": "markdown",
   "metadata": {},
   "source": [
    "## Exercise 1: Travel-times in simple media\n",
    "\n",
    "Consider a 2D volume 10 km thick with P-wave speed of 5 km/s and S-wave speed of 3 km/s.\n",
    "\n",
    "**Question 1.1:** Write a simple function to calculate the travel-time and x-position of a\n",
    "downgoing ray starting at x = 0, for a given incoming angle - use the function signature below."
   ]
  },
  {
   "cell_type": "code",
   "execution_count": 1,
   "metadata": {},
   "outputs": [],
   "source": [
    "%matplotlib inline\n",
    "import matplotlib.pyplot as plt\n",
    "plt.style.use('ggplot') # Makes plots work well with dark theme\n",
    "import math\n",
    "\n",
    "def travel_time(angle_in, x0, thickness, velocity):\n",
    "    \"\"\"\n",
    "    Calculate the travel-time and outgoing position for a ray.\n",
    "    \n",
    "    :type angle_in: float\n",
    "    :param angle_in: Incoming angle of ray in degrees.\n",
    "    :type x0: float\n",
    "    :param x0: Incoming position in km\n",
    "    :type thickness: float\n",
    "    :param thickness: Thickness of layer in km\n",
    "    :type velocity: float\n",
    "    :param velocity: Velocity of wave in media, in km/s\n",
    "    \n",
    "    :returns: x_out, time_out\n",
    "    \"\"\"\n",
    "    # Insert code here\n",
    "    return x_out, time_out"
   ]
  },
  {
   "cell_type": "markdown",
   "metadata": {},
   "source": [
    "**Question 1.2:** \n",
    "Use this function to calculate the x-position and arrival time of P and S waves in a 2D volume with layer\n",
    "velocites given by:\n",
    "\n",
    "| Thickness (km) | P-wave Velocity (km/s) | S-wave Velocity (km/s) |\n",
    "|---|---|---|\n",
    "| 10.0 | 5.0 | 3.0 |\n",
    "| 5.0  | 5.7 | 3.4 |\n",
    "| 15.0 | 7.0 | 6.3 |\n",
    "\n",
    "Use Snell's law to recalculate the incoming angle at each layer assuming perfect transmission (e.g. no reflection) with a starting ray angle of 10&deg; from vertical, and starting at x=0."
   ]
  },
  {
   "cell_type": "code",
   "execution_count": 1,
   "metadata": {},
   "outputs": [],
   "source": [
    "# Answer 1.2:\n",
    "# Code to solve this problem - you should write this as a function so that you can use it for the next question.\n",
    "def snells_law(input_angle):\n",
    "    do_some_maths\n",
    "    return p_time, s_time, p_dist, s_dist"
   ]
  },
  {
   "cell_type": "markdown",
   "metadata": {},
   "source": [
    "**Question 1.3:** What is the final separation of P and S waves."
   ]
  },
  {
   "cell_type": "markdown",
   "metadata": {},
   "source": [
    "**Answer 1.3:**"
   ]
  },
  {
   "cell_type": "markdown",
   "metadata": {},
   "source": [
    "**Question 1.4:** Recompute this for every angle between -45&deg; and 45&deg; - make four graphs of:\n",
    "1. Input angle vs P final time\n",
    "2. Input angle vs S final time\n",
    "3. Input angle vs P final X-position\n",
    "4. Input angle vs S final X-position\n",
    "\n",
    "This is effectively the idea behind ray-tracing - we will talk about how we use this for earthquake\n",
    "location in the \"Building a catalog\" module."
   ]
  },
  {
   "cell_type": "code",
   "execution_count": 2,
   "metadata": {},
   "outputs": [],
   "source": [
    "# Answer 1.4:\n",
    "p_times = []\n",
    "s_times = []\n",
    "p_dists = []\n",
    "s_dists = []\n",
    "\n",
    "for angle in range(1, 45):\n",
    "    p_time, s_time, p_dict, s_dist = snells_law(input_angle=angle)\n",
    "    p_times.append(p_time)\n",
    "    s_times.append(s_time)\n",
    "    p_dists.append(p_dist)\n",
    "    s_dists.append(s_dist)\n",
    "    \n",
    "# Then plot"
   ]
  },
  {
   "cell_type": "markdown",
   "metadata": {},
   "source": [
    "## Exercise 2: Reflection, refraction and delayed phases - depth phases\n",
    "\n",
    "Seismograms do not only show direct P and S arrivals, within the coda of these waves are a multitude of\n",
    "reflected and converted phases.  For shallow earthquakes, a particularly useful set of arrivals known\n",
    "as *depth phases* can be used to better constrain the depth of earthquakes with relatively distant\n",
    "seismographs. For instance, see this \n",
    "[paper on the 2017 North Korea nuclear test](https://agupubs.onlinelibrary.wiley.com/doi/full/10.1029/2018GL077649).\n",
    "\n",
    "Using a fixed source depth, epicentral distance and simple two-layer velocity model\n",
    "we will try and predict the arrival times of phase *Pg, Pb and Pn*, which are:\n",
    "- Pg: Direct source to receiver P wave;\n",
    "- Pb: A P-wave reflection off the top of the lower crust;\n",
    "- Pn: A P-wave diffracting along the top of the mantle.\n",
    "\n",
    "The nuclear test likely happened below, but close to the surface.\n",
    "\n",
    "**Question 2.1:** Calculate the arrival times for these phase for a focal depth of 0.8km, epicentral distance of 100 km and\n",
    "the three layer velocity model (please show your working):\n",
    "\n",
    "| Thickness (km) | Vp (km/s) | Layer name |\n",
    "|---|---|---|\n",
    "| 22 | 6.2 | Upper Crust |\n",
    "| 12 | 6.6 | Lower Crust |\n",
    "| N/A | 7.8 | Mantle |"
   ]
  },
  {
   "cell_type": "code",
   "execution_count": 5,
   "metadata": {},
   "outputs": [],
   "source": [
    "# Answer 2.1:"
   ]
  },
  {
   "cell_type": "markdown",
   "metadata": {},
   "source": [
    "**Question 2.2:** The nuclear test is thought to have triggered a swarm of seismicity at greater depth.\n",
    "Recompute arrival times for the same model and epicentral distance, but a **depth of 5 km**."
   ]
  },
  {
   "cell_type": "code",
   "execution_count": null,
   "metadata": {},
   "outputs": [],
   "source": [
    "# Answer 2.2:"
   ]
  },
  {
   "cell_type": "markdown",
   "metadata": {},
   "source": [
    "**Question 2.3:** What is the difference in Pg arrival time between the nuclear test and the swarm? What is the minimum period for this difference to be resolved?\n",
    "\n",
    "Use the rule of thumb that the minimum resolvable phase separation is between 1/4 and 1/8 of the dominant period."
   ]
  },
  {
   "cell_type": "markdown",
   "metadata": {},
   "source": [
    "**Answer 2.3:**"
   ]
  },
  {
   "cell_type": "markdown",
   "metadata": {},
   "source": [
    "**Question 2.4:** What would the minimum periods be for the depth and direct arrivals to be resolvable for both events?"
   ]
  },
  {
   "cell_type": "markdown",
   "metadata": {},
   "source": [
    "**Answer 2.4:**"
   ]
  },
  {
   "cell_type": "markdown",
   "metadata": {},
   "source": [
    "## Exercise 3: Dispersion and attenuation - magnitudes\n",
    "\n",
    "**Question 3.1:** Using the magnitude scale [Boese et al., 2012](https://agupubs.onlinelibrary.wiley.com/doi/full/10.1029/2011JB008460) derived for the Southern Alps, compute the expected amplitude for an earthquake at 8 km depth at epicentral distances of 1, 10, and 40 km. Use a site-specific correction of 0."
   ]
  },
  {
   "cell_type": "code",
   "execution_count": 4,
   "metadata": {},
   "outputs": [],
   "source": [
    "# Answer 3.1: Answer here."
   ]
  },
  {
   "cell_type": "markdown",
   "metadata": {},
   "source": [
    "## Exercise 4: Spectral ratios\n",
    "\n",
    "Read [Benites and Olsen 2005](https://pubs.geoscienceworld.org/ssa/bssa/article/95/6/2180/146829/modeling-strong-ground-motion-in-the-wellington).\n",
    "\n",
    "**Question 4.1:** Download data for BN channels of sites [LIRS](https://www.geonet.org.nz/data/network/sensor/LIRS) \n",
    "and [PVCS](https://www.geonet.org.nz/data/network/sensor/PVCS) in the Wellington region for \n",
    "the 5 minutes after the 2016 M7.8 Kaikoura earthquake (starting at the origin-time).  Process your data by:\n",
    "1. Detrending;\n",
    "2. Removing instrument response (correct to acceleration);\n",
    "3. Detrend and taper;\n",
    "3. Apply a 9 Hz lowpass filter;\n",
    "4. Resample to 20 Hz."
   ]
  },
  {
   "cell_type": "code",
   "execution_count": 4,
   "metadata": {},
   "outputs": [],
   "source": [
    "# Answer 4.1: Download data here\n",
    "from obspy import UTCDateTime\n",
    "from obspy.clients.fdsn import Client\n",
    "\n",
    "inv = client.get_stations()\n",
    "st = client.get_waveforms()\n",
    "\n",
    "st = st.detrend()\n",
    "st = st.remove_response(inv=inv, ...)\n",
    "st = st.detrend()\n",
    "st = st.taper()\n",
    "st = st.filter(\"lowpass\", freq=9, corners=2)\n",
    "st = st.resample(20)"
   ]
  },
  {
   "cell_type": "markdown",
   "metadata": {},
   "source": [
    "**Question 4.2:** Compute and plot the spectral-ratio for the vertical channels of both sites. Use the `spectral_ratio` function as imported below - this is in the *spectral_ratio.py* file.\n",
    "\n",
    "Describe what you observe and\n",
    "relate this to your knowledge of Wellington amplification effects (see the \n",
    "Benites and Olsen paper). LIRS is situated near Gracefield, at the eastern edge of the Hutt Valley. PVCS is\n",
    "on Victoria Street in Petone, above one of the thicker parts of the Hutt basin.\n",
    "\n",
    "The spectral ratio is the division of one spectra by another - this is often smoothed. A simple way to smooth\n",
    "the ratio is the decimate option for `spectral_ratio`."
   ]
  },
  {
   "cell_type": "code",
   "execution_count": 3,
   "metadata": {},
   "outputs": [],
   "source": [
    "# Answer 4.2: Code here\n",
    "from spectral_ratio import spectral_ratio"
   ]
  },
  {
   "cell_type": "markdown",
   "metadata": {},
   "source": [
    "**Answer 4.2:** *Description here*"
   ]
  },
  {
   "cell_type": "markdown",
   "metadata": {},
   "source": [
    "**Question 4.3:** Compute H/V (horizontal / vertical) spectral ratios for both stations. Discuss the results (see the paper\n",
    "by [Bradley et al., 2018](https://pubs.geoscienceworld.org/ssa/bssa/article/529264/influence-of-site-effects-on-observed-ground) for comparison)."
   ]
  },
  {
   "cell_type": "code",
   "execution_count": 7,
   "metadata": {},
   "outputs": [],
   "source": [
    "# Answer 4.3: Code here"
   ]
  },
  {
   "cell_type": "markdown",
   "metadata": {},
   "source": [
    "**Answer 4.3:** *Discussion here*"
   ]
  },
  {
   "cell_type": "code",
   "execution_count": null,
   "metadata": {},
   "outputs": [],
   "source": []
  }
 ],
 "metadata": {
  "kernelspec": {
   "display_name": "Python 3",
   "language": "python",
   "name": "python3"
  },
  "language_info": {
   "codemirror_mode": {
    "name": "ipython",
    "version": 3
   },
   "file_extension": ".py",
   "mimetype": "text/x-python",
   "name": "python",
   "nbconvert_exporter": "python",
   "pygments_lexer": "ipython3",
   "version": "3.7.6"
  }
 },
 "nbformat": 4,
 "nbformat_minor": 2
}