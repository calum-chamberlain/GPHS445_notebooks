{
 "cells": [
  {
   "cell_type": "markdown",
   "metadata": {},
   "source": [
    "# Introduction to processing seismic data\n",
    "\n",
    "In this first notebook we will cover some basics of getting, reading, writing and processing passive seismic data.  One of the main goals of this notebook is to get you familiar with using [ObsPy](https://docs.obspy.org/), which is a Python package for Observational Seismology (and it is very helpful!).\n",
    "\n",
    "This notebook covers the following main topics:\n",
    "1. Downloading data from data-centres;\n",
    "2. Plotting waveforms;\n",
    "3. Reading local data;\n",
    "4. Basic processing (the theory will be covered in another notebook)."
   ]
  },
  {
   "cell_type": "code",
   "execution_count": 1,
   "metadata": {},
   "outputs": [],
   "source": [
    "%matplotlib widget"
   ]
  },
  {
   "cell_type": "markdown",
   "metadata": {},
   "source": [
    "---\n",
    "## Accessing FDSN data\n",
    "\n",
    "[FDSN](https://www.fdsn.org/) stands for Federation of Digital Seismograph Networks, and is an organisation that aims to achieve good geographic seismographic coverage of the globe. Along the way to this goal the FDSN developed several standards which help to archive and distribute seismic data. It is fun to think that seismology was one pf the worlds earliest truely international scientific endeavours: to be able to locate teleseismic earthquakes data from around the world is needed, so from very early on data were shared between institutions.\n",
    "\n",
    "For our purposes, the FDSN provides a really useful standard for data access through the [FDSN web services](https://www.fdsn.org/webservices/) specifications. You don't need to know the intricacies of this, but feel free to read up if you are interested in data sharing and access! The FDSN specification covers waveform and event data as well as station meta-data.\n",
    "\n",
    "ObsPy implements pythonic ways of accessing FDSN-compliant web-services through their [FDSN client](https://docs.obspy.org/packages/obspy.clients.fdsn.html). One such FDSN-compliant web-service is offered by [GeoNet](https://www.geonet.org.nz/data/tools/FDSN), meaning we can look at some NZ data very easily, yay!\n",
    "\n",
    "Lets start off by instantiating a Client that can access the GeoNet web-service.  You have to instantiate a new client for each different end-point (say you want data from GeoNet and IRIS, you will need to make two Clients)."
   ]
  },
  {
   "cell_type": "code",
   "execution_count": 2,
   "metadata": {},
   "outputs": [],
   "source": [
    "from obspy.clients.fdsn import Client\n",
    "\n",
    "client = Client(\"GEONET\")"
   ]
  },
  {
   "cell_type": "markdown",
   "metadata": {},
   "source": [
    "A list of the available clients that ObsPy knows about can be found [here](https://docs.obspy.org/packages/obspy.clients.fdsn.html#id1), and includes the raspberry shake network that we connected our raspberry shakes to earlier!\n",
    "\n",
    "We can get three types of data from FDSN-compliant web-services (although not all offer all three - RASPISHAKE only provides waveform data for example):\n",
    "1. Station meta-data"
   ]
  },
  {
   "cell_type": "code",
   "execution_count": 3,
   "metadata": {},
   "outputs": [
    {
     "name": "stdout",
     "output_type": "stream",
     "text": [
      "Inventory created at 2021-02-26T01:34:07.000000Z\n",
      "\tCreated by: Delta\n",
      "\t\t    \n",
      "\tSending institution: GeoNet (WEL(GNS_Test))\n",
      "\tContains:\n",
      "\t\tNetworks (1):\n",
      "\t\t\tNZ\n",
      "\t\tStations (1):\n",
      "\t\t\tNZ.FOZ (Fox Glacier)\n",
      "\t\tChannels (0):\n",
      "\n"
     ]
    },
    {
     "name": "stderr",
     "output_type": "stream",
     "text": [
      "/home/calumch/miniconda3/envs/conda_38/lib/python3.8/site-packages/obspy/io/stationxml/core.py:96: UserWarning: The StationXML file has version 1, ObsPy can read versions (1.0, 1.1). Proceed with caution.\n",
      "  warnings.warn(\"The StationXML file has version %s, ObsPy can \"\n"
     ]
    }
   ],
   "source": [
    "inventory = client.get_stations(\n",
    "    network=\"NZ\", station=\"FOZ\", location=\"10\", channel=\"HHZ\")\n",
    "print(inventory)"
   ]
  },
  {
   "cell_type": "markdown",
   "metadata": {},
   "source": [
    "2. Event information"
   ]
  },
  {
   "cell_type": "code",
   "execution_count": 4,
   "metadata": {},
   "outputs": [
    {
     "name": "stdout",
     "output_type": "stream",
     "text": [
      "1 Event(s) in Catalog:\n",
      "2016-11-13T11:02:56.346094Z | -42.693, +173.022 | 7.820379733 Mw(mB) | manual\n"
     ]
    }
   ],
   "source": [
    "catalog = client.get_events(eventid=\"2016p858000\")\n",
    "print(catalog)"
   ]
  },
  {
   "cell_type": "markdown",
   "metadata": {},
   "source": [
    "3. Waveform information"
   ]
  },
  {
   "cell_type": "code",
   "execution_count": 5,
   "metadata": {},
   "outputs": [
    {
     "name": "stdout",
     "output_type": "stream",
     "text": [
      "1 Trace(s) in Stream:\n",
      "NZ.FOZ.10.HHZ | 2016-11-13T10:59:59.998393Z - 2016-11-13T11:19:59.998393Z | 100.0 Hz, 120001 samples\n"
     ]
    }
   ],
   "source": [
    "# We need to specify a start and end-time. To do that we use ObsPy's UTCDateTime object\n",
    "from obspy import UTCDateTime\n",
    "\n",
    "st = client.get_waveforms(\n",
    "    network=\"NZ\", station=\"FOZ\", location=\"10\", channel=\"HHZ\",\n",
    "    starttime=UTCDateTime(2016, 11, 13, 11),\n",
    "    endtime=UTCDateTime(2016, 11, 13, 11, 20))\n",
    "print(st)"
   ]
  },
  {
   "cell_type": "markdown",
   "metadata": {},
   "source": [
    "---\n",
    "### Basic plotting\n",
    "\n",
    "Obspy has nice quick ways to plot a few things, including waveforms. The object that we got from the `client.get_waveforms` call above is a [`Stream`](https://docs.obspy.org/tutorial/code_snippets/reading_seismograms.html). Check out the linked tutorial for more information on `Stream` objects.\n",
    "\n",
    "To get these plots to play nice in the notebooks (to have a zoomable window) we need to set up a figure first. However, outside of Jupyter you can just plot using:\n",
    "\n",
    "```python\n",
    "st.plot()\n",
    "```\n",
    "\n",
    "give it a go below:"
   ]
  },
  {
   "cell_type": "code",
   "execution_count": null,
   "metadata": {},
   "outputs": [],
   "source": []
  },
  {
   "cell_type": "code",
   "execution_count": 6,
   "metadata": {},
   "outputs": [
    {
     "data": {
      "application/vnd.jupyter.widget-view+json": {
       "model_id": "76f4c28001074cb6b3c9b46ca8372981",
       "version_major": 2,
       "version_minor": 0
      },
      "text/plain": [
       "Canvas(toolbar=Toolbar(toolitems=[('Home', 'Reset original view', 'home', 'home'), ('Back', 'Back to previous …"
      ]
     },
     "metadata": {},
     "output_type": "display_data"
    }
   ],
   "source": [
    "# Hacks to make a zoomable plot work!\n",
    "\n",
    "import matplotlib.pyplot as plt\n",
    "\n",
    "fig = plt.figure()\n",
    "_ = st.plot(fig=fig, show=False)"
   ]
  },
  {
   "cell_type": "markdown",
   "metadata": {},
   "source": [
    "**Bonus points** what earthquake is this data for, and where is the seismograph?"
   ]
  },
  {
   "cell_type": "markdown",
   "metadata": {},
   "source": [
    "---\n",
    "## An aside on time\n",
    "\n",
    "Seismic data are recorded at fairly high sampling rates (often > 50 samples per second, more on the effect of sampling rates later). To be able to work with that we need a fairly high precision way of representing times. ObsPy has it's own `UTCDateTime` class that handles times to the required precision. These are used throughout ObsPy and have some handy things, most notably, adding seconds to them!\n",
    "\n",
    "For example, to make a `UTCDateTime` object we can pass a year, month, day, hour, minute, second and nanosecond like this:"
   ]
  },
  {
   "cell_type": "code",
   "execution_count": 7,
   "metadata": {},
   "outputs": [
    {
     "data": {
      "text/plain": [
       "2017-02-11T13:12:24.004000Z"
      ]
     },
     "execution_count": 7,
     "metadata": {},
     "output_type": "execute_result"
    }
   ],
   "source": [
    "UTCDateTime(2017, 2, 11, 13, 12, 24, 4000)"
   ]
  },
  {
   "cell_type": "markdown",
   "metadata": {},
   "source": [
    "Check out the [docs on UTCDateTime](https://docs.obspy.org/packages/autogen/obspy.core.utcdatetime.UTCDateTime.html) for more options.\n",
    "\n",
    "We can then do maths with them - we can add seconds directly, for example if I wanted a time 20.5 seconds after the time above I could do:"
   ]
  },
  {
   "cell_type": "code",
   "execution_count": 8,
   "metadata": {},
   "outputs": [
    {
     "data": {
      "text/plain": [
       "2017-02-11T13:12:44.504000Z"
      ]
     },
     "execution_count": 8,
     "metadata": {},
     "output_type": "execute_result"
    }
   ],
   "source": [
    "UTCDateTime(2017, 2, 11, 13, 12, 24, 4000) + 20.5"
   ]
  },
  {
   "cell_type": "markdown",
   "metadata": {},
   "source": [
    "If you need raw `datetime` objects (for example for plotting), then you can get one using the `.datetime` property of `UTCDateTime` objects, like so:"
   ]
  },
  {
   "cell_type": "code",
   "execution_count": 9,
   "metadata": {},
   "outputs": [
    {
     "data": {
      "text/plain": [
       "datetime.datetime(2017, 2, 11, 13, 12, 24, 4000)"
      ]
     },
     "execution_count": 9,
     "metadata": {},
     "output_type": "execute_result"
    }
   ],
   "source": [
    "sometime = UTCDateTime(2017, 2, 11, 13, 12, 24, 4000)\n",
    "sometime.datetime"
   ]
  },
  {
   "cell_type": "markdown",
   "metadata": {},
   "source": [
    "---\n",
    "## Getting more data\n",
    "\n",
    "Now we know how time works (in ObsPy at least), you should be able to get some data for yourself. Use the `client.get_waveforms` method we used before, but this time get data for:\n",
    "- network: NZ\n",
    "- station: JCZ\n",
    "- channel: HHN\n",
    "- location: 10\n",
    "- starttime: 2016/11/13 00:00\n",
    "and length of one day (hint, just add 86400 seconds onto the starttime).\n",
    "\n",
    "Download and plot these data below:"
   ]
  },
  {
   "cell_type": "code",
   "execution_count": 10,
   "metadata": {},
   "outputs": [],
   "source": [
    "# Your turn"
   ]
  },
  {
   "cell_type": "markdown",
   "metadata": {},
   "source": [
    "### Multiple stations\n",
    "\n",
    "We can get data for multiple stations and store it in an ObsPy `Stream`. One way to do that is to add `Stream`s together like so:"
   ]
  },
  {
   "cell_type": "code",
   "execution_count": 11,
   "metadata": {},
   "outputs": [
    {
     "name": "stdout",
     "output_type": "stream",
     "text": [
      "2 Trace(s) in Stream:\n",
      "NZ.FOZ.10.HHZ | 2016-11-13T10:59:59.998393Z - 2016-11-13T11:19:59.998393Z | 100.0 Hz, 120001 samples\n",
      "NZ.JCZ.10.HHZ | 2016-11-13T10:59:59.998393Z - 2016-11-13T11:19:59.998393Z | 100.0 Hz, 120001 samples\n"
     ]
    },
    {
     "data": {
      "application/vnd.jupyter.widget-view+json": {
       "model_id": "28e7f6a4fd15436ab721a0d06fcab041",
       "version_major": 2,
       "version_minor": 0
      },
      "text/plain": [
       "Canvas(toolbar=Toolbar(toolitems=[('Home', 'Reset original view', 'home', 'home'), ('Back', 'Back to previous …"
      ]
     },
     "metadata": {},
     "output_type": "display_data"
    }
   ],
   "source": [
    "st = client.get_waveforms(\n",
    "    network=\"NZ\", station=\"FOZ\", location=\"10\", channel=\"HHZ\",\n",
    "    starttime=UTCDateTime(2016, 11, 13, 11),\n",
    "    endtime=UTCDateTime(2016, 11, 13, 11, 20))\n",
    "st += client.get_waveforms(\n",
    "    network=\"NZ\", station=\"JCZ\", location=\"10\", channel=\"HHZ\",\n",
    "    starttime=UTCDateTime(2016, 11, 13, 11),\n",
    "    endtime=UTCDateTime(2016, 11, 13, 11, 20))\n",
    "print(st)\n",
    "fig = plt.figure()\n",
    "_ = st.plot(fig=fig, show=False)"
   ]
  },
  {
   "cell_type": "markdown",
   "metadata": {},
   "source": [
    "This `Stream` has two `Trace`s in it - we can access individual `Trace`s using normal list indexing like:"
   ]
  },
  {
   "cell_type": "code",
   "execution_count": 12,
   "metadata": {},
   "outputs": [
    {
     "name": "stdout",
     "output_type": "stream",
     "text": [
      "NZ.FOZ.10.HHZ | 2016-11-13T10:59:59.998393Z - 2016-11-13T11:19:59.998393Z | 100.0 Hz, 120001 samples\n"
     ]
    }
   ],
   "source": [
    "tr = st[0]\n",
    "print(tr)"
   ]
  },
  {
   "cell_type": "markdown",
   "metadata": {},
   "source": [
    "We can also get data from multiple stations using *\"wildcard\"* queries, where a `*` counts for any string, and a `?` matches any letter. For example if we want all three HH channels from FOZ we can use:"
   ]
  },
  {
   "cell_type": "code",
   "execution_count": 13,
   "metadata": {},
   "outputs": [
    {
     "name": "stdout",
     "output_type": "stream",
     "text": [
      "3 Trace(s) in Stream:\n",
      "NZ.FOZ.10.HHE | 2016-11-13T10:59:59.998393Z - 2016-11-13T11:19:59.998393Z | 100.0 Hz, 120001 samples\n",
      "NZ.FOZ.10.HHN | 2016-11-13T10:59:59.998393Z - 2016-11-13T11:19:59.998393Z | 100.0 Hz, 120001 samples\n",
      "NZ.FOZ.10.HHZ | 2016-11-13T10:59:59.998393Z - 2016-11-13T11:19:59.998393Z | 100.0 Hz, 120001 samples\n"
     ]
    }
   ],
   "source": [
    "st = client.get_waveforms(\n",
    "    network=\"NZ\", station=\"FOZ\", location=\"10\", channel=\"HH?\",  # Note the ? in the channel argument\n",
    "    starttime=UTCDateTime(2016, 11, 13, 11),\n",
    "    endtime=UTCDateTime(2016, 11, 13, 11, 20))\n",
    "print(st)"
   ]
  },
  {
   "cell_type": "markdown",
   "metadata": {},
   "source": [
    "Okay, lets put that all together and download 10 minutes of data for all stations within 100 km of the Kaikoura epicentre (GeoNet has it at -42.69, 173.02).\n",
    "\n",
    "To start with we can get an inventory of all the stations within 1 degree of a point using code like:"
   ]
  },
  {
   "cell_type": "code",
   "execution_count": 14,
   "metadata": {},
   "outputs": [
    {
     "name": "stdout",
     "output_type": "stream",
     "text": [
      "Inventory created at 2021-02-26T01:34:07.000000Z\n",
      "\tCreated by: Delta\n",
      "\t\t    \n",
      "\tSending institution: GeoNet (WEL(GNS_Test))\n",
      "\tContains:\n",
      "\t\tNetworks (1):\n",
      "\t\t\tNZ\n",
      "\t\tStations (226):\n",
      "\t\t\tNZ.042A (Hanmer Springs Fire Station)\n",
      "\t\t\tNZ.042B (Hanmer Springs Emergency Centre)\n",
      "\t\t\tNZ.053A (Maruia Springs Hotel)\n",
      "\t\t\tNZ.060A (Cheviot Post Office)\n",
      "\t\t\tNZ.060B (Cheviot Police Station)\n",
      "\t\t\tNZ.060C (Cheviot Emergency Centre)\n",
      "\t\t\tNZ.097A (Springs Junction Fire Station)\n",
      "\t\t\tNZ.103A (Springs Junction Ranger Station)\n",
      "\t\t\tNZ.103B (Springs Junction Ranger Station)\n",
      "\t\t\tNZ.256A (Maruia Springs Hotel)\n",
      "\t\t\tNZ.270A (Kaikoura Telephone Exchange)\n",
      "\t\t\tNZ.270B (Kaikoura Marine Laboratory)\n",
      "\t\t\tNZ.271A (Hanmer Springs Fire Station)\n",
      "\t\t\tNZ.273A (Christchurch Arts Centre)\n",
      "\t\t\tNZ.274A (Canterbury University Engineering School)\n",
      "\t\t\tNZ.275A (Christchurch International Airport)\n",
      "\t\t\tNZ.276A (Cheviot Post Office)\n",
      "\t\t\tNZ.501A (Christchurch Police Station A)\n",
      "\t\t\tNZ.501B (Christchurch Police Station B)\n",
      "\t\t\tNZ.501C (Christchurch Police Station C)\n",
      "\t\t\tNZ.501D (Christchurch Police Station D)\n",
      "\t\t\tNZ.502A (Christchurch Cant. Univ. Arts Block A)\n",
      "\t\t\tNZ.502B (Christchurch Cant. Univ. Arts Block B)\n",
      "\t\t\tNZ.502C (Christchurch Cant. Univ. Arts Block C)\n",
      "\t\t\tNZ.502D (Christchurch Cant. Univ. Arts Block D)\n",
      "\t\t\tNZ.503A (Christchurch Canterbury Savings Bank A)\n",
      "\t\t\tNZ.503B (Christchurch Canterbury Savings Bank B)\n",
      "\t\t\tNZ.503C (Christchurch Canterbury Savings Bank C)\n",
      "\t\t\tNZ.503E (Canterbury WestPacTrust (basement))\n",
      "\t\t\tNZ.AC1A (Acheron #1)\n",
      "\t\t\tNZ.AC2A (Acheron #2)\n",
      "\t\t\tNZ.AC3A (Acheron #3)\n",
      "\t\t\tNZ.AC4A (Acheron #4)\n",
      "\t\t\tNZ.AC5A (Acheron #5)\n",
      "\t\t\tNZ.AHAA (Ahaura)\n",
      "\t\t\tNZ.ALM (Alma RATS)\n",
      "\t\t\tNZ.AMBC (Amberley HDC)\n",
      "\t\t\tNZ.AMCZ (Amberley)\n",
      "\t\t\tNZ.APSZ (Arthur's Pass-Klondyke)\n",
      "\t\t\tNZ.ASHS (Ashley School)\n",
      "\t\t\tNZ.BWHS (Burwood Hospital)\n",
      "\t\t\tNZ.CACC (Christchurch Arts Centre)\n",
      "\t\t\tNZ.CACS (Christchurch Canterbury Aero Club)\n",
      "\t\t\tNZ.CASM (Castle River)\n",
      "\t\t\tNZ.CBGS (Christchurch Botanic Gardens)\n",
      "\t\t\tNZ.CBLB (Canterbury University Business & Law Building CBLB)\n",
      "\t\t\tNZ.CCAC (Christchurch Cathedral Annex)\n",
      "\t\t\tNZ.CCBC (Christchurch Bus Exchange)\n",
      "\t\t\tNZ.CCCC (Christchurch Cathedral College)\n",
      "\t\t\tNZ.CCH1 (Ohoka)\n",
      "\t\t\tNZ.CCH2 (Burnt Hill)\n",
      "\t\t\tNZ.CCMB (Christchurch Civil Mechanical Building Array)\n",
      "\t\t\tNZ.CCPS (Christchurch Police Station)\n",
      "\t\t\tNZ.CCSC (AMI Stadium)\n",
      "\t\t\tNZ.CECS (Cheviot Emergency Centre)\n",
      "\t\t\tNZ.CGTC (Christchurch Gondola Top Terminal)\n",
      "\t\t\tNZ.CHHC (Christchurch Hospital)\n",
      "\t\t\tNZ.CHR (Christchurch)\n",
      "\t\t\tNZ.CJHB (Canterbury James Hight Building Array)\n",
      "\t\t\tNZ.CLAM (Clarence)\n",
      "\t\t\tNZ.CMHS (Christchurch Cashmere High School)\n",
      "\t\t\tNZ.CMZ (Cashmere)\n",
      "\t\t\tNZ.CONM (Conway River)\n",
      "\t\t\tNZ.CPIB (Christchurch Polytechnic Institute of Technology)\n",
      "\t\t\tNZ.CPXB (Canterbury University Physics Department)\n",
      "\t\t\tNZ.CRI (Crimea RATS)\n",
      "\t\t\tNZ.CRLZ (Canterbury Ring Laser)\n",
      "\t\t\tNZ.CRSZ (Clarence River Middle Hill)\n",
      "\t\t\tNZ.CSTC (Cust School)\n",
      "\t\t\tNZ.CTND (Courtenay)\n",
      "\t\t\tNZ.CULC (Culverden Airlie Farm)\n",
      "\t\t\tNZ.CWHB (Christchurch Womens Hospital Building Array)\n",
      "\t\t\tNZ.D03C (Governors Bay)\n",
      "\t\t\tNZ.D04C (165 Gayhurst Road)\n",
      "\t\t\tNZ.D05C (Opus Building, 1st Floor)\n",
      "\t\t\tNZ.D06C (Opus Building, Ground Floor)\n",
      "\t\t\tNZ.D07C (72 Gayhurst Road)\n",
      "\t\t\tNZ.D08C (5th Floor Christchurch Police Stn.)\n",
      "\t\t\tNZ.D09C (Basement of Christchurch Police Station)\n",
      "\t\t\tNZ.D10C (13th Floor Christchurch Police)\n",
      "\t\t\tNZ.D13C (Sign of the Kiwi)\n",
      "\t\t\tNZ.D14C (Kennedy Bush Reserve)\n",
      "\t\t\tNZ.D15C (Summit Road)\n",
      "\t\t\tNZ.DALS (Dallington)\n",
      "\t\t\tNZ.DAR2 (Issac Road)\n",
      "\t\t\tNZ.DAR5 (Waterholes Road)\n",
      "\t\t\tNZ.DB2C (Temporary Strong Motion Install - Eyrewell)\n",
      "\t\t\tNZ.DHSS (Diamond Harbour School)\n",
      "\t\t\tNZ.DLX (Springfield Dale)\n",
      "\t\t\tNZ.EYCZ (Eyrewell)\n",
      "\t\t\tNZ.EYRS (Eyrewell Observatory)\n",
      "\t\t\tNZ.FMBC (Ferrymead Bridge)\n",
      "\t\t\tNZ.FOW (Fowlers)\n",
      "\t\t\tNZ.GLE (Glenmuick)\n",
      "\t\t\tNZ.GLOR (Gloria)\n",
      "\t\t\tNZ.GLWS (Glynn Wye)\n",
      "\t\t\tNZ.GODS (Godley Drive)\n",
      "\t\t\tNZ.GOHM (Goat Hill)\n",
      "\t\t\tNZ.GR1A (Grey #1)\n",
      "\t\t\tNZ.GR2A (Grey #2)\n",
      "\t\t\tNZ.GR3A (Grey #3)\n",
      "\t\t\tNZ.GR4A (Grey #4)\n",
      "\t\t\tNZ.GR5A (Grey #5)\n",
      "\t\t\tNZ.GSXX (Glenlee Station Short Period)\n",
      "\t\t\tNZ.GUY (Lake Guyon)\n",
      "\t\t\tNZ.GVZ (Greta Valley)\n",
      "\t\t\tNZ.HALS (Halswell School)\n",
      "\t\t\tNZ.HAN (Hanmer Springs)\n",
      "\t\t\tNZ.HHSS (Hillmorton High School)\n",
      "\t\t\tNZ.HPSC (Hulverstone Drive Pumping Station)\n",
      "\t\t\tNZ.HPSZ (Haupiri)\n",
      "\t\t\tNZ.HSES (Hanmer Springs Emergency Centre)\n",
      "\t\t\tNZ.HUNS (Huntsbury)\n",
      "\t\t\tNZ.HVSC (Heathcote Valley Primary School)\n",
      "\t\t\tNZ.ISIM (Isis Stream)\n",
      "\t\t\tNZ.ISOM (Isolated Hill)\n",
      "\t\t\tNZ.JOPM (Jollies Pass)\n",
      "\t\t\tNZ.JSCB (Christchurch Jervios Street Building Array)\n",
      "\t\t\tNZ.KAHA (Kahutara)\n",
      "\t\t\tNZ.KAIT (Kaikoura)\n",
      "\t\t\tNZ.KHZ (Kahutara)\n",
      "\t\t\tNZ.KIKS (Kaikoura)\n",
      "\t\t\tNZ.KILS (Kilmore St Christchurch)\n",
      "\t\t\tNZ.KKY (Kaikoura West)\n",
      "\t\t\tNZ.KKZ (Kaikoura)\n",
      "\t\t\tNZ.KPOC (Kaiapoi North School)\n",
      "\t\t\tNZ.KRU (Mount Kruse)\n",
      "\t\t\tNZ.LATA (Lake Taylor)\n",
      "\t\t\tNZ.LCQC (Lyttelton Port Cashin Quay)\n",
      "\t\t\tNZ.LEAM (Leatham)\n",
      "\t\t\tNZ.LOKS (Mount Lookout)\n",
      "\t\t\tNZ.LPCC (Lyttelton Port Company)\n",
      "\t\t\tNZ.LPDS (Lyttelton Port)\n",
      "\t\t\tNZ.LPOC (Lyttelton Port Oil Wharf)\n",
      "\t\t\tNZ.LSRC (Lake Sumner Road)\n",
      "\t\t\tNZ.LTZ (Lake Taylor Station)\n",
      "\t\t\tNZ.LYLM (Lyndon Lea)\n",
      "\t\t\tNZ.MAL (Maling Pass)\n",
      "\t\t\tNZ.MARA (Maruia)\n",
      "\t\t\tNZ.MENS (Menlo Terrace Mount Pleasant Christchurch)\n",
      "\t\t\tNZ.MNSD (Miners Road)\n",
      "\t\t\tNZ.MNZS (Menzies Bay Banks Peninsula)\n",
      "\t\t\tNZ.MOLM (Molesworth)\n",
      "\t\t\tNZ.MOLS (Molesworth Station)\n",
      "\t\t\tNZ.MORS (Moorhouse Ave Christchurch)\n",
      "\t\t\tNZ.MPSS (Mairehau Primary School)\n",
      "\t\t\tNZ.MRSS (Merrin School Christchurch)\n",
      "\t\t\tNZ.MS07 (North of Awatere Valley Road)\n",
      "\t\t\tNZ.MS08 (Clarence)\n",
      "\t\t\tNZ.MS10 (Guide River)\n",
      "\t\t\tNZ.MS11 (Opera Range)\n",
      "\t\t\tNZ.MS12 (Leslie Hills)\n",
      "\t\t\tNZ.MS15 (Parnassus)\n",
      "\t\t\tNZ.MS23 (North of Murchison)\n",
      "\t\t\tNZ.MS25 (Ella Range)\n",
      "\t\t\tNZ.MS28 (West of Springs Junction)\n",
      "\t\t\tNZ.MSHC (Marshland)\n",
      "\t\t\tNZ.MTPS (Mount Pleasant)\n",
      "\t\t\tNZ.MTTA (Mount Thomas)\n",
      "\t\t\tNZ.NBLC (New Brighton Library)\n",
      "\t\t\tNZ.NMCM (No Man's Creek)\n",
      "\t\t\tNZ.NNBS (Rawhiti School)\n",
      "\t\t\tNZ.OHSS (Ouruhia School)\n",
      "\t\t\tNZ.OPWS (Opawa School)\n",
      "\t\t\tNZ.OXZ (Oxford)\n",
      "\t\t\tNZ.PARS (Panorama Road)\n",
      "\t\t\tNZ.POLA (Poulter River)\n",
      "\t\t\tNZ.PPHS (Christchurch Papanui High School)\n",
      "\t\t\tNZ.PRPC (Pages Road Pumping Station)\n",
      "\t\t\tNZ.PUHM (Puhi Puhi River)\n",
      "\t\t\tNZ.PURC (Purau)\n",
      "\t\t\tNZ.RCBS (Redcliffs Borehole)\n",
      "\t\t\tNZ.RCHC (Richmond Hill)\n",
      "\t\t\tNZ.REHS (Christchurch Resthaven)\n",
      "\t\t\tNZ.RHBS (Richmond Hill)\n",
      "\t\t\tNZ.RHSC (Riccarton High School)\n",
      "\t\t\tNZ.RTY (Rotoiti)\n",
      "\t\t\tNZ.SACS (St Andrews College Christchurch)\n",
      "\t\t\tNZ.SAN (Sandy Stream RATS)\n",
      "\t\t\tNZ.SCAC (Scargill)\n",
      "\t\t\tNZ.SDOC (Somerset Drive Oxford)\n",
      "\t\t\tNZ.SEY (Seymour RATS)\n",
      "\t\t\tNZ.SHLC (Shirley Library)\n",
      "\t\t\tNZ.SJFS (Springs Junction Fire Station)\n",
      "\t\t\tNZ.SM1F (Muller Station Strong Motion)\n",
      "\t\t\tNZ.SM2F (Gladstone Station Strong Motion)\n",
      "\t\t\tNZ.SMHS (Summerhill)\n",
      "\t\t\tNZ.SMTC (Styx Mill Transfer Station)\n",
      "\t\t\tNZ.SPCM (Serpentine Creek)\n",
      "\t\t\tNZ.SR043 (North of Murchison)\n",
      "\t\t\tNZ.SR044 (Waihopai Valley)\n",
      "\t\t\tNZ.SR046 (Raglan Range)\n",
      "\t\t\tNZ.SR050 (Spenser Mountains)\n",
      "\t\t\tNZ.SR051 (St. James Range)\n",
      "\t\t\tNZ.SR052 (West of Seaward Kaikoura range)\n",
      "\t\t\tNZ.SR055 (South of Lake Christabel)\n",
      "\t\t\tNZ.SR056 (Hanmer Springs)\n",
      "\t\t\tNZ.SR057 (Glynn Wye Range)\n",
      "\t\t\tNZ.SR058 (Leader Road / Northeast of Waiau)\n",
      "\t\t\tNZ.SR060 (Poulter Range)\n",
      "\t\t\tNZ.SR063 (Waimakariri River)\n",
      "\t\t\tNZ.SR083 (Northwest of Lees Valley)\n",
      "\t\t\tNZ.SR095 (Glentui)\n",
      "\t\t\tNZ.SRWM (St. Ronan's Well)\n",
      "\t\t\tNZ.SS045 (Matakitaki Station)\n",
      "\t\t\tNZ.SS054 (Haupiri)\n",
      "\t\t\tNZ.STAS (St Albans Christchurch)\n",
      "\t\t\tNZ.STJ (St. James RATS)\n",
      "\t\t\tNZ.STKS (Sign of the Kiwi)\n",
      "\t\t\tNZ.SUMS (Sumner)\n",
      "\t\t\tNZ.SUMT (Christchurch)\n",
      "\t\t\tNZ.SWNC (Swannanoa School)\n",
      "\t\t\tNZ.TEN (Tennyson RATS)\n",
      "\t\t\tNZ.TENS (Lake Tennyson)\n",
      "\t\t\tNZ.THZ (Top House)\n",
      "\t\t\tNZ.TOPA (Tophouse (SAPSE))\n",
      "\t\t\tNZ.TPLC (Templeton School)\n",
      "\t\t\tNZ.TRAB (Tunnel Road Rail Overpass)\n",
      "\t\t\tNZ.TRN (Tarndale)\n",
      "\t\t\tNZ.TROB (Tunnel Road Road Overpass)\n",
      "\t\t\tNZ.WAKC (Waikari)\n",
      "\t\t\tNZ.WAU (Waiau River)\n",
      "\t\t\tNZ.WHSC (Wharenui School)\n",
      "\t\t\tNZ.WIGC (Waiau Gorge)\n",
      "\t\t\tNZ.WTMC (Te Mara Farm Waiau)\n",
      "\t\t\tNZ.YARM (Yarra River)\n",
      "\t\tChannels (0):\n",
      "\n"
     ]
    },
    {
     "name": "stderr",
     "output_type": "stream",
     "text": [
      "/home/calumch/miniconda3/envs/conda_38/lib/python3.8/site-packages/obspy/io/stationxml/core.py:96: UserWarning: The StationXML file has version 1, ObsPy can read versions (1.0, 1.1). Proceed with caution.\n",
      "  warnings.warn(\"The StationXML file has version %s, ObsPy can \"\n"
     ]
    }
   ],
   "source": [
    "inv = client.get_stations(latitude=-42.69, longitude=173.02, maxradius=1, level=\"station\")\n",
    "print(inv)"
   ]
  },
  {
   "cell_type": "markdown",
   "metadata": {},
   "source": [
    "That is quite a lot of stations! Lets just restrict ourselves to broadband instruments with channels `HH?`:"
   ]
  },
  {
   "cell_type": "code",
   "execution_count": 15,
   "metadata": {},
   "outputs": [
    {
     "name": "stdout",
     "output_type": "stream",
     "text": [
      "Inventory created at 2021-02-26T01:34:07.000000Z\n",
      "\tCreated by: Delta\n",
      "\t\t    \n",
      "\tSending institution: GeoNet (WEL(GNS_Test))\n",
      "\tContains:\n",
      "\t\tNetworks (1):\n",
      "\t\t\tNZ\n",
      "\t\tStations (13):\n",
      "\t\t\tNZ.AC1A (Acheron #1)\n",
      "\t\t\tNZ.AC2A (Acheron #2)\n",
      "\t\t\tNZ.AC3A (Acheron #3)\n",
      "\t\t\tNZ.AC5A (Acheron #5)\n",
      "\t\t\tNZ.GR1A (Grey #1)\n",
      "\t\t\tNZ.GR2A (Grey #2)\n",
      "\t\t\tNZ.GR3A (Grey #3)\n",
      "\t\t\tNZ.GR5A (Grey #5)\n",
      "\t\t\tNZ.GVZ (Greta Valley)\n",
      "\t\t\tNZ.KHZ (Kahutara)\n",
      "\t\t\tNZ.LTZ (Lake Taylor Station)\n",
      "\t\t\tNZ.OXZ (Oxford)\n",
      "\t\t\tNZ.THZ (Top House)\n",
      "\t\tChannels (0):\n",
      "\n"
     ]
    },
    {
     "name": "stderr",
     "output_type": "stream",
     "text": [
      "/home/calumch/miniconda3/envs/conda_38/lib/python3.8/site-packages/obspy/io/stationxml/core.py:96: UserWarning: The StationXML file has version 1, ObsPy can read versions (1.0, 1.1). Proceed with caution.\n",
      "  warnings.warn(\"The StationXML file has version %s, ObsPy can \"\n"
     ]
    }
   ],
   "source": [
    "inv = client.get_stations(latitude=-42.69, longitude=173.02, maxradius=1, level=\"station\", channel=\"HH?\")\n",
    "print(inv)"
   ]
  },
  {
   "cell_type": "markdown",
   "metadata": {},
   "source": [
    "It turns out this includes stations operating not within the time period we are interested in (around Kaikoura), we can specify another couple of arguments, `startbefore` and `endafter` to make sure that we only get stations that should have data when we want it.  I'm going to set a starttime and endtime variable that we can use later as well:"
   ]
  },
  {
   "cell_type": "code",
   "execution_count": 16,
   "metadata": {},
   "outputs": [
    {
     "name": "stdout",
     "output_type": "stream",
     "text": [
      "Inventory created at 2021-02-26T01:34:07.000000Z\n",
      "\tCreated by: Delta\n",
      "\t\t    \n",
      "\tSending institution: GeoNet (WEL(GNS_Test))\n",
      "\tContains:\n",
      "\t\tNetworks (1):\n",
      "\t\t\tNZ\n",
      "\t\tStations (4):\n",
      "\t\t\tNZ.GVZ (Greta Valley)\n",
      "\t\t\tNZ.KHZ (Kahutara)\n",
      "\t\t\tNZ.LTZ (Lake Taylor Station)\n",
      "\t\t\tNZ.THZ (Top House)\n",
      "\t\tChannels (0):\n",
      "\n"
     ]
    },
    {
     "name": "stderr",
     "output_type": "stream",
     "text": [
      "/home/calumch/miniconda3/envs/conda_38/lib/python3.8/site-packages/obspy/io/stationxml/core.py:96: UserWarning: The StationXML file has version 1, ObsPy can read versions (1.0, 1.1). Proceed with caution.\n",
      "  warnings.warn(\"The StationXML file has version %s, ObsPy can \"\n"
     ]
    }
   ],
   "source": [
    "starttime = UTCDateTime(2016, 11, 13, 11)\n",
    "endtime = starttime + 10 * 60\n",
    "\n",
    "inv = client.get_stations(\n",
    "    latitude=-42.29, longitude=173.02, maxradius=1, level=\"station\", channel=\"HH?\",\n",
    "    startbefore=starttime, endafter=endtime)\n",
    "print(inv)"
   ]
  },
  {
   "cell_type": "markdown",
   "metadata": {},
   "source": [
    "Okay, now we know what stations we want we can download them - we can use a loop for this!\n",
    "\n",
    "We will start with an empty `Stream` and add to it:"
   ]
  },
  {
   "cell_type": "code",
   "execution_count": 17,
   "metadata": {},
   "outputs": [
    {
     "data": {
      "application/vnd.jupyter.widget-view+json": {
       "model_id": "5fc101c87ea242d986cba3a51c07bfb2",
       "version_major": 2,
       "version_minor": 0
      },
      "text/plain": [
       "Canvas(toolbar=Toolbar(toolitems=[('Home', 'Reset original view', 'home', 'home'), ('Back', 'Back to previous …"
      ]
     },
     "metadata": {},
     "output_type": "display_data"
    }
   ],
   "source": [
    "from obspy import Stream\n",
    "\n",
    "st = Stream()\n",
    "for network in inv:  # The first level of the inventory hierachy\n",
    "    for station in network:  # The second level of the inventory hierachy\n",
    "        st += client.get_waveforms(\n",
    "            network=network.code, station=station.code, location=\"*\", channel=\"HH?\",\n",
    "            starttime=starttime, endtime=endtime)\n",
    "fig = plt.figure()\n",
    "_ = st.plot(fig=fig, show=False)"
   ]
  },
  {
   "cell_type": "markdown",
   "metadata": {},
   "source": [
    "Cool! Those waveforms look horrible - who knows what is going on here?\n",
    "\n",
    "\n",
    "---\n",
    "## Metadata\n",
    "\n",
    "`Trace` objects contain not only the data, but also some useful metadata that explain the seismic data.  These are contained within the `trace.stats` attribute.  Lets look at one now:"
   ]
  },
  {
   "cell_type": "code",
   "execution_count": 18,
   "metadata": {},
   "outputs": [
    {
     "name": "stdout",
     "output_type": "stream",
     "text": [
      "               network: NZ\n",
      "               station: GVZ\n",
      "              location: 10\n",
      "               channel: HHE\n",
      "             starttime: 2016-11-13T10:59:59.998393Z\n",
      "               endtime: 2016-11-13T11:09:59.998393Z\n",
      "         sampling_rate: 100.0\n",
      "                 delta: 0.01\n",
      "                  npts: 60001\n",
      "                 calib: 1.0\n",
      "_fdsnws_dataselect_url: http://service.geonet.org.nz/fdsnws/dataselect/1/query\n",
      "               _format: MSEED\n",
      "                 mseed: AttribDict({'dataquality': 'D', 'number_of_records': 388, 'encoding': 'STEIM2', 'byteorder': '>', 'record_length': 512, 'filesize': 587776})\n",
      "            processing: ['ObsPy 1.2.2: trim(endtime=UTCDateTime(2016, 11, 13, 11, 9, 59, 998393)::fill_value=None::nearest_sample=True::pad=False::starttime=UTCDateTime(2016, 11, 13, 10, 59, 59, 998393))']\n"
     ]
    }
   ],
   "source": [
    "print(st[0].stats)"
   ]
  },
  {
   "cell_type": "markdown",
   "metadata": {},
   "source": [
    "This tells us lots of useful information - the sampling rate, and sampling interval, the naming used for the station, the start and end time of the trace, and some information about how the data were processed and retrieved from the FDSN client."
   ]
  },
  {
   "cell_type": "markdown",
   "metadata": {},
   "source": [
    "## Getting data for an event\n",
    "\n",
    "So we just downloaded data for one event - we could to this for any event, but the best way to do this is probably going to be using a function.\n",
    "\n",
    "To start with, the things that we needed were the location of the event, and the time of the event.  We can get that from the `Event` downloaded from the FDSN:"
   ]
  },
  {
   "cell_type": "code",
   "execution_count": 19,
   "metadata": {},
   "outputs": [
    {
     "name": "stdout",
     "output_type": "stream",
     "text": [
      "Origin\n",
      "\t        resource_id: ResourceIdentifier(id=\"smi:nz.org.geonet/Origin#20161116052725.210418.52361\")\n",
      "\t               time: UTCDateTime(2016, 11, 13, 11, 2, 56, 346094) [confidence_level=89.99999762, uncertainty=0.3114605068]\n",
      "\t          longitude: 173.0221405 [confidence_level=89.99999762, uncertainty=3.42338418]\n",
      "\t           latitude: -42.6925354 [confidence_level=89.99999762, uncertainty=2.342521173]\n",
      "\t              depth: 15114.45332 [confidence_level=89.99999762, uncertainty=3593.426501]\n",
      "\t          method_id: ResourceIdentifier(id=\"smi:nz.org.geonet/LOCSAT\")\n",
      "\t     earth_model_id: ResourceIdentifier(id=\"smi:nz.org.geonet/iasp91\")\n",
      "\t            quality: OriginQuality(associated_phase_count=189, used_phase_count=94, associated_station_count=186, used_station_count=93, depth_phase_count=0, standard_error=1.822964596, azimuthal_gap=54.98503113, minimum_distance=0.2205573916, maximum_distance=7.640860558, median_distance=5.064006805)\n",
      "\t origin_uncertainty: OriginUncertainty(horizontal_uncertainty=4.148127853, min_horizontal_uncertainty=2.295905102, max_horizontal_uncertainty=4.900735327, azimuth_max_horizontal_uncertainty=117.76848, confidence_ellipsoid=ConfidenceEllipsoid(semi_major_axis_length=5806.280674, semi_minor_axis_length=2176.32321, semi_intermediate_axis_length=5580.753463, major_axis_plunge=39.01032404, major_axis_azimuth=104.0362728, major_axis_rotation=162.7341686), preferred_description='confidence ellipsoid')\n",
      "\t    evaluation_mode: 'manual'\n",
      "\t  evaluation_status: 'confirmed'\n",
      "\t      creation_info: CreationInfo(agency_id='WEL(GNS_Primary)', author='annak@akeqx01.geonet.org.nz', creation_time=UTCDateTime(2016, 11, 16, 5, 27, 25, 210520))\n",
      "\t               ---------\n",
      "\t           arrivals: 189 Elements\n"
     ]
    }
   ],
   "source": [
    "cat = client.get_events(eventid=\"2016p858000\")\n",
    "event = cat[0]  # A catalog is just a list of events with a few handy methods on top\n",
    "\n",
    "origin = event.preferred_origin()  # an event can contain multiple origins, but one is usually set as the best\n",
    "print(origin)"
   ]
  },
  {
   "cell_type": "markdown",
   "metadata": {},
   "source": [
    "You will see that there is lots of information in there, but crucially there is also `time`, `longitude` and `latitude`, that we need to specify the region and start and end time of our downloaded data.\n",
    "\n",
    "Try making a function that takes an event-id, a `Client` and a radius and downloads the broadband stations for that event.  I have started writing some psuedo-code below for you:"
   ]
  },
  {
   "cell_type": "code",
   "execution_count": 20,
   "metadata": {},
   "outputs": [],
   "source": [
    "def get_data_for_event(event_id, client, maxradius, duration):\n",
    "    \"\"\"\n",
    "    Get data for broadband stations within maxradius of an event.\n",
    "    \n",
    "    Parameters\n",
    "    ----------\n",
    "    event_id\n",
    "        event-id to get data for\n",
    "    client\n",
    "        FDSN client to get data from\n",
    "    maxradius\n",
    "        Maximum radius to get stations for in degrees\n",
    "    duration\n",
    "        Duration to download in seconds\n",
    "        \n",
    "    Returns\n",
    "    -------\n",
    "    stream\n",
    "    \"\"\"\n",
    "    # Download the event of interest\n",
    "    \n",
    "    # Get the stations within maxradius of the event origin and operational during the time window of interest\n",
    "    # inv = client.get_stations\n",
    "    \n",
    "    # Download the waveforms for those stations\n",
    "    st = Stream()\n",
    "    #for network in inv:\n",
    "    #    for station in network:\n",
    "    \n",
    "    # Return the Stream!\n",
    "    return st"
   ]
  },
  {
   "cell_type": "markdown",
   "metadata": {},
   "source": [
    "## A quick look at frequency content\n",
    "\n",
    "Obspy also has a nice way to look at the frequency content of waveforms.  We can plot a waveforms [spectrogram](https://docs.obspy.org/tutorial/code_snippets/plotting_spectrograms.html) fairly simply:"
   ]
  },
  {
   "cell_type": "code",
   "execution_count": 21,
   "metadata": {},
   "outputs": [
    {
     "data": {
      "application/vnd.jupyter.widget-view+json": {
       "model_id": "fc3ba9cf899b4e5aac5d78c2f8c51560",
       "version_major": 2,
       "version_minor": 0
      },
      "text/plain": [
       "Canvas(toolbar=Toolbar(toolitems=[('Home', 'Reset original view', 'home', 'home'), ('Back', 'Back to previous …"
      ]
     },
     "metadata": {},
     "output_type": "display_data"
    }
   ],
   "source": [
    "st = client.get_waveforms(\n",
    "    network=\"NZ\", station=\"FOZ\", location=\"10\", channel=\"HHZ\",\n",
    "    starttime=UTCDateTime(2014, 11, 1),\n",
    "    endtime=UTCDateTime(2014, 11, 1, 1))\n",
    "fig, ax = plt.subplots()\n",
    "_ = st.spectrogram(log=True, axes=ax, show=False)"
   ]
  },
  {
   "cell_type": "markdown",
   "metadata": {},
   "source": [
    "What this is showing us is the power in each frequency band (along the y-axis) for every few samples in time (along the x-axis).  We will talk more about this in the lab on Fourier Analysis. For now, you need to know that warmer colours indicate more power - this station has most of it's power below 1 Hz, which is common for a period dominated by seismic noise. \n",
    "\n",
    "Lets compare that to when there was an earthquake nearby the site:"
   ]
  },
  {
   "cell_type": "code",
   "execution_count": 23,
   "metadata": {},
   "outputs": [
    {
     "data": {
      "application/vnd.jupyter.widget-view+json": {
       "model_id": "d5025f1ff90444b3b23b702b7eba5e23",
       "version_major": 2,
       "version_minor": 0
      },
      "text/plain": [
       "Canvas(toolbar=Toolbar(toolitems=[('Home', 'Reset original view', 'home', 'home'), ('Back', 'Back to previous …"
      ]
     },
     "metadata": {},
     "output_type": "display_data"
    }
   ],
   "source": [
    "st = client.get_waveforms(\n",
    "    network=\"NZ\", station=\"FOZ\", location=\"11\", channel=\"HHZ\",  # Location code changed for FOZ.\n",
    "    starttime=UTCDateTime(2021, 2, 2, 13, 30),\n",
    "    endtime=UTCDateTime(2021, 2, 2, 14))\n",
    "fig, ax = plt.subplots()\n",
    "_ = st.spectrogram(log=True, axes=ax, show=False)"
   ]
  },
  {
   "cell_type": "markdown",
   "metadata": {},
   "source": [
    "You should just be able to make out a little bright patch around x=850 around 10 Hz - that is the earthquake! Try zooming in to get a better look at that peak.\n",
    "\n",
    "Earthquakes generally start off emitting a broad range of frequencies, including much higher frequencies than noise.  Higher frequencies attenuate faster, so we don't usually record frequencies above 20 Hz for earthquakes recorded beyond a few km away.\n",
    "\n",
    "Try downloading some data that you are interested in and looking at the spectrogram - volcanoes produce some interesting frequencies!"
   ]
  },
  {
   "cell_type": "code",
   "execution_count": 24,
   "metadata": {},
   "outputs": [],
   "source": [
    "# Your code here"
   ]
  },
  {
   "cell_type": "markdown",
   "metadata": {},
   "source": [
    "---\n",
    "## Reading local data\n",
    "\n",
    "We will mostly work with GeoNet data in this course, but you can also read local data in ObsPy.  If you reach this point and Calum has not provided you with a data file - badger him for some data!\n",
    "\n",
    "You can read most common seismological data formats in ObsPy just by running:\n",
    "```python\n",
    "from obspy import read\n",
    "\n",
    "st = read(\"filename\")\n",
    "```\n",
    "where filename is the name of the file you want to read (the full-path!). \n",
    "\n",
    "Try this now with some data that Calum provides, and plot the data and the spectrogram:"
   ]
  },
  {
   "cell_type": "code",
   "execution_count": 25,
   "metadata": {},
   "outputs": [],
   "source": [
    "# Read some local data!"
   ]
  },
  {
   "cell_type": "markdown",
   "metadata": {},
   "source": [
    "---\n",
    "## Basic processing\n",
    "\n",
    "We will spend more time on the theory of signal processing next time, but I want to introduce two things here:\n",
    "1. Filtering\n",
    "2. Resampling and decimating\n",
    "\n",
    "We saw that there was a lot of low frequency noise in our spectrograms. We can filter that out fairly easily in ObsPy with a highpass/lowcut filter. Remember that:\n",
    "- \"bandpass\" filters retain frequencies *within* a frequency range;\n",
    "- \"lowpass\" filters retain frequencies *below* a frequency;\n",
    "- \"highpass\" filters retain frequencies *above* a frequency;\n",
    "- \"notch\" filters *remove* frequencies within a range (the opposite of bandpass).\n",
    "\n",
    "You can filter data in obspy using the `trace.filter` method - you can find more information on this [here](https://docs.obspy.org/packages/autogen/obspy.core.trace.Trace.filter.html).\n",
    "\n",
    "Lets try that with our FOZ earthquake data, with a highpass of 2 Hz:"
   ]
  },
  {
   "cell_type": "code",
   "execution_count": 27,
   "metadata": {},
   "outputs": [
    {
     "data": {
      "application/vnd.jupyter.widget-view+json": {
       "model_id": "b918485de8594d438dfe0c9ba7468e0f",
       "version_major": 2,
       "version_minor": 0
      },
      "text/plain": [
       "Canvas(toolbar=Toolbar(toolitems=[('Home', 'Reset original view', 'home', 'home'), ('Back', 'Back to previous …"
      ]
     },
     "metadata": {},
     "output_type": "display_data"
    }
   ],
   "source": [
    "st = client.get_waveforms(\n",
    "    network=\"NZ\", station=\"FOZ\", location=\"11\", channel=\"HHZ\",  # Location code changed for FOZ.\n",
    "    starttime=UTCDateTime(2021, 2, 2, 13, 30),\n",
    "    endtime=UTCDateTime(2021, 2, 2, 14))\n",
    "\n",
    "# Filter!\n",
    "st.filter(\"highpass\", freq=2.0)\n",
    "\n",
    "fig, ax = plt.subplots()\n",
    "_ = st.spectrogram(log=True, axes=ax, show=False)"
   ]
  },
  {
   "cell_type": "markdown",
   "metadata": {},
   "source": [
    "You can see that we lost the low frequency noise!\n",
    "\n",
    "Try plotting the trace/stream to see this effect in the time-domain:"
   ]
  },
  {
   "cell_type": "code",
   "execution_count": 28,
   "metadata": {},
   "outputs": [],
   "source": [
    "# Your plot here"
   ]
  },
  {
   "cell_type": "markdown",
   "metadata": {},
   "source": [
    "Try applying a bandpass to some other data of your choosing. Hint: `bandpass` requires two arguments, `freqmin` and `freqmax`."
   ]
  },
  {
   "cell_type": "code",
   "execution_count": 29,
   "metadata": {},
   "outputs": [],
   "source": [
    "# Your filter here"
   ]
  },
  {
   "cell_type": "markdown",
   "metadata": {},
   "source": [
    "## Resampling and decimating\n",
    "\n",
    "So far all the GeoNet data that we have looked at have been sampled at 100 Hz.  We can decimate these data to reduce the sampling rate by some factor, or resample (in the frequency domain) to any sampling-rate.  We might want to do this to reduce the computational load for later operations if we do not care about frequencies above some value.  We always have to be concerned about introducing artefacts when doing these operations though: aliasing is a real problem and we will talk about it more next time.\n",
    "\n",
    "For now I want to show you what this looks like:"
   ]
  },
  {
   "cell_type": "code",
   "execution_count": 31,
   "metadata": {},
   "outputs": [
    {
     "data": {
      "application/vnd.jupyter.widget-view+json": {
       "model_id": "46d7571f97ba4dc8aebcaa8ab90bb293",
       "version_major": 2,
       "version_minor": 0
      },
      "text/plain": [
       "Canvas(toolbar=Toolbar(toolitems=[('Home', 'Reset original view', 'home', 'home'), ('Back', 'Back to previous …"
      ]
     },
     "metadata": {},
     "output_type": "display_data"
    }
   ],
   "source": [
    "st = client.get_waveforms(\n",
    "    network=\"NZ\", station=\"FOZ\", location=\"11\", channel=\"HHZ\",  # Location code changed for FOZ.\n",
    "    starttime=UTCDateTime(2021, 2, 2, 13, 40),\n",
    "    endtime=UTCDateTime(2021, 2, 2, 13, 50))\n",
    "\n",
    "# Plot the raw data first\n",
    "fig = plt.figure()\n",
    "_ = st.plot(show=False, fig=fig)"
   ]
  },
  {
   "cell_type": "markdown",
   "metadata": {},
   "source": [
    "Decimation simply removes samples - it runs the real risk of aliasing, so you should filter first.  We won't here, just to see what decimation does.\n",
    "\n",
    "I will work on a copy of the data to retain the original for later:"
   ]
  },
  {
   "cell_type": "code",
   "execution_count": 32,
   "metadata": {},
   "outputs": [
    {
     "name": "stdout",
     "output_type": "stream",
     "text": [
      "1 Trace(s) in Stream:\n",
      "NZ.FOZ.11.HHZ | 2021-02-02T13:40:00.003133Z - 2021-02-02T13:50:00.003133Z | 20.0 Hz, 12001 samples\n"
     ]
    },
    {
     "data": {
      "application/vnd.jupyter.widget-view+json": {
       "model_id": "38657478f832400aa0d4d79046c3dcf9",
       "version_major": 2,
       "version_minor": 0
      },
      "text/plain": [
       "Canvas(toolbar=Toolbar(toolitems=[('Home', 'Reset original view', 'home', 'home'), ('Back', 'Back to previous …"
      ]
     },
     "metadata": {},
     "output_type": "display_data"
    }
   ],
   "source": [
    "decimated = st.copy()\n",
    "decimated.decimate(5)\n",
    "print(decimated)\n",
    "fig = plt.figure()\n",
    "_ = decimated.plot(show=False, fig=fig)"
   ]
  },
  {
   "cell_type": "markdown",
   "metadata": {},
   "source": [
    "That isn't very nice - we lost the high amplitude spike of the earthquake! This decimation only retains every fifth sample, it so happened that the high amplitude sample wasn't one of those retained... Not the best way to reduce sampling rate?\n",
    "\n",
    "How about resampling in the frequency domain:"
   ]
  },
  {
   "cell_type": "code",
   "execution_count": 33,
   "metadata": {},
   "outputs": [
    {
     "name": "stdout",
     "output_type": "stream",
     "text": [
      "1 Trace(s) in Stream:\n",
      "NZ.FOZ.11.HHZ | 2021-02-02T13:40:00.003133Z - 2021-02-02T13:49:59.953133Z | 20.0 Hz, 12000 samples\n"
     ]
    },
    {
     "data": {
      "application/vnd.jupyter.widget-view+json": {
       "model_id": "703fbd1a55d642c58478e231ab09b184",
       "version_major": 2,
       "version_minor": 0
      },
      "text/plain": [
       "Canvas(toolbar=Toolbar(toolitems=[('Home', 'Reset original view', 'home', 'home'), ('Back', 'Back to previous …"
      ]
     },
     "metadata": {},
     "output_type": "display_data"
    }
   ],
   "source": [
    "resampled = st.copy()\n",
    "resampled.resample(20)  # Provide the desired sampling rate\n",
    "print(resampled)\n",
    "fig = plt.figure()\n",
    "_ = resampled.plot(show=False, fig=fig)"
   ]
  },
  {
   "cell_type": "markdown",
   "metadata": {},
   "source": [
    "That looks much better - there are more issues here that we will talk about next time, and better ways to resample (using the sinc interpolator!).  That is it for now.\n",
    "\n",
    "Your final exercise is to:\n",
    "1. Download data for stations within 1 degree of GeoNet event [2020p666015](https://www.geonet.org.nz/earthquake/2020p666015), around the event time (use your function)\n",
    "2. Filter the data between 1 and 20 Hz\n",
    "3. Resample the data to a 50 Hz sampling rate\n",
    "4. Plot the data\n",
    "5. Plot the spectrogram\n",
    "6. Compare the frequency content at each station qualitatively."
   ]
  },
  {
   "cell_type": "code",
   "execution_count": null,
   "metadata": {},
   "outputs": [],
   "source": []
  }
 ],
 "metadata": {
  "kernelspec": {
   "display_name": "Python 3",
   "language": "python",
   "name": "python3"
  },
  "language_info": {
   "codemirror_mode": {
    "name": "ipython",
    "version": 3
   },
   "file_extension": ".py",
   "mimetype": "text/x-python",
   "name": "python",
   "nbconvert_exporter": "python",
   "pygments_lexer": "ipython3",
   "version": "3.8.8"
  }
 },
 "nbformat": 4,
 "nbformat_minor": 4
}
