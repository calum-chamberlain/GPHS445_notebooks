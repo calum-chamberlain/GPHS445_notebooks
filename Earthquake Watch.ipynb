{
 "cells": [
  {
   "cell_type": "markdown",
   "metadata": {
    "editable": true,
    "slideshow": {
     "slide_type": ""
    },
    "tags": []
   },
   "source": [
    "# Earthquake Watch\n",
    "\n",
    "Three tasks:\n",
    "1. All earthquakes globally above M 4.5 in the last week;\n",
    "2. All earthquakes catalogued by GeoNet in the last week;\n",
    "3. Something cool!"
   ]
  },
  {
   "cell_type": "markdown",
   "metadata": {},
   "source": [
    "---\n",
    "## Global Earthquakes\n",
    "\n",
    "We will get these from IRIS."
   ]
  },
  {
   "cell_type": "code",
   "execution_count": null,
   "metadata": {},
   "outputs": [],
   "source": [
    "%matplotlib inline"
   ]
  },
  {
   "cell_type": "code",
   "execution_count": null,
   "metadata": {
    "editable": true,
    "slideshow": {
     "slide_type": ""
    },
    "tags": [
     "nbval-ignore-output"
    ]
   },
   "outputs": [],
   "source": [
    "from obspy import UTCDateTime\n",
    "from obspy.clients.fdsn import Client\n",
    "\n",
    "import cartopy.crs as ccrs\n",
    "import matplotlib.pyplot as plt\n",
    "from matplotlib.colors import Normalize\n",
    "import numpy as np\n",
    "\n",
    "from gphs445_utilities.animator import _blank_map"
   ]
  },
  {
   "cell_type": "code",
   "execution_count": null,
   "metadata": {
    "editable": true,
    "slideshow": {
     "slide_type": ""
    },
    "tags": [
     "nbval-ignore-output"
    ]
   },
   "outputs": [],
   "source": [
    "client = Client(\"IRIS\")\n",
    "cat = client.get_events(minmagnitude=4.5, starttime=UTCDateTime.now() - 7 * 86400)\n",
    "print(cat)"
   ]
  },
  {
   "cell_type": "code",
   "execution_count": null,
   "metadata": {
    "editable": true,
    "slideshow": {
     "slide_type": ""
    },
    "tags": [
     "nbval-ignore-output"
    ]
   },
   "outputs": [],
   "source": [
    "def plot_catalog(catalog):\n",
    "    lats, lons, depths, magnitudes, times = [], [], [], [], []\n",
    "    for eq in catalog:\n",
    "        try:\n",
    "            ori = eq.preferred_origin() or eq.origins[-1]\n",
    "        except IndexError:\n",
    "            continue\n",
    "        lats.append(ori.latitude)\n",
    "        lons.append(ori.longitude)\n",
    "        depths.append(ori.depth)\n",
    "        times.append(ori.time)\n",
    "        try:\n",
    "            mag = eq.preferred_magnitude() or eq.magnitudes[-1]\n",
    "        except IndexError:\n",
    "            mag = None\n",
    "        if mag:\n",
    "            magnitudes.append(mag.mag)\n",
    "        else:\n",
    "            magnitudes.append(0.0)\n",
    "    lats = np.array(lats)\n",
    "    lons = np.array(lons)\n",
    "    depths = np.array(depths) / 1000.0\n",
    "    magnitudes = np.array(magnitudes)\n",
    "    \n",
    "    # sort by depth\n",
    "    order = depths.argsort()\n",
    "    order = order[::-1]\n",
    "    lats = lats[order]\n",
    "    lons = lons[order]\n",
    "    depths = depths[order]\n",
    "    magnitudes = magnitudes[order]\n",
    "    \n",
    "    norm = Normalize(vmin=min(depths), vmax=max(depths))\n",
    "    cmap = plt.get_cmap(\"plasma_r\")\n",
    "    \n",
    "    lat_range = lats.max() - lats.min()\n",
    "    lon_range = lons.max() - lons.min()\n",
    "    \n",
    "    if lat_range > 30 and lon_range > 30:\n",
    "        projection = \"global\"\n",
    "        resolution = \"i\"\n",
    "        \n",
    "    elif lat_range > 15 and lon_range > 15:\n",
    "        projection = \"ortho\"\n",
    "        resolution = \"high\"\n",
    "    else:\n",
    "        projection = \"local\"\n",
    "        resolution = \"full\"\n",
    "    print(f\"Plotting in {projection}\")\n",
    "    \n",
    "    fig, map_ax, cbar_ax, cb = _blank_map(\n",
    "        lats=lats, lons=lons, color=depths, projection=projection, \n",
    "        resolution=resolution, colormap=cmap, figsize=(10, 10.5), \n",
    "        proj_kwargs=dict(), norm=norm, continent_fill_color=\"0.65\",\n",
    "        water_fill_color=\"0.9\", fig=None, map_ax=None, cm_ax=None)\n",
    "    \n",
    "    if projection != \"global\":\n",
    "        map_ax.set_extent((lons.min(), lons.max(), lats.min(), lats.max()), \n",
    "                          crs=ccrs.PlateCarree())\n",
    "    else:\n",
    "        map_ax.set_global()\n",
    "    \n",
    "    map_ax.gridlines(draw_labels=True)\n",
    "    cbar_ax.set_xlabel(\"Depths (km)\")\n",
    "    \n",
    "    scalar = 3\n",
    "    loc_artist = map_ax.scatter(\n",
    "        lons, lats, marker=\"o\", s=magnitudes ** scalar, c=depths, zorder=10, alpha=0.9,\n",
    "        cmap=cmap, transform=ccrs.PlateCarree(), rasterized=True,\n",
    "        norm=norm)\n",
    "    \n",
    "    # Add a legend\n",
    "    mag_legend = np.array([2, 3, 4, 5, 6, 7])  # Magnitudes to plot sizes for\n",
    "    mag_artist = map_ax.scatter(\n",
    "        np.zeros(len(mag_legend)) + 15, np.zeros(len(mag_legend)), marker=\"o\", s=mag_legend ** scalar,\n",
    "        c=\"k\", alpha=1.0, transform=ccrs.PlateCarree(), zorder=0)\n",
    "\n",
    "    # We can retrive the marker for that size by accessing the legend elements of the mappable\n",
    "    handles, labels = mag_artist.legend_elements(\"sizes\", num=[mag ** scalar for mag in mag_legend])\n",
    "\n",
    "    # This gives is \"handles\" (the plotted object) and \"labels\" (the text to go beside it),\n",
    "    # but the labels in this case are the square of the magnitudes we want, so we will just use\n",
    "    # the magnitudes themselves as labels.\n",
    "    labels = mag_legend.tolist()\n",
    "\n",
    "    # If you are actually plotting at the size you want to mark, you don't have to change labels!\n",
    "    map_ax.legend(handles=handles, labels=labels, title=\"Magnitude\")\n",
    "    \n",
    "    min_time = min(times)\n",
    "    max_time = max(times)\n",
    "    fig.suptitle(f\"{len(catalog)} events between {min_time} and {max_time}\")\n",
    "    return fig"
   ]
  },
  {
   "cell_type": "code",
   "execution_count": null,
   "metadata": {
    "editable": true,
    "slideshow": {
     "slide_type": ""
    },
    "tags": [
     "nbval-ignore-output"
    ]
   },
   "outputs": [],
   "source": [
    "fig = plot_catalog(cat)\n",
    "fig.savefig(\"Global_quakes.png\")\n",
    "fig.savefig(\"Global_quakes.svg\")\n",
    "mags = [eq.preferred_magnitude().mag for eq in cat]\n",
    "print(f\"Magnitudes between {min(mags)} and {max(mags)}\")"
   ]
  },
  {
   "cell_type": "markdown",
   "metadata": {},
   "source": [
    "## GeoNet earthquakes\n",
    "\n",
    "I don't like the default sizing for catalog plotting, so I'm going to hack this a little..."
   ]
  },
  {
   "cell_type": "code",
   "execution_count": null,
   "metadata": {},
   "outputs": [],
   "source": [
    "client = Client(\"GEONET\")\n",
    "cat = client.get_events(starttime=UTCDateTime.now() - 7 * 86400)"
   ]
  },
  {
   "cell_type": "code",
   "execution_count": null,
   "metadata": {
    "editable": true,
    "slideshow": {
     "slide_type": ""
    },
    "tags": [
     "nbval-ignore-output"
    ]
   },
   "outputs": [],
   "source": [
    "fig = plot_catalog(cat)\n",
    "fig.savefig(\"GeoNet_quakes.png\")\n",
    "fig.savefig(\"GeoNet_quakes.svg\")\n",
    "mags = [eq.preferred_magnitude().mag for eq in cat]\n",
    "print(f\"Magnitudes between {min(mags)} and {max(mags)}\")"
   ]
  },
  {
   "cell_type": "markdown",
   "metadata": {},
   "source": [
    "If that looks ridiculous, we can just get earthquakes close to NZ:"
   ]
  },
  {
   "cell_type": "code",
   "execution_count": null,
   "metadata": {},
   "outputs": [],
   "source": [
    "cat = client.get_events(starttime=UTCDateTime.now() - 7 * 86400, maxlatitude=-35, minlatitude=-51, maxlongitude=180)"
   ]
  },
  {
   "cell_type": "code",
   "execution_count": null,
   "metadata": {},
   "outputs": [],
   "source": [
    "fig = plot_catalog(cat)\n",
    "fig.savefig(\"NZ_quakes.png\")\n",
    "fig.savefig(\"NZ_quakes.svg\")"
   ]
  },
  {
   "cell_type": "code",
   "execution_count": null,
   "metadata": {
    "editable": true,
    "slideshow": {
     "slide_type": ""
    },
    "tags": [
     "nbval-ignore-output"
    ]
   },
   "outputs": [],
   "source": [
    "mags = [eq.preferred_magnitude().mag for eq in cat]\n",
    "print(f\"Magnitudes between {min(mags)} and {max(mags)}\")"
   ]
  },
  {
   "cell_type": "code",
   "execution_count": null,
   "metadata": {},
   "outputs": [],
   "source": []
  }
 ],
 "metadata": {
  "kernelspec": {
   "display_name": "Python 3 (ipykernel)",
   "language": "python",
   "name": "python3"
  },
  "language_info": {
   "codemirror_mode": {
    "name": "ipython",
    "version": 3
   },
   "file_extension": ".py",
   "mimetype": "text/x-python",
   "name": "python",
   "nbconvert_exporter": "python",
   "pygments_lexer": "ipython3",
   "version": "3.13.5"
  }
 },
 "nbformat": 4,
 "nbformat_minor": 4
}
