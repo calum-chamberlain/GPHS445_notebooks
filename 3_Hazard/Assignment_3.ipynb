{
 "cells": [
  {
   "cell_type": "markdown",
   "metadata": {},
   "source": [
    "# Assignment 3: Seismic Hazard\n",
    "\n",
    "## How to use this notebook:\n",
    "This notebook is broken down into 5 exercises, each of which have either one or more questions\n",
    "for you to answer. You should answer in the boxes provided.  Some questions require you to write\n",
    "code and make plots, include these in the code boxes. Some question require text and this should\n",
    "be written in the markdown boxes (use the dropdown menu at the top to switch between formats)\n",
    "\n",
    "## Outline:\n",
    "The goal of this assignment is to familiarise yourself with scaling relationships in earthquake\n",
    "seismology, and to understand the difference between Gaussian and Possonian distributions applied\n",
    "to long-term earthquake hazard forecasting.\n",
    "\n",
    "## Deadlines:\n",
    "Submit your assignment by 4 June 2020.\n",
    "\n",
    "## Grading:\n",
    "Show your work, be quantitative where possible and provide plots with clearly labels.\n",
    "\n",
    "## Marks:\n",
    "- Exercise 1: 15\n",
    "- Exercise 2: 10\n",
    "- Exercise 3: 10\n",
    "- Exercise 4: 10\n",
    "- Exercise 5: 15"
   ]
  },
  {
   "cell_type": "markdown",
   "metadata": {},
   "source": [
    "## Exercise 1: Questions from Stein and Wysession (Questions 20-22, Ch 4)\n",
    "\n",
    "### Question 1:\n",
    "The largest earthquakes release more total energy than smaller events, because if all the magnitude 6s\n",
    "released more energy than the magnitude 7s, the magnitude 5s released more energy than the magnitude 6s, \n",
    "and so on, then the seismic energy released by the smallest-magnitude events would approach infinity.\n",
    "What is the largest possible global value of $b$ without this impossible scenario occurring, if \n",
    "$b$ were constant down to very small magnitudes (which it appears not to be)?"
   ]
  },
  {
   "cell_type": "markdown",
   "metadata": {},
   "source": [
    "**Answer:**"
   ]
  },
  {
   "cell_type": "markdown",
   "metadata": {},
   "source": [
    "### Question 2:\n",
    "From the values given below, estimate the mean recurrence time for earthquakes with magnitudes\n",
    "greater than 6, 7 and 8 in Japan, southern California and the New Madrid seismic zone.\n",
    "\n",
    "- Japan in past 1,300 years: \n",
    "  - 190 $M>7$\n",
    "  - 20 $M>8$\n",
    "- southern California since 1816:\n",
    "  - 180 $M>6$\n",
    "  - 24 $M>7$\n",
    "  - 1 $M>8$\n",
    "- New Madrid seismic zone since 1816:\n",
    "  - 16 $M>5$\n",
    "  - 2 $M>6$."
   ]
  },
  {
   "cell_type": "markdown",
   "metadata": {},
   "source": [
    "**Answer:**"
   ]
  },
  {
   "cell_type": "markdown",
   "metadata": {},
   "source": [
    "### Question 3:\n",
    "Using only the instrumental data below, estimate the recurrence interval for an \n",
    "earthquake with magnitude 7.5 or greater in the Wasatch fault zone (Utah). Compare this \n",
    "estimate to the paleoseismically estimated number of M7-7.5 earthquakes of 0.002-0.004\n",
    "per year.\n",
    "\n",
    "| Magnitude | Annual number of earthquakes |\n",
    "|---|---|\n",
    "| 2 | 6.6 |\n",
    "| 2.5 | 2.8 |\n",
    "| 3 | 0.8 |\n",
    "| 3.5 | 0.4 |\n",
    "| 4 | 0.1 |"
   ]
  },
  {
   "cell_type": "markdown",
   "metadata": {},
   "source": [
    "**Answer:**"
   ]
  },
  {
   "cell_type": "markdown",
   "metadata": {},
   "source": [
    "## Exercise 2: Using local (New Zealand) data.\n",
    "\n",
    "1. Download the catalog for earthquakes in New Zealand for calendar years 2012-2019 for earthquake with M>3.\n",
    "2. Plot the magnitude-frequency distribution for these earthquakes. Note that some events might\n",
    "   contain multiple magnitudes - you can select the preferred magnitude using:\n",
    "   `magnitude = event.preferred_magnitude() or event.magnitudes[0]`\n",
    "3. Do these data fit a Gutenburg-Richter relationship? Fit a line to this and report the a and b values, and   estimate the magnitude of completeness.\n",
    "4. Compute the mean recurrences for earthquakes\n",
    "   - $M>6$,\n",
    "   - $M>7$,\n",
    "   - $M>8$."
   ]
  },
  {
   "cell_type": "code",
   "execution_count": null,
   "metadata": {},
   "outputs": [],
   "source": [
    "# Answer here"
   ]
  },
  {
   "cell_type": "markdown",
   "metadata": {},
   "source": [
    "## Exercise 3: Kaikoura aftershocks\n",
    "\n",
    "1. Download the GeoNet catalog between 2016/11/13 (the day of the Kaikoura M7.8 earthquake)\n",
    "   and 2018/01/01 using an appropriate spatial region to capture aftershocks associated with the\n",
    "   faults that ruptured in the mainshock - see the \n",
    "   [obspy FDSN docs](https://docs.obspy.org/packages/autogen/obspy.clients.fdsn.client.Client.get_events.html#obspy.clients.fdsn.client.Client.get_events) \n",
    "   for information on how to apply a spatial clip, and use the plotting function to ensure \n",
    "   you get everything you want.\n",
    "2. Plot the number of aftershocks with time.\n",
    "3. Try to fit an Omori law decay and the Omori-Utsu formula to these aftershocks, plot and report\n",
    "   the constants that you found.\n",
    "4. Try to reproduce [Geonet's results](https://www.geonet.org.nz/earthquake/forecast/kaikoura);\n",
    "   If you can’t reproduce them, what do you think could be the problem?"
   ]
  },
  {
   "cell_type": "code",
   "execution_count": null,
   "metadata": {},
   "outputs": [],
   "source": [
    "# Answer"
   ]
  },
  {
   "cell_type": "markdown",
   "metadata": {},
   "source": [
    "## Exercise 4: Poisson or Gaussian?\n",
    "\n",
    "Gaussian probability density function:\n",
    "\\begin{equation*}\n",
    "    p(t, \\tau, \\sigma) = \\frac{1}{\\sigma\\sqrt{2\\pi}}\\exp{\\left[\\frac{-1}{2} \\left(\\frac{t-\\tau}{\\sigma} \\right)^2 \\right]}\n",
    "\\end{equation*}\n",
    "where $t$ is time, $\\tau$ is the mean recurrence time and $\\sigma$ is the standard deviation\n",
    "in the recurrence time.\n",
    "\n",
    "1. Write a function to integrate (using the trapzoidal rule) a Gaussian probability \n",
    "   function $p(t, \\tau, \\sigma)$ over the interval *-t* to *t*.\n",
    "2. Use the function to find the integral of $p(t, \\tau, \\sigma)$ over the interval \n",
    "   $-10\\le t\\le 10$ with $\\tau=0$ and $\\sigma=5$. Explain your result.\n",
    "3. Write a function to estimate the conditional probability, using Gaussian and Poisson\n",
    "   models, that an earthquake will occur in a specified time interval, given the time\n",
    "   of the last earthquake and the mean and standard deviation of the recurrence time.\n",
    "4. Check your routine using Figure 4.7-9 of Stein and Wysession for 20-year\n",
    "   periods beginning in 1983, 2057 and 2157."
   ]
  },
  {
   "cell_type": "code",
   "execution_count": null,
   "metadata": {},
   "outputs": [],
   "source": [
    "# Answer"
   ]
  },
  {
   "cell_type": "markdown",
   "metadata": {},
   "source": [
    "## Exercise 5: Alpine Fault probabilities\n",
    "\n",
    "1. Read [Berryman et al. (2012)](http://science.sciencemag.org/content/336/6089/1690) \n",
    "   to familiarise yourself with recent research into earthquake recurrence on the \n",
    "   southern Alpine Fault\n",
    "2. Use your program from **Exercise 4** to compute the conditional probability of an Alpine Fault\n",
    "   earthquake assuming a Gaussian model, the mean and standard deviation of\n",
    "   the recurrence interval obtained by Berryman et al., and the last earthquake\n",
    "   was in 1717 AD.\n",
    "3. Compare, in the form of one or two quantitative paragraphs, your answer to\n",
    "   the above with the results published by \n",
    "   [Biasi et al. (2015)](https://pubs.geoscienceworld.org/ssa/bssa/article/105/1/94/323674/maximum-likelihood-recurrence-parameters-and) \n",
    "   using a more sophisticated statistical approach, or with this newer article by [Howarth et al. (2018)] (https://doi.org/10.1080/00288306.2018.1464658) "
   ]
  },
  {
   "cell_type": "code",
   "execution_count": null,
   "metadata": {},
   "outputs": [],
   "source": [
    "# Answer - code here"
   ]
  },
  {
   "cell_type": "markdown",
   "metadata": {},
   "source": [
    "**Answer: text here**"
   ]
  }
 ],
 "metadata": {
  "kernelspec": {
   "display_name": "Python 3",
   "language": "python",
   "name": "python3"
  },
  "language_info": {
   "codemirror_mode": {
    "name": "ipython",
    "version": 3
   },
   "file_extension": ".py",
   "mimetype": "text/x-python",
   "name": "python",
   "nbconvert_exporter": "python",
   "pygments_lexer": "ipython3",
   "version": "3.7.6"
  }
 },
 "nbformat": 4,
 "nbformat_minor": 2
}
