{
 "cells": [
  {
   "cell_type": "markdown",
   "metadata": {},
   "source": [
    "# Earthquake detection\n",
    "\n",
    "The first step in the process of developing an earthquake catalogue is to detect earthquakes.  The efficacy of the detection system has a fundamental impact on the completeness of a given catalogue: if you can't detect an earthquake, you can't do anything else with it either.\n",
    "\n",
    "## Brief history:\n",
    "1. Visual identification of earthquakes on drums;\n",
    "2. Triggered digital seismographs - usually triggered by an energy detector;\n",
    "3. Continuous data (due to the availability of large digital storage media) and offline detection using techniques including:\n",
    "    - Energy detectors like STA/LTA\n",
    "    - Similarity detectors\n",
    "    - Machine learning"
   ]
  },
  {
   "cell_type": "markdown",
   "metadata": {},
   "source": [
    "## What makes an earthquake different from noise?\n",
    "\n",
    "To start off, lets think about how we would notice an earthquake in a seismogram. The key things to look out for are:\n",
    "1. Amplitude change (but small earthquakes may fall below the noise level);\n",
    "2. Frequency change (but then we miss low-frequency earthquakes...);\n",
    "3. Polarization changes - P and S waves are polarized, noise is generally randomly polarized.\n",
    "\n",
    "Lets look at some of these changes in a seismic sequence."
   ]
  },
  {
   "cell_type": "code",
   "execution_count": null,
   "metadata": {
    "tags": [
     "nbval-ignore-output"
    ]
   },
   "outputs": [],
   "source": [
    "# Notebook set-up\n",
    "%matplotlib notebook\n",
    "import matplotlib.pyplot as plt\n",
    "plt.style.use('ggplot')\n",
    "\n",
    "import numpy as np\n",
    "from obspy import UTCDateTime\n",
    "from obspy.clients.fdsn import Client\n",
    "\n",
    "client = Client(\"GEONET\")\n",
    "starttime = UTCDateTime(2019, 4, 28)\n",
    "endtime = starttime + 86400\n",
    "\n",
    "st = client.get_waveforms(\n",
    "    network=\"NZ\", location=\"10\", station=\"PXZ\", channel=\"HH?\",\n",
    "    starttime=starttime, endtime=endtime)\n",
    "\n",
    "fig = st.plot(handle=True)\n",
    "plt.show()"
   ]
  },
  {
   "cell_type": "markdown",
   "metadata": {},
   "source": [
    "The data we have downloaded are for a station near Porangahau - this region is prone to earthquake swarms, and the one we are going to look at here\n",
    "appears to be associated with an ongoing slow-slip episode (check out the GNSS time-series plots for site [PAWA here](https://www.geonet.org.nz/data/gnss/map)).  GeoNet has a number of earthquakes on this day, lets have a look at what they have close\n",
    "to this station and see if we can detect them all."
   ]
  },
  {
   "cell_type": "code",
   "execution_count": null,
   "metadata": {
    "tags": [
     "nbval-ignore-output"
    ]
   },
   "outputs": [],
   "source": [
    "geonet_catalog = client.get_events(\n",
    "    starttime=starttime, endtime=endtime,\n",
    "    minlatitude=-40.406, maxlatitude=-40.137,\n",
    "    minlongitude=176.588, maxlongitude=176.88)\n",
    "print(\"GeoNet has {0} events between {1} and {2} in the region of interest\".format(\n",
    "    len(geonet_catalog), starttime, endtime))\n",
    "fig = geonet_catalog.plot(projection=\"local\", resolution=\"h\")"
   ]
  },
  {
   "cell_type": "markdown",
   "metadata": {},
   "source": [
    "Now that we have some data that we know is likely to contain earthquake waveforms, lets have a look at one of the earthquakes and see if\n",
    "we can see the characteristics that differentiate it from noise. Lets pick the first earthquake in the catalog we downloaded for simplicity."
   ]
  },
  {
   "cell_type": "code",
   "execution_count": null,
   "metadata": {
    "tags": [
     "nbval-ignore-output"
    ]
   },
   "outputs": [],
   "source": [
    "event = geonet_catalog[0]\n",
    "# Trim the waveform around the event\n",
    "event_st = st.slice(\n",
    "    event.preferred_origin().time - 60,\n",
    "    event.preferred_origin().time + 120).copy()\n",
    "fig = event_st.plot(handle=True)\n",
    "plt.show()"
   ]
  },
  {
   "cell_type": "markdown",
   "metadata": {},
   "source": [
    "We can see there is a clear change in amplitude and frequency - we can also look at the spectrogram to see those changes."
   ]
  },
  {
   "cell_type": "code",
   "execution_count": null,
   "metadata": {
    "tags": [
     "nbval-ignore-output"
    ]
   },
   "outputs": [],
   "source": [
    "fig = event_st.select(component=\"Z\").spectrogram(dbscale=True, log=True)"
   ]
  },
  {
   "cell_type": "markdown",
   "metadata": {},
   "source": [
    "We can see that there is an increase in power above 2 Hz at the onset of the P-wave. We know that Earth's noise is dominant at low frequencies,\n",
    "and we also know something about filtering.  Lets try highpassing the data to make the earthquake phases clearer. Remember that filtering\n",
    "data changes the phase as well, so this will affect our estimation of when the earthquake phases arrive... Something to bear in mind when\n",
    "thinking about phase-picking later! (*Note*: always try to pick on unfiltered data!)"
   ]
  },
  {
   "cell_type": "code",
   "execution_count": null,
   "metadata": {
    "tags": [
     "nbval-ignore-output"
    ]
   },
   "outputs": [],
   "source": [
    "filtered = event_st.copy().detrend().filter(\"highpass\", freq=1.5, corners=2)\n",
    "fig = filtered.plot(equal_scale=False, handle=True)\n",
    "plt.show()"
   ]
  },
  {
   "cell_type": "markdown",
   "metadata": {},
   "source": [
    "Cool! That looks clearer - as ever, filters are useful for enhancing signal-to-noise ratio. What filters you apply are determined by what **you** think is noise and signal!"
   ]
  },
  {
   "cell_type": "markdown",
   "metadata": {},
   "source": [
    "## Amplitude/energy detectors\n",
    "\n",
    "One of the simplest ways to detect earthquakes is to look for high-amplitudes in our seismograms and assume that these are earthquake phase arrivals. We will develop one of these detectors and use it for our data.  Because we do not know the noise-level of our data, and noise level usually varies across stations and through time (night is usually quieter than day because of human activity, storms often increase noise levels, amongst other factors), we will use a ratio of the short-term amplitude (STA) to the long-term amplitude (LTA) to look for short duration increases in amplitude. This kind of detector is commonly termed an STA/LTA detector.\n",
    "\n",
    "ObsPy has a few different [detectors](https://docs.obspy.org/tutorial/code_snippets/trigger_tutorial.html), including a [recursive sta/lta](https://docs.obspy.org/packages/autogen/obspy.signal.trigger.recursive_sta_lta.html#obspy.signal.trigger.recursive_sta_lta) detector that we are going to use here."
   ]
  },
  {
   "cell_type": "code",
   "execution_count": null,
   "metadata": {
    "tags": [
     "nbval-ignore-output"
    ]
   },
   "outputs": [],
   "source": [
    "from obspy.signal.trigger import recursive_sta_lta, plot_trigger\n",
    "\n",
    "tr = event_st.select(component=\"Z\")[0]\n",
    "tr = tr.copy().filter(\"highpass\", freq=2, corners=2)\n",
    "detector = recursive_sta_lta(\n",
    "    tr.data, \n",
    "    nsta=int(0.5 * tr.stats.sampling_rate), \n",
    "    nlta=int(10 * tr.stats.sampling_rate))\n",
    "fig = plot_trigger(tr, detector, thr_on=4, thr_off=0.5)"
   ]
  },
  {
   "cell_type": "markdown",
   "metadata": {},
   "source": [
    "You can see that we get a peak in the STA/LTA ratio when the P-wave arrives. We would use that peak to generate an alert or trigger.  Usually some threshold is set to turn the trigger on (`thr_on` in the code above), and another threshold is set such that no triggers are raised until the STA/LTA ratio drops beneath that level (`thr_off` in the code above).  This second threshold is set to avoid multiple triggers for the different phases of the earthquake waveform. However, this can mean that closely spaced events are missed.\n",
    "\n",
    "Play around with different STA and LTA lengths, a general rule of thumb is that your STA length should be similar \n",
    "to the duration of the impulsive P-arrival, and your LTA length should be long enough to capture a few wavelengths \n",
    "of the dominant low-frequency noise.\n",
    "\n",
    "Try different filters as well, remember that filtering can be used to enhance signal and suppress noise, if\n",
    "applied correctly!"
   ]
  },
  {
   "cell_type": "code",
   "execution_count": null,
   "metadata": {},
   "outputs": [],
   "source": [
    "# Try some different parameters here!"
   ]
  },
  {
   "cell_type": "markdown",
   "metadata": {},
   "source": [
    "This is reasonably efficient, so we can easily apply this method to longer data streams.  Lets have a look at the\n",
    "whole day of data and extract the detections and have a look at them! You can change the parameters to those that\n",
    "you found to work well above."
   ]
  },
  {
   "cell_type": "code",
   "execution_count": null,
   "metadata": {
    "tags": [
     "nbval-ignore-output"
    ]
   },
   "outputs": [],
   "source": [
    "tr = st.select(component=\"Z\")[0]\n",
    "tr = tr.copy().filter(\"highpass\", freq=2, corners=2)\n",
    "detector = recursive_sta_lta(\n",
    "    tr.data, \n",
    "    nsta=int(0.5 * tr.stats.sampling_rate), \n",
    "    nlta=int(10 * tr.stats.sampling_rate))\n",
    "fig = plot_trigger(tr, detector, thr_on=5, thr_off=0.5)"
   ]
  },
  {
   "cell_type": "markdown",
   "metadata": {},
   "source": [
    "Now that we have a charectaristic function (in this case our STA/LTA array), we can make\n",
    "some detections.  To start with, we will set a threshold value and extract waveforms for\n",
    "everything above that threshold:"
   ]
  },
  {
   "cell_type": "code",
   "execution_count": null,
   "metadata": {
    "tags": [
     "nbval-ignore-output"
    ]
   },
   "outputs": [],
   "source": [
    "# Lets extract everything above some threshold\n",
    "threshold = 5.0\n",
    "trigger_off_time = 2.0  # We won't allow re-triggering for this\n",
    "# time in seconds after a trigger.\n",
    "\n",
    "# We will use the scipy function: find_peaks to find the highest values - note that this\n",
    "# is likely to not correspond to the P-onset.\n",
    "from scipy.signal import find_peaks\n",
    "\n",
    "peaks, _ = find_peaks(\n",
    "    detector, height=threshold, \n",
    "    distance=int(trigger_off_time * tr.stats.sampling_rate))\n",
    "\n",
    "peak_times = [tr.stats.starttime + (peak * tr.stats.delta) for peak in peaks]\n",
    "print(\"Found {0} peaks\".format(len(peaks)))\n",
    "\n",
    "def extract_detections(tr, detection_times, pre_detection=10, post_detection=100):\n",
    "    detections = []\n",
    "    for detection in detection_times:\n",
    "        detections.append(\n",
    "            tr.slice(detection - pre_detection, \n",
    "                     detection + post_detection).copy())\n",
    "    return detections\n",
    "\n",
    "detections = extract_detections(tr, peak_times)\n",
    "\n",
    "# Lets just look at the first five detections to avoid making lots of plots\n",
    "for detection in detections[0:5]:\n",
    "    fig, ax = plt.subplots()\n",
    "    fig = detection.plot(fig=fig)\n",
    "plt.show()"
   ]
  },
  {
   "cell_type": "markdown",
   "metadata": {},
   "source": [
    "We can see that we can detect impulsive events (and quite a few non-implusive!), but so far we have only looked at a single station.  While this\n",
    "can provide useful information, in general we need to see the waveforms on multiple stations to do anything useful\n",
    "with the event (e.g. location). We also might have local noise sources like rockfalls, machinery, or lightning that\n",
    "would raise a *false* trigger. To avoid these we can use a *coincidence triggering* routine. Obspy already has\n",
    "a [coincidence triggering routine](https://docs.obspy.org/tutorial/code_snippets/trigger_tutorial.html), as well\n",
    "as various different trigger routines.\n",
    "\n",
    "We will make use of their recursive STA/LTA routine (which incorporates a decay term to reduce the effect of impulsive\n",
    "events on the LTA after they have happened).We will also use the Obspy coincidence trigger function to find detections that are shared\n",
    "across a network of stations."
   ]
  },
  {
   "cell_type": "code",
   "execution_count": null,
   "metadata": {
    "tags": [
     "nbval-ignore-output"
    ]
   },
   "outputs": [],
   "source": [
    "from obspy import Stream\n",
    "\n",
    "sta_chans = [('PXZ', 'HH?'), ('PRHZ', 'EH?'), ('KAHZ', 'EH?'),\n",
    "             ('WPHZ', 'EH?')]\n",
    "st = Stream()\n",
    "# Loop over the station, channel pairs defined above\n",
    "for station, channel in sta_chans:\n",
    "    st += client.get_waveforms(\n",
    "        network=\"NZ\", station=station, location=\"10\",\n",
    "        channel=channel, starttime=starttime, endtime=endtime)\n",
    "fig, ax = plt.subplots()\n",
    "fig = st.plot(equal_scale=False, size=(800, 750), fig=fig)"
   ]
  },
  {
   "cell_type": "code",
   "execution_count": null,
   "metadata": {},
   "outputs": [],
   "source": [
    "from obspy.signal.trigger import coincidence_trigger\n",
    "\n",
    "st.filter(\"highpass\", freq=2, corners=2)\n",
    "st2 = st.select(component=\"Z\") # It is normal to just use the\n",
    "# vertical channel, but not necessary.\n",
    "\n",
    "# Generate a list of triggers: note that this does not use an\n",
    "# explicit re-triggering time limit, rather it uses a secondary\n",
    "# threshold as discussed above.\n",
    "# This will make detections only if a detection occurs on at-least\n",
    "# 3 stations (set by thr_coincidence_sum)\n",
    "trig = coincidence_trigger(\n",
    "    \"recstalta\", thr_on=7.0, thr_off=1, \n",
    "    stream=st2, thr_coincidence_sum=3, sta=0.5, lta=10)\n",
    "print(\"Found {0} triggers\".format(len(trig)))"
   ]
  },
  {
   "cell_type": "markdown",
   "metadata": {},
   "source": [
    "Lets extract each detection on station PXZ, channel HHZ and look at them."
   ]
  },
  {
   "cell_type": "code",
   "execution_count": null,
   "metadata": {
    "tags": [
     "nbval-ignore-output"
    ]
   },
   "outputs": [],
   "source": [
    "tr = st.select(station=\"PXZ\", component=\"Z\")[0]\n",
    "detections = extract_detections(tr, [t['time'] for t in trig])\n",
    "# Lets just look at the first five detections to avoid making lots of plots\n",
    "for detection in detections[0:5]:\n",
    "    fig, ax = plt.subplots()\n",
    "    fig = detection.plot(fig=fig)\n",
    "plt.show()"
   ]
  },
  {
   "cell_type": "markdown",
   "metadata": {},
   "source": [
    "Clearly there are lots of impulsive events in this day, probably more than GeoNet has in it's catalogue.  You can play with the\n",
    "parameters above and see what the thresholds do to the number of detections you make.  **BUT** GeoNet has strict parameters for detection that ensure only high-quality detections are retained - this means that there is space for scientists to do cool things!\n",
    "\n",
    "It is common to take a list of detections from such a routine and then use an automatic picker, or to manually pick\n",
    "the phases to determine which triggers are real and of interest, and which can be ignored.  For GeoNet, they use an\n",
    "automatic picker, followed by manual evaluation of quality.  GeoNet often will not include events with fewer than\n",
    "10 picks in its catalogue, which effectively limits the magnitude of completeness of the catalogue (the magnitude\n",
    "above which all events are thought to be included in the catalogue). This often means that, with careful analysis,\n",
    "many more earthquakes can be detected than are in the national catalogue.  Furthermore, by using data from additional stations, we can build an even more detailled picture of the seismicity in a region."
   ]
  },
  {
   "cell_type": "markdown",
   "metadata": {},
   "source": [
    "## Matched-filter detection"
   ]
  },
  {
   "cell_type": "markdown",
   "metadata": {},
   "source": [
    "You will have noticed that lots of the earthquakes we detected above come from a similar location and have similar waveforms.\n",
    "When earthquakes waveforms are similar we can exploit this similarity for detection: we can use correlation between a template\n",
    "waveform and the continuous data to generate a characteristic function, and detect using that. This has a few advantages:\n",
    "1. Correlation detectors are not as sensitive to noise amplitudes as energy (e.g. STA/LTA) detectors, so they\n",
    "   can detect low signal-to-noise ratio events;\n",
    "2. Correlation detectors do not require amplitudes to return to low levels, meaning that multiple events that\n",
    "   occur close in time can be detected\n",
    "   \n",
    "However, similarity detectors have some major disadvantages:\n",
    "1. You can only detect things that you have seen before - you need a template event;\n",
    "2. This limits you to events close in space and with similar focal mechanisms.\n",
    "\n",
    "This means that similarity detectors are really useful for swarms and aftershock sequences, but are less well suited\n",
    "to detecting background seismicity.\n",
    "\n",
    "Lets develop a simple, single-channel matched-filter for our swarm.  We will start by extracting the waveforms for\n",
    "the events in the GeoNet catalog to use as *templates*, then we will correlate these with the continuous data."
   ]
  },
  {
   "cell_type": "code",
   "execution_count": null,
   "metadata": {
    "tags": [
     "nbval-ignore-output"
    ]
   },
   "outputs": [],
   "source": [
    "tr = st.select(station=\"PXZ\", component=\"Z\")[0]\n",
    "filtered = tr.copy().detrend().filter(\"highpass\", freq=2, corners=2)\n",
    "geonet_times = [e.preferred_origin().time for e in geonet_catalog]\n",
    "templates = extract_detections(\n",
    "    tr=filtered, detection_times=geonet_times, pre_detection=-6, \n",
    "    post_detection=12)\n",
    "# Lets just look at the first five again\n",
    "for template in templates[0:5]:\n",
    "    fig, ax = plt.subplots()\n",
    "    fig = template.plot(fig=fig)\n",
    "plt.show()"
   ]
  },
  {
   "cell_type": "markdown",
   "metadata": {},
   "source": [
    "For the correlations we will use Obspy's [correlation detector](https://docs.obspy.org/packages/autogen/obspy.signal.cross_correlation.correlation_detector.html#obspy.signal.cross_correlation.correlation_detector) - there are also options in obspy for multi-channel\n",
    "templates.  Other packages (including [EQcorrscan](https://eqcorrscan.readthedocs.io/en/latest/) and \n",
    "[FastMatchedFilter](https://github.com/beridel/fast_matched_filter)) have been developed to compute\n",
    "matched-filter detections as well, and are often faster."
   ]
  },
  {
   "cell_type": "code",
   "execution_count": null,
   "metadata": {},
   "outputs": [],
   "source": [
    "from obspy import Stream\n",
    "from obspy.signal.cross_correlation import correlation_detector\n",
    "\n",
    "threshold = 0.4  # Normalised correlations lie in the range -1.0 -- 1.0\n",
    "trig_off_time = 2.0\n",
    "\n",
    "# We have to give `correlation_detector` streams\n",
    "stream = Stream([tr])\n",
    "template_streams = [Stream([template]) for template in templates]\n",
    "\n",
    "# The correlation detector is very memory intensive! So we loop through it to free memory each go.\n",
    "detections = []\n",
    "for template in template_streams:\n",
    "    dets, _ = correlation_detector(\n",
    "        stream=stream, templates=[template], heights=threshold, \n",
    "        distance=trig_off_time)\n",
    "    detections.extend(dets)\n",
    "print(\"Made {0} detections from {1} templates\".format(\n",
    "    len(detections), len(templates)))"
   ]
  },
  {
   "cell_type": "markdown",
   "metadata": {},
   "source": [
    "Lets have a look at those detections!"
   ]
  },
  {
   "cell_type": "code",
   "execution_count": null,
   "metadata": {
    "tags": [
     "nbval-ignore-output"
    ]
   },
   "outputs": [],
   "source": [
    "detection_waveforms = extract_detections(\n",
    "    tr=filtered, pre_detection=0, post_detection=6,\n",
    "    detection_times=[d[\"time\"] for d in detections])\n",
    "# Again, just the first five\n",
    "for d in detection_waveforms[0:5]:\n",
    "    fig, ax = plt.subplots()\n",
    "    fig = d.plot(fig=fig)\n",
    "plt.show()"
   ]
  },
  {
   "cell_type": "markdown",
   "metadata": {},
   "source": [
    "Most of the detections look like earthquakes.  We could lower the threshold and make more detections, however we would be\n",
    "better off extending to multiple stations.  For a demonstration of the efficacy of matched-filters to earthquake detection,\n",
    "see the paper by [Warren-Smith et al. (2017)](https://pubs.geoscienceworld.org/ssa/srl/article/88/4/1065/354127/high-precision-analysis-of-an-aftershock-sequence).\n",
    "This also documents a nice extension from detection to re-picking that then enables high-precision relocations to be computed\n",
    "to study structures.  This is definitely recommended reading!"
   ]
  },
  {
   "cell_type": "markdown",
   "metadata": {},
   "source": [
    "---\n",
    "\n",
    "# Phase picking\n",
    "\n",
    "Now we have detected some earthquakes we should do something with them.  We will discuss location of earthquakes in\n",
    "a future class, but classical earthquake detection and analysis requires the\n",
    "accurate identification of seismic phase arrivals.  In this section we will look at some picking strategies and\n",
    "think about a few automatic pickers implemented in Obspy.\n",
    "\n",
    "First, lets take an example of an earthquake in the GeoNet catalog and plot the waveforms with the picks overlain."
   ]
  },
  {
   "cell_type": "code",
   "execution_count": null,
   "metadata": {
    "tags": [
     "nbval-ignore-output"
    ]
   },
   "outputs": [],
   "source": [
    "from obspy import Stream\n",
    "from obspy.clients.fdsn import Client\n",
    "\n",
    "from gphs445_utilities.plot_event import get_geonet_waveforms, plot_picked\n",
    "\n",
    "client = Client(\"GEONET\")\n",
    "cat = client.get_events(eventid=\"2018p546311\")\n",
    "event = cat[0]\n",
    "print(\"Event has {0} picks\".format(len(event.picks)))\n",
    "# We will remove the picks from strong motion sites, they often have poor timing\n",
    "# This \"list-comprehension\" overwrite the \"picks\" attibrute of the event\n",
    "# with all the picks that were not made on a channel with code starting with \"B\"\n",
    "event.picks = [p for p in event.picks \n",
    "               if p.waveform_id.channel_code[0] != \"B\"]\n",
    "\n",
    "# Lets just look at the earliest picked ten stations.\n",
    "\n",
    "# Sort the picks by time\n",
    "event.picks.sort(key=lambda p: p.time)\n",
    "# Make a list of the station codes for the first ten stations\n",
    "first_ten_stations = {p.waveform_id.station_code for p in event.picks[0:10]}\n",
    "# Now overwrite the \"picks\" attribute with only picks from one of those ten stations\n",
    "event.picks = [p for p in event.picks if p.waveform_id.station_code in first_ten_stations]\n",
    "\n",
    "# Now we will get the data that we want to plot\n",
    "st = get_geonet_waveforms(\n",
    "    event, delay=10, length=25, all_components=True)\n",
    "\n",
    "# Write out the stream for later\n",
    "st.write(\"Stream_to_be_picked.ms\", format=\"MSEED\")\n",
    "\n",
    "fig = plot_picked(event, st)\n",
    "plt.show()"
   ]
  },
  {
   "cell_type": "markdown",
   "metadata": {},
   "source": [
    "Note that S-phases are more difficult for automatic pickers to identify correctly, and can be difficult to pick manually because the arrive within the coda of earlier waves (like the P-wavetrain!). However, the additional information from S arrivals can greatly improve locations, particularly for offshore earthquakes (with poor azimuthal coverage).\n",
    "\n",
    "Lets zoom in on those P-picks."
   ]
  },
  {
   "cell_type": "code",
   "execution_count": null,
   "metadata": {
    "tags": [
     "nbval-ignore-output"
    ]
   },
   "outputs": [],
   "source": [
    "short_st = Stream()\n",
    "for pick in event.picks:\n",
    "    if pick.phase_hint[0].upper() != \"P\":\n",
    "        continue\n",
    "    tr = st.select(id=pick.waveform_id.get_seed_string())\n",
    "    tr = tr.slice(pick.time - 0.5, pick.time + 2).copy()\n",
    "    short_st += tr\n",
    "short_st.merge().sort([\"starttime\"])\n",
    "fig = plot_picked(event, short_st)\n",
    "plt.show()"
   ]
  },
  {
   "cell_type": "markdown",
   "metadata": {},
   "source": [
    "From this view we can see that some arrivals are more impulsive than others.  The general rule is to **pick the first break** where\n",
    "a break is a deviation from the background noise to the earthquake waveform. This will give you the arrival of the first arriving P-phase, \n",
    "which can be used to infer the hypocenter; the location that the earthquake started.  Sometimes this first break can be hard to spot\n",
    "the change, either due to emmergent waveforms (common in media that have strong resonance) or low signal to noise ratios. It is normal\n",
    "to estimate your pick uncertainty when making manual picks.  This pick uncertainty can be incorporated into earthquake location inversions\n",
    "to weight the inversion, and to constrain the final location uncertainty.  Remember that earthquake locations are models of where an earthquake\n",
    "happened, and they have some intrinsic uncertainty associated with them."
   ]
  },
  {
   "cell_type": "markdown",
   "metadata": {},
   "source": [
    "## Pick your own\n",
    "\n",
    "I have written a little interactive plot for you to pick your own waveforms with. You will use this for the assignment as well. Bear in mind that this is a simple application for picking P and S phases. Other software are available and would be recommended for research or commercial purposes because they give you more control and options for picking and uncertainty. Some popular software packages are:\n",
    "- [Seisan](http://seis.geus.net/software/seisan/seisan.html)\n",
    "- [SAC](https://ds.iris.edu/files/sac-manual/)\n",
    "- [Seiscomp](https://www.seiscomp3.org/)\n",
    "\n",
    "To start with we will try picking the event we just looked at. You can compare your picks to the GeoNet picks once you are done.\n",
    "\n",
    "To use the picking GUI (Graphical User Interface), run the cell below.  A plotting window should pop-up along with some instructions beneath the cell below. You can use the mouse to pick and delete picks, and use the buttons (zoom window, arrows, forward, backwards) in the GUI window to move around the plot and get the where you want to be.  You can also resize the window to make it easier to see individual channels.\n",
    "\n",
    "Once you are done you should close the window. The picks are automatically stored in memory and when you close the plot, they are returned as an event.  The final line of cose in the cell below saves the picks to a file on disk.\n",
    "\n",
    "**Note:** We need to use a fully interactive plotting backend for the `SeismicPicker` to work, using the line `%matplotlib` sets us up with the default backend.  You won't see plots in the notebook, instead you will get pop-up windows.\n",
    "\n",
    "**YOU WILL NEED TO RESTART YOUR KERNEL (press the  button at the top of the screen) BEFORE RUNNING THE NEXT SET OF CELLS OTHERWISE THE PICKER WILL NEVER RETURN!**"
   ]
  },
  {
   "cell_type": "code",
   "execution_count": null,
   "metadata": {
    "tags": [
     "nbval-skip"
    ]
   },
   "outputs": [],
   "source": [
    "%matplotlib\n",
    "\n",
    "from obspy import read\n",
    "from gphs445_utilities.seismic_picker import SeismicPicker\n",
    "from obspy.core.event import ResourceIdentifier\n",
    "\n",
    "st = read(\"Stream_to_be_picked.ms\")\n",
    "\n",
    "event_id = \"2018p546311\"\n",
    "\n",
    "picked_event = SeismicPicker(st).pick()\n",
    "# Because this event already has an ID number, you can add that in to the event\n",
    "# to help you keep track of things:\n",
    "\n",
    "picked_event.resource_id = ResourceIdentifier(id=event_id)\n",
    "\n",
    "# You will want to save your picks using this.\n",
    "outfile = f\"{event_id}_picked.xml\"\n",
    "picked_event.write(outfile, format=\"QUAKEML\")\n",
    "print(f\"Written picks to {outfile}\")\n",
    "# Note you should try and keep the event ID in the filename"
   ]
  },
  {
   "cell_type": "markdown",
   "metadata": {},
   "source": [
    "You can change the event_id above and you will get a different event to pick.  Pick at least 10 and compare\n",
    "your picks to the GeoNet picks.\n",
    "\n",
    "You can re-load your picks using:\n",
    "\n",
    "```python\n",
    "from obspy import read_events\n",
    "\n",
    "catalog = read_events(\"your-pickfile-here\") # Replace with the file you want to read in\n",
    "```"
   ]
  },
  {
   "cell_type": "markdown",
   "metadata": {},
   "source": [
    "## Machine learning\n",
    "\n",
    "Recent advances in machine learning have led to novel earthquake detection methods. \n",
    "A [recent review paper](https://pubs.geoscienceworld.org/ssa/srl/article/90/1/3/566430/machine-learning-in-seismology-turning-data-into)\n",
    "is worth a read to see how modern computational methods are being applied to earthquake detection and\n",
    "characterization problems."
   ]
  }
 ],
 "metadata": {
  "kernelspec": {
   "display_name": "Python 3 (ipykernel)",
   "language": "python",
   "name": "python3"
  },
  "language_info": {
   "codemirror_mode": {
    "name": "ipython",
    "version": 3
   },
   "file_extension": ".py",
   "mimetype": "text/x-python",
   "name": "python",
   "nbconvert_exporter": "python",
   "pygments_lexer": "ipython3",
   "version": "3.8.12"
  }
 },
 "nbformat": 4,
 "nbformat_minor": 2
}
